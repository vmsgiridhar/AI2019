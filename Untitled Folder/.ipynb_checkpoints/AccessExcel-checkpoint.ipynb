{
 "cells": [
  {
   "cell_type": "code",
   "execution_count": 1,
   "metadata": {},
   "outputs": [],
   "source": [
    "import pandas as pd"
   ]
  },
  {
   "cell_type": "code",
   "execution_count": 3,
   "metadata": {},
   "outputs": [],
   "source": [
    "dataset = pd.read_excel('Book1.xlsx')"
   ]
  },
  {
   "cell_type": "code",
   "execution_count": 5,
   "metadata": {},
   "outputs": [
    {
     "data": {
      "text/html": [
       "<div>\n",
       "<style scoped>\n",
       "    .dataframe tbody tr th:only-of-type {\n",
       "        vertical-align: middle;\n",
       "    }\n",
       "\n",
       "    .dataframe tbody tr th {\n",
       "        vertical-align: top;\n",
       "    }\n",
       "\n",
       "    .dataframe thead th {\n",
       "        text-align: right;\n",
       "    }\n",
       "</style>\n",
       "<table border=\"1\" class=\"dataframe\">\n",
       "  <thead>\n",
       "    <tr style=\"text-align: right;\">\n",
       "      <th></th>\n",
       "      <th>Sno</th>\n",
       "      <th>Name</th>\n",
       "      <th>Desc</th>\n",
       "    </tr>\n",
       "  </thead>\n",
       "  <tbody>\n",
       "    <tr>\n",
       "      <th>0</th>\n",
       "      <td>1</td>\n",
       "      <td>Keerthana</td>\n",
       "      <td>Lorem ipsum dolor sit amet, consectetur adipis...</td>\n",
       "    </tr>\n",
       "    <tr>\n",
       "      <th>1</th>\n",
       "      <td>2</td>\n",
       "      <td>Giridhar</td>\n",
       "      <td>Sed lacinia, sem vitae porta efficitur, enim n...</td>\n",
       "    </tr>\n",
       "  </tbody>\n",
       "</table>\n",
       "</div>"
      ],
      "text/plain": [
       "   Sno       Name                                               Desc\n",
       "0    1  Keerthana  Lorem ipsum dolor sit amet, consectetur adipis...\n",
       "1    2   Giridhar  Sed lacinia, sem vitae porta efficitur, enim n..."
      ]
     },
     "execution_count": 5,
     "metadata": {},
     "output_type": "execute_result"
    }
   ],
   "source": [
    "dataset.head()"
   ]
  },
  {
   "cell_type": "code",
   "execution_count": 6,
   "metadata": {},
   "outputs": [
    {
     "data": {
      "text/plain": [
       "pandas.core.frame.DataFrame"
      ]
     },
     "execution_count": 6,
     "metadata": {},
     "output_type": "execute_result"
    }
   ],
   "source": [
    "type(dataset)"
   ]
  },
  {
   "cell_type": "code",
   "execution_count": 11,
   "metadata": {},
   "outputs": [
    {
     "data": {
      "text/plain": [
       "str"
      ]
     },
     "execution_count": 11,
     "metadata": {},
     "output_type": "execute_result"
    }
   ],
   "source": [
    "type(dataset['Desc'][0])"
   ]
  },
  {
   "cell_type": "code",
   "execution_count": 12,
   "metadata": {},
   "outputs": [
    {
     "data": {
      "text/plain": [
       "2114"
      ]
     },
     "execution_count": 12,
     "metadata": {},
     "output_type": "execute_result"
    }
   ],
   "source": [
    "len(dataset['Desc'][0])"
   ]
  },
  {
   "cell_type": "code",
   "execution_count": null,
   "metadata": {},
   "outputs": [],
   "source": [
    "desc_split = []"
   ]
  },
  {
   "cell_type": "code",
   "execution_count": 15,
   "metadata": {},
   "outputs": [
    {
     "data": {
      "text/plain": [
       "250"
      ]
     },
     "execution_count": 15,
     "metadata": {},
     "output_type": "execute_result"
    }
   ],
   "source": [
    "len(dataset['Desc'][0][0:250])"
   ]
  },
  {
   "cell_type": "code",
   "execution_count": 17,
   "metadata": {},
   "outputs": [
    {
     "data": {
      "text/plain": [
       "250"
      ]
     },
     "execution_count": 17,
     "metadata": {},
     "output_type": "execute_result"
    }
   ],
   "source": [
    "len(dataset['Desc'][0][250:500])"
   ]
  },
  {
   "cell_type": "code",
   "execution_count": 22,
   "metadata": {},
   "outputs": [
    {
     "name": "stdout",
     "output_type": "stream",
     "text": [
      "Lorem ipsum dolor sit amet, consectetur adipiscing elit. Aenean non libero ut felis ornare ultricies. Proin mollis sodales ligula sed posuere. Nulla id justo condimentum, efficitur diam in, varius ex. Phasellus ut posuere nisl. Fusce semper id est a \n",
      "=======\n",
      "mattis. Integer at lobortis erat. Mauris vel ex sit amet tortor blandit dapibus vel vel dui. Phasellus tempor magna leo, ut vehicula velit tempor nec. Quisque viverra, mauris sed posuere convallis, metus nulla porta nibh, sed volutpat nisi leo vitae \n",
      "=======\n",
      "ipsum. Nunc blandit quam non arcu semper tempor. Etiam nec dolor sed felis aliquet mattis. Quisque ultrices nulla dolor, id egestas metus congue consectetur. Nam dolor justo, facilisis eu varius id, tempor nec urna.\n",
      "\n",
      "Maecenas mollis egestas dolor, ve\n",
      "=======\n",
      "l tempor mauris gravida ac. Quisque semper lacinia dolor, ac aliquet turpis. Donec a sodales tortor. Integer commodo leo ut magna sodales lacinia. Nam massa purus, lobortis eu dapibus ac, ullamcorper sed velit. Sed facilisis massa eu porta varius. Ma\n",
      "=======\n",
      "ecenas euismod diam vel tempor accumsan. Etiam bibendum nulla at libero luctus, id condimentum ligula aliquam. Suspendisse tempor ut quam sit amet tempor. Sed porttitor velit sed lectus ornare, feugiat accumsan nibh tempus. In pharetra elit sit amet \n",
      "=======\n",
      "semper consectetur.\n",
      "\n",
      "Duis porttitor elementum suscipit. Proin vestibulum rhoncus volutpat. Mauris a elit in lorem luctus venenatis eget id lorem. Nunc hendrerit augue sit amet facilisis pellentesque. Donec nec arcu at dui sollicitudin imperdiet. In v\n",
      "=======\n",
      "iverra ipsum lorem, eget scelerisque enim dictum ut. Vestibulum eget rutrum purus. Aenean risus dolor, cursus vel felis quis, molestie auctor nibh. Nullam sodales, justo sed luctus bibendum, odio velit tristique augue, vel viverra diam nibh in sapien\n",
      "=======\n",
      ". Morbi at ipsum auctor, sodales eros vel, ornare elit. In non vulputate mi, eu faucibus risus. Aliquam facilisis imperdiet condimentum. Mauris in sapien quam. Curabitur porttitor enim at turpis maximus, id consequat eros ultricies. Morbi fermentum l\n",
      "=======\n",
      "ibero leo, et convallis nisi feugiat ut. Duis pharetra mauris vel metus vestibulum, vel ullamcorper tortor mattis.\n",
      "=======\n"
     ]
    }
   ],
   "source": [
    "for i in range(0,len(dataset['Desc'][0]), 250):\n",
    "    print(dataset['Desc'][0][i:i+250])\n",
    "    print('=======')"
   ]
  },
  {
   "cell_type": "code",
   "execution_count": 23,
   "metadata": {},
   "outputs": [
    {
     "data": {
      "text/plain": [
       "249"
      ]
     },
     "execution_count": 23,
     "metadata": {},
     "output_type": "execute_result"
    }
   ],
   "source": [
    "len('Lorem ipsum dolor sit amet, consectetur adipiscing elit. Aenean non libero ut felis ornare ultricies. Proin mollis sodales ligula sed posuere. Nulla id justo condimentum, efficitur diam in, varius ex. Phasellus ut posuere nisl. Fusce semper id est a')"
   ]
  },
  {
   "cell_type": "code",
   "execution_count": 24,
   "metadata": {},
   "outputs": [
    {
     "data": {
      "text/plain": [
       "249"
      ]
     },
     "execution_count": 24,
     "metadata": {},
     "output_type": "execute_result"
    }
   ],
   "source": [
    "len('mattis. Integer at lobortis erat. Mauris vel ex sit amet tortor blandit dapibus vel vel dui. Phasellus tempor magna leo, ut vehicula velit tempor nec. Quisque viverra, mauris sed posuere convallis, metus nulla porta nibh, sed volutpat nisi leo vitae')"
   ]
  },
  {
   "cell_type": "code",
   "execution_count": 26,
   "metadata": {},
   "outputs": [
    {
     "data": {
      "text/plain": [
       "114"
      ]
     },
     "execution_count": 26,
     "metadata": {},
     "output_type": "execute_result"
    }
   ],
   "source": [
    "len('ibero leo, et convallis nisi feugiat ut. Duis pharetra mauris vel metus vestibulum, vel ullamcorper tortor mattis.')"
   ]
  },
  {
   "cell_type": "code",
   "execution_count": 40,
   "metadata": {},
   "outputs": [
    {
     "data": {
      "text/plain": [
       "[0, 250, 500, 750, 1000, 1250, 1500, 1750, 2000]"
      ]
     },
     "execution_count": 40,
     "metadata": {},
     "output_type": "execute_result"
    }
   ],
   "source": [
    "split_list = []\n",
    "count = [i for i in range(0, len(dataset['Desc'][0]), 250)]\n",
    "for line in dataset['Desc']:\n",
    "    for i in count:\n",
    "        split_list.append(line[i:i+250])\n",
    "split_list"
   ]
  },
  {
   "cell_type": "code",
   "execution_count": 30,
   "metadata": {},
   "outputs": [
    {
     "data": {
      "text/plain": [
       "[0, 250, 500, 750, 1000, 1250, 1500, 1750, 2000]"
      ]
     },
     "execution_count": 30,
     "metadata": {},
     "output_type": "execute_result"
    }
   ],
   "source": [
    "count = [i for i in range(0, len(dataset['Desc'][0]), 250)]"
   ]
  },
  {
   "cell_type": "code",
   "execution_count": null,
   "metadata": {},
   "outputs": [],
   "source": []
  }
 ],
 "metadata": {
  "kernelspec": {
   "display_name": "Python 3",
   "language": "python",
   "name": "python3"
  },
  "language_info": {
   "codemirror_mode": {
    "name": "ipython",
    "version": 3
   },
   "file_extension": ".py",
   "mimetype": "text/x-python",
   "name": "python",
   "nbconvert_exporter": "python",
   "pygments_lexer": "ipython3",
   "version": "3.8.3"
  }
 },
 "nbformat": 4,
 "nbformat_minor": 4
}
