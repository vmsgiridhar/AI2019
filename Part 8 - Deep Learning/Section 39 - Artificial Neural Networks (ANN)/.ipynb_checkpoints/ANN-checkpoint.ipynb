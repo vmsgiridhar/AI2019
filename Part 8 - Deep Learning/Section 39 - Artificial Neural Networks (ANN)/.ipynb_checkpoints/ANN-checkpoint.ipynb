{
 "cells": [
  {
   "cell_type": "markdown",
   "metadata": {},
   "source": [
    "# Artificial Neural Network First try\n",
    "# Classification problem\n",
    "# Convolusional Neural Networks are used in CV.\n",
    "\n",
    "# Theano - Numerical Computions library (based on Numpy). Runs on GPU too.\n",
    "# GPU is better for NN. As parallel processing could be handled by GPU\n",
    "\n",
    "# Tensorflow - Runs on CPU/GPU. Built by Google Brain\n",
    "# We build Deep Neural Network from Scratch using Tensorflow and Tensorflow\n",
    "\n",
    "# Keras - Automates the creation of Deep Neural Network with few lines of code\n",
    "# Built at Google."
   ]
  },
  {
   "cell_type": "code",
   "execution_count": null,
   "metadata": {},
   "outputs": [],
   "source": []
  }
 ],
 "metadata": {
  "kernelspec": {
   "display_name": "Python 3",
   "language": "python",
   "name": "python3"
  },
  "language_info": {
   "codemirror_mode": {
    "name": "ipython",
    "version": 3
   },
   "file_extension": ".py",
   "mimetype": "text/x-python",
   "name": "python",
   "nbconvert_exporter": "python",
   "pygments_lexer": "ipython3",
   "version": "3.7.3"
  }
 },
 "nbformat": 4,
 "nbformat_minor": 4
}
