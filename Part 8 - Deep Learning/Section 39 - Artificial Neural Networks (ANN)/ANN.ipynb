{
 "cells": [
  {
   "cell_type": "markdown",
   "metadata": {},
   "source": [
    "# Artificial Neural Network First try\n",
    "# Classification problem\n",
    "# Convolusional Neural Networks are used in CV.\n",
    "\n",
    "# Theano - Numerical Computions library (based on Numpy). Runs on GPU too.\n",
    "# GPU is better for NN. As parallel processing could be handled by GPU\n",
    "\n",
    "# Tensorflow - Runs on CPU/GPU. Built by Google Brain\n",
    "# We build Deep Neural Network from Scratch using Tensorflow and Tensorflow\n",
    "\n",
    "# Keras - Automates the creation of Deep Neural Network with few lines of code\n",
    "# Built at Google."
   ]
  },
  {
   "cell_type": "markdown",
   "metadata": {},
   "source": [
    "# Part 1 - Data Preprocessing"
   ]
  },
  {
   "cell_type": "code",
   "execution_count": 157,
   "metadata": {},
   "outputs": [],
   "source": [
    "# importing all required libraries\n",
    "import pandas as pd\n",
    "import numpy as np\n",
    "import matplotlib.pyplot as plt"
   ]
  },
  {
   "cell_type": "code",
   "execution_count": 158,
   "metadata": {},
   "outputs": [],
   "source": [
    "# importing the dataset - Bank Churn analysis - Classification problem.\n",
    "dataset = pd.read_csv('Churn_Modelling.csv')"
   ]
  },
  {
   "cell_type": "code",
   "execution_count": 159,
   "metadata": {},
   "outputs": [
    {
     "data": {
      "text/html": [
       "<div>\n",
       "<style scoped>\n",
       "    .dataframe tbody tr th:only-of-type {\n",
       "        vertical-align: middle;\n",
       "    }\n",
       "\n",
       "    .dataframe tbody tr th {\n",
       "        vertical-align: top;\n",
       "    }\n",
       "\n",
       "    .dataframe thead th {\n",
       "        text-align: right;\n",
       "    }\n",
       "</style>\n",
       "<table border=\"1\" class=\"dataframe\">\n",
       "  <thead>\n",
       "    <tr style=\"text-align: right;\">\n",
       "      <th></th>\n",
       "      <th>RowNumber</th>\n",
       "      <th>CustomerId</th>\n",
       "      <th>Surname</th>\n",
       "      <th>CreditScore</th>\n",
       "      <th>Geography</th>\n",
       "      <th>Gender</th>\n",
       "      <th>Age</th>\n",
       "      <th>Tenure</th>\n",
       "      <th>Balance</th>\n",
       "      <th>NumOfProducts</th>\n",
       "      <th>HasCrCard</th>\n",
       "      <th>IsActiveMember</th>\n",
       "      <th>EstimatedSalary</th>\n",
       "      <th>Exited</th>\n",
       "    </tr>\n",
       "  </thead>\n",
       "  <tbody>\n",
       "    <tr>\n",
       "      <th>0</th>\n",
       "      <td>1</td>\n",
       "      <td>15634602</td>\n",
       "      <td>Hargrave</td>\n",
       "      <td>619</td>\n",
       "      <td>France</td>\n",
       "      <td>Female</td>\n",
       "      <td>42</td>\n",
       "      <td>2</td>\n",
       "      <td>0.00</td>\n",
       "      <td>1</td>\n",
       "      <td>1</td>\n",
       "      <td>1</td>\n",
       "      <td>101348.88</td>\n",
       "      <td>1</td>\n",
       "    </tr>\n",
       "    <tr>\n",
       "      <th>1</th>\n",
       "      <td>2</td>\n",
       "      <td>15647311</td>\n",
       "      <td>Hill</td>\n",
       "      <td>608</td>\n",
       "      <td>Spain</td>\n",
       "      <td>Female</td>\n",
       "      <td>41</td>\n",
       "      <td>1</td>\n",
       "      <td>83807.86</td>\n",
       "      <td>1</td>\n",
       "      <td>0</td>\n",
       "      <td>1</td>\n",
       "      <td>112542.58</td>\n",
       "      <td>0</td>\n",
       "    </tr>\n",
       "    <tr>\n",
       "      <th>2</th>\n",
       "      <td>3</td>\n",
       "      <td>15619304</td>\n",
       "      <td>Onio</td>\n",
       "      <td>502</td>\n",
       "      <td>France</td>\n",
       "      <td>Female</td>\n",
       "      <td>42</td>\n",
       "      <td>8</td>\n",
       "      <td>159660.80</td>\n",
       "      <td>3</td>\n",
       "      <td>1</td>\n",
       "      <td>0</td>\n",
       "      <td>113931.57</td>\n",
       "      <td>1</td>\n",
       "    </tr>\n",
       "    <tr>\n",
       "      <th>3</th>\n",
       "      <td>4</td>\n",
       "      <td>15701354</td>\n",
       "      <td>Boni</td>\n",
       "      <td>699</td>\n",
       "      <td>France</td>\n",
       "      <td>Female</td>\n",
       "      <td>39</td>\n",
       "      <td>1</td>\n",
       "      <td>0.00</td>\n",
       "      <td>2</td>\n",
       "      <td>0</td>\n",
       "      <td>0</td>\n",
       "      <td>93826.63</td>\n",
       "      <td>0</td>\n",
       "    </tr>\n",
       "    <tr>\n",
       "      <th>4</th>\n",
       "      <td>5</td>\n",
       "      <td>15737888</td>\n",
       "      <td>Mitchell</td>\n",
       "      <td>850</td>\n",
       "      <td>Spain</td>\n",
       "      <td>Female</td>\n",
       "      <td>43</td>\n",
       "      <td>2</td>\n",
       "      <td>125510.82</td>\n",
       "      <td>1</td>\n",
       "      <td>1</td>\n",
       "      <td>1</td>\n",
       "      <td>79084.10</td>\n",
       "      <td>0</td>\n",
       "    </tr>\n",
       "    <tr>\n",
       "      <th>...</th>\n",
       "      <td>...</td>\n",
       "      <td>...</td>\n",
       "      <td>...</td>\n",
       "      <td>...</td>\n",
       "      <td>...</td>\n",
       "      <td>...</td>\n",
       "      <td>...</td>\n",
       "      <td>...</td>\n",
       "      <td>...</td>\n",
       "      <td>...</td>\n",
       "      <td>...</td>\n",
       "      <td>...</td>\n",
       "      <td>...</td>\n",
       "      <td>...</td>\n",
       "    </tr>\n",
       "    <tr>\n",
       "      <th>9995</th>\n",
       "      <td>9996</td>\n",
       "      <td>15606229</td>\n",
       "      <td>Obijiaku</td>\n",
       "      <td>771</td>\n",
       "      <td>France</td>\n",
       "      <td>Male</td>\n",
       "      <td>39</td>\n",
       "      <td>5</td>\n",
       "      <td>0.00</td>\n",
       "      <td>2</td>\n",
       "      <td>1</td>\n",
       "      <td>0</td>\n",
       "      <td>96270.64</td>\n",
       "      <td>0</td>\n",
       "    </tr>\n",
       "    <tr>\n",
       "      <th>9996</th>\n",
       "      <td>9997</td>\n",
       "      <td>15569892</td>\n",
       "      <td>Johnstone</td>\n",
       "      <td>516</td>\n",
       "      <td>France</td>\n",
       "      <td>Male</td>\n",
       "      <td>35</td>\n",
       "      <td>10</td>\n",
       "      <td>57369.61</td>\n",
       "      <td>1</td>\n",
       "      <td>1</td>\n",
       "      <td>1</td>\n",
       "      <td>101699.77</td>\n",
       "      <td>0</td>\n",
       "    </tr>\n",
       "    <tr>\n",
       "      <th>9997</th>\n",
       "      <td>9998</td>\n",
       "      <td>15584532</td>\n",
       "      <td>Liu</td>\n",
       "      <td>709</td>\n",
       "      <td>France</td>\n",
       "      <td>Female</td>\n",
       "      <td>36</td>\n",
       "      <td>7</td>\n",
       "      <td>0.00</td>\n",
       "      <td>1</td>\n",
       "      <td>0</td>\n",
       "      <td>1</td>\n",
       "      <td>42085.58</td>\n",
       "      <td>1</td>\n",
       "    </tr>\n",
       "    <tr>\n",
       "      <th>9998</th>\n",
       "      <td>9999</td>\n",
       "      <td>15682355</td>\n",
       "      <td>Sabbatini</td>\n",
       "      <td>772</td>\n",
       "      <td>Germany</td>\n",
       "      <td>Male</td>\n",
       "      <td>42</td>\n",
       "      <td>3</td>\n",
       "      <td>75075.31</td>\n",
       "      <td>2</td>\n",
       "      <td>1</td>\n",
       "      <td>0</td>\n",
       "      <td>92888.52</td>\n",
       "      <td>1</td>\n",
       "    </tr>\n",
       "    <tr>\n",
       "      <th>9999</th>\n",
       "      <td>10000</td>\n",
       "      <td>15628319</td>\n",
       "      <td>Walker</td>\n",
       "      <td>792</td>\n",
       "      <td>France</td>\n",
       "      <td>Female</td>\n",
       "      <td>28</td>\n",
       "      <td>4</td>\n",
       "      <td>130142.79</td>\n",
       "      <td>1</td>\n",
       "      <td>1</td>\n",
       "      <td>0</td>\n",
       "      <td>38190.78</td>\n",
       "      <td>0</td>\n",
       "    </tr>\n",
       "  </tbody>\n",
       "</table>\n",
       "<p>10000 rows × 14 columns</p>\n",
       "</div>"
      ],
      "text/plain": [
       "      RowNumber  CustomerId    Surname  CreditScore Geography  Gender  Age  \\\n",
       "0             1    15634602   Hargrave          619    France  Female   42   \n",
       "1             2    15647311       Hill          608     Spain  Female   41   \n",
       "2             3    15619304       Onio          502    France  Female   42   \n",
       "3             4    15701354       Boni          699    France  Female   39   \n",
       "4             5    15737888   Mitchell          850     Spain  Female   43   \n",
       "...         ...         ...        ...          ...       ...     ...  ...   \n",
       "9995       9996    15606229   Obijiaku          771    France    Male   39   \n",
       "9996       9997    15569892  Johnstone          516    France    Male   35   \n",
       "9997       9998    15584532        Liu          709    France  Female   36   \n",
       "9998       9999    15682355  Sabbatini          772   Germany    Male   42   \n",
       "9999      10000    15628319     Walker          792    France  Female   28   \n",
       "\n",
       "      Tenure    Balance  NumOfProducts  HasCrCard  IsActiveMember  \\\n",
       "0          2       0.00              1          1               1   \n",
       "1          1   83807.86              1          0               1   \n",
       "2          8  159660.80              3          1               0   \n",
       "3          1       0.00              2          0               0   \n",
       "4          2  125510.82              1          1               1   \n",
       "...      ...        ...            ...        ...             ...   \n",
       "9995       5       0.00              2          1               0   \n",
       "9996      10   57369.61              1          1               1   \n",
       "9997       7       0.00              1          0               1   \n",
       "9998       3   75075.31              2          1               0   \n",
       "9999       4  130142.79              1          1               0   \n",
       "\n",
       "      EstimatedSalary  Exited  \n",
       "0           101348.88       1  \n",
       "1           112542.58       0  \n",
       "2           113931.57       1  \n",
       "3            93826.63       0  \n",
       "4            79084.10       0  \n",
       "...               ...     ...  \n",
       "9995         96270.64       0  \n",
       "9996        101699.77       0  \n",
       "9997         42085.58       1  \n",
       "9998         92888.52       1  \n",
       "9999         38190.78       0  \n",
       "\n",
       "[10000 rows x 14 columns]"
      ]
     },
     "execution_count": 159,
     "metadata": {},
     "output_type": "execute_result"
    }
   ],
   "source": [
    "dataset"
   ]
  },
  {
   "cell_type": "code",
   "execution_count": 160,
   "metadata": {},
   "outputs": [],
   "source": [
    "# Impact of Independent Variables on Dependent Churn\n",
    "# CreditScore, Geography, Gender, Age, Tenure, Balance, NumOfProducts, HasCrCard, IsActiveMember, EstimatedSalary\n",
    "X = dataset.iloc[:,3:13].values"
   ]
  },
  {
   "cell_type": "code",
   "execution_count": 161,
   "metadata": {},
   "outputs": [
    {
     "data": {
      "text/plain": [
       "(10000, 10)"
      ]
     },
     "execution_count": 161,
     "metadata": {},
     "output_type": "execute_result"
    }
   ],
   "source": [
    "X.shape"
   ]
  },
  {
   "cell_type": "code",
   "execution_count": 162,
   "metadata": {},
   "outputs": [],
   "source": [
    "# independent variable (Exited)\n",
    "y = dataset.iloc[:, 13].values"
   ]
  },
  {
   "cell_type": "code",
   "execution_count": 163,
   "metadata": {},
   "outputs": [
    {
     "data": {
      "text/plain": [
       "(10000,)"
      ]
     },
     "execution_count": 163,
     "metadata": {},
     "output_type": "execute_result"
    }
   ],
   "source": [
    "y.shape"
   ]
  },
  {
   "cell_type": "code",
   "execution_count": 164,
   "metadata": {},
   "outputs": [],
   "source": [
    "# We will be doing Onehot Encoding as we have Categorical variables\n",
    "# from sklearn.preprocessing import OneHotEncoder, LabelEncoder\n",
    "# labelencoder_Geography = LabelEncoder()\n",
    "# labelencoder_Gender = LabelEncoder()\n",
    "# # We will need to encode only Geography and Gender\n",
    "# # for Geography\n",
    "# X[:,1] = labelencoder_Gender.fit_transform(X[:,1])\n",
    "# # for Gender\n",
    "# X[:,2] = labelencoder_Gender.fit_transform(X[:,2])\n",
    "\n",
    "# As Geography and Gender aren't ordinal (Categorical variables aren't ordinal)\n",
    "# To remove dummy variable trap we are creating the onehot encoding only for Country.\n",
    "#onehotencoder = OneHotEncoder(categories=[])\n",
    "\n",
    "# NOTE - Categorical_features as previously used is deprecated and the new version supports direct usage \n",
    "# of onehotencoder instead of labelencoder.\n",
    "\n",
    "# Link - https://stackoverflow.com/questions/54345667/onehotencoder-categorical-features-depreciated-how-to-transform-specific-column\n",
    "\n",
    "# We can do either this\n",
    "# from sklearn.preprocessing import OneHotEncoder\n",
    "# from sklearn.compose import make_column_transformer\n",
    "# A = make_column_transformer(\n",
    "#     (OneHotEncoder(categories='auto'), [0]), \n",
    "#     remainder=\"passthrough\")\n",
    "\n",
    "# x=A.fit_transform(x)\n",
    "\n",
    "# or\n",
    "\n",
    "# from sklearn.preprocessing import OneHotEncoder\n",
    "# from sklearn.compose import ColumnTransformer\n",
    "# ct = ColumnTransformer([(\"Country\", OneHotEncoder(), [0])], remainder = 'passthrough')\n",
    "# X = ct.fit_transform(X)"
   ]
  },
  {
   "cell_type": "code",
   "execution_count": 165,
   "metadata": {},
   "outputs": [
    {
     "data": {
      "text/plain": [
       "array([[619, 'France', 'Female', ..., 1, 1, 101348.88],\n",
       "       [608, 'Spain', 'Female', ..., 0, 1, 112542.58],\n",
       "       [502, 'France', 'Female', ..., 1, 0, 113931.57],\n",
       "       ...,\n",
       "       [709, 'France', 'Female', ..., 0, 1, 42085.58],\n",
       "       [772, 'Germany', 'Male', ..., 1, 0, 92888.52],\n",
       "       [792, 'France', 'Female', ..., 1, 0, 38190.78]], dtype=object)"
      ]
     },
     "execution_count": 165,
     "metadata": {},
     "output_type": "execute_result"
    }
   ],
   "source": [
    "X"
   ]
  },
  {
   "cell_type": "code",
   "execution_count": 166,
   "metadata": {},
   "outputs": [],
   "source": [
    "# Initially label encoding\n",
    "from sklearn.preprocessing import OneHotEncoder, LabelEncoder\n",
    "labelencoder_Geography = LabelEncoder()\n",
    "labelencoder_Gender = LabelEncoder()\n",
    "# We will need to encode only Geography and Gender\n",
    "# for Geography\n",
    "X[:,1] = labelencoder_Gender.fit_transform(X[:,1])\n",
    "# for Gender\n",
    "X[:,2] = labelencoder_Gender.fit_transform(X[:,2])\n",
    "\n"
   ]
  },
  {
   "cell_type": "code",
   "execution_count": 167,
   "metadata": {},
   "outputs": [
    {
     "data": {
      "text/plain": [
       "(10000, 10)"
      ]
     },
     "execution_count": 167,
     "metadata": {},
     "output_type": "execute_result"
    }
   ],
   "source": [
    "X.shape"
   ]
  },
  {
   "cell_type": "code",
   "execution_count": 168,
   "metadata": {},
   "outputs": [
    {
     "data": {
      "text/plain": [
       "array([[619, 0, 0, ..., 1, 1, 101348.88],\n",
       "       [608, 2, 0, ..., 0, 1, 112542.58],\n",
       "       [502, 0, 0, ..., 1, 0, 113931.57],\n",
       "       ...,\n",
       "       [709, 0, 0, ..., 0, 1, 42085.58],\n",
       "       [772, 1, 1, ..., 1, 0, 92888.52],\n",
       "       [792, 0, 0, ..., 1, 0, 38190.78]], dtype=object)"
      ]
     },
     "execution_count": 168,
     "metadata": {},
     "output_type": "execute_result"
    }
   ],
   "source": [
    "X"
   ]
  },
  {
   "cell_type": "code",
   "execution_count": 169,
   "metadata": {},
   "outputs": [],
   "source": [
    "# then one hot encoding all the independent variables that are not ordinal\n",
    "from sklearn.preprocessing import OneHotEncoder\n",
    "from sklearn.compose import ColumnTransformer\n",
    "ct = ColumnTransformer([(\"Country\", OneHotEncoder(), [1])], remainder = 'passthrough')\n",
    "X = ct.fit_transform(X)"
   ]
  },
  {
   "cell_type": "code",
   "execution_count": 170,
   "metadata": {},
   "outputs": [
    {
     "data": {
      "text/plain": [
       "(10000, 12)"
      ]
     },
     "execution_count": 170,
     "metadata": {},
     "output_type": "execute_result"
    }
   ],
   "source": [
    "X.shape"
   ]
  },
  {
   "cell_type": "code",
   "execution_count": 171,
   "metadata": {},
   "outputs": [
    {
     "data": {
      "text/plain": [
       "array([1.0, 0.0, 0.0, 619, 0, 42, 2, 0.0, 1, 1, 1, 101348.88],\n",
       "      dtype=object)"
      ]
     },
     "execution_count": 171,
     "metadata": {},
     "output_type": "execute_result"
    }
   ],
   "source": [
    "X[0]"
   ]
  },
  {
   "cell_type": "code",
   "execution_count": 172,
   "metadata": {},
   "outputs": [],
   "source": [
    "# Here in the X[0] we can see the Country and Gender being modified using one-hot-encoder\n",
    "# Now lets drop one of the columns in Country to avoid Dummy variable Trap, for Gender it is anyway 0,1 in the same columsn\n"
   ]
  },
  {
   "cell_type": "code",
   "execution_count": 173,
   "metadata": {},
   "outputs": [
    {
     "data": {
      "text/plain": [
       "(10000, 12)"
      ]
     },
     "execution_count": 173,
     "metadata": {},
     "output_type": "execute_result"
    }
   ],
   "source": [
    "X.shape"
   ]
  },
  {
   "cell_type": "code",
   "execution_count": 174,
   "metadata": {},
   "outputs": [
    {
     "data": {
      "text/plain": [
       "numpy.ndarray"
      ]
     },
     "execution_count": 174,
     "metadata": {},
     "output_type": "execute_result"
    }
   ],
   "source": [
    "type(X)"
   ]
  },
  {
   "cell_type": "code",
   "execution_count": 175,
   "metadata": {},
   "outputs": [],
   "source": [
    "# 1 is the axis for column here.\n",
    "# A 2-dimensional array has two corresponding axes: the first running vertically downwards across rows (axis 0), and the second running horizontally across columns (axis 1).\n",
    "#X = np.delete(X,[0,3],1)\n",
    "X = X[:, 1:]"
   ]
  },
  {
   "cell_type": "code",
   "execution_count": 176,
   "metadata": {},
   "outputs": [
    {
     "data": {
      "text/plain": [
       "(10000, 11)"
      ]
     },
     "execution_count": 176,
     "metadata": {},
     "output_type": "execute_result"
    }
   ],
   "source": [
    "X.shape"
   ]
  },
  {
   "cell_type": "code",
   "execution_count": 177,
   "metadata": {},
   "outputs": [
    {
     "data": {
      "text/plain": [
       "array([[0.0, 0.0, 619, ..., 1, 1, 101348.88],\n",
       "       [0.0, 1.0, 608, ..., 0, 1, 112542.58],\n",
       "       [0.0, 0.0, 502, ..., 1, 0, 113931.57],\n",
       "       ...,\n",
       "       [0.0, 0.0, 709, ..., 0, 1, 42085.58],\n",
       "       [1.0, 0.0, 772, ..., 1, 0, 92888.52],\n",
       "       [0.0, 0.0, 792, ..., 1, 0, 38190.78]], dtype=object)"
      ]
     },
     "execution_count": 177,
     "metadata": {},
     "output_type": "execute_result"
    }
   ],
   "source": [
    "# Final X\n",
    "X"
   ]
  },
  {
   "cell_type": "code",
   "execution_count": 156,
   "metadata": {},
   "outputs": [
    {
     "data": {
      "text/plain": [
       "(10000, 11)"
      ]
     },
     "execution_count": 156,
     "metadata": {},
     "output_type": "execute_result"
    }
   ],
   "source": [
    "# Final X.shape\n",
    "X.shape"
   ]
  },
  {
   "cell_type": "code",
   "execution_count": 178,
   "metadata": {},
   "outputs": [
    {
     "data": {
      "text/plain": [
       "array([0.0, 0.0, 619, 0, 42, 2, 0.0, 1, 1, 1, 101348.88], dtype=object)"
      ]
     },
     "execution_count": 178,
     "metadata": {},
     "output_type": "execute_result"
    }
   ],
   "source": [
    "X[0]"
   ]
  },
  {
   "cell_type": "markdown",
   "metadata": {},
   "source": [
    "# Part 2 - Train Test Split"
   ]
  },
  {
   "cell_type": "code",
   "execution_count": 180,
   "metadata": {},
   "outputs": [],
   "source": [
    "from sklearn.model_selection import train_test_split\n",
    "X_train, X_test, y_train, y_test = train_test_split(X, y, test_size=0.2, random_state=0)"
   ]
  },
  {
   "cell_type": "code",
   "execution_count": 182,
   "metadata": {},
   "outputs": [
    {
     "data": {
      "text/plain": [
       "(8000, 11)"
      ]
     },
     "execution_count": 182,
     "metadata": {},
     "output_type": "execute_result"
    }
   ],
   "source": [
    "X_train.shape"
   ]
  },
  {
   "cell_type": "code",
   "execution_count": 183,
   "metadata": {},
   "outputs": [
    {
     "data": {
      "text/plain": [
       "(2000, 11)"
      ]
     },
     "execution_count": 183,
     "metadata": {},
     "output_type": "execute_result"
    }
   ],
   "source": [
    "X_test.shape"
   ]
  },
  {
   "cell_type": "code",
   "execution_count": 184,
   "metadata": {},
   "outputs": [
    {
     "data": {
      "text/plain": [
       "(8000,)"
      ]
     },
     "execution_count": 184,
     "metadata": {},
     "output_type": "execute_result"
    }
   ],
   "source": [
    "y_train.shape"
   ]
  },
  {
   "cell_type": "code",
   "execution_count": 185,
   "metadata": {},
   "outputs": [
    {
     "data": {
      "text/plain": [
       "(2000,)"
      ]
     },
     "execution_count": 185,
     "metadata": {},
     "output_type": "execute_result"
    }
   ],
   "source": [
    "y_test.shape"
   ]
  },
  {
   "cell_type": "markdown",
   "metadata": {},
   "source": [
    "# Part 3 - Feature Scaling is very important as ANN is computation intensive."
   ]
  },
  {
   "cell_type": "code",
   "execution_count": 186,
   "metadata": {},
   "outputs": [],
   "source": [
    "from sklearn.preprocessing import StandardScaler"
   ]
  },
  {
   "cell_type": "code",
   "execution_count": 187,
   "metadata": {},
   "outputs": [],
   "source": [
    "sc_X = StandardScaler()"
   ]
  },
  {
   "cell_type": "code",
   "execution_count": 189,
   "metadata": {},
   "outputs": [],
   "source": [
    "X_train = sc_X.fit_transform(X_train)\n",
    "X_test = sc_X.fit_transform(X_test)"
   ]
  },
  {
   "cell_type": "code",
   "execution_count": 191,
   "metadata": {},
   "outputs": [
    {
     "data": {
      "text/plain": [
       "array([[ 1.62776996, -0.57427105, -0.56129438, ...,  0.66011376,\n",
       "         0.97628121,  1.62185911],\n",
       "       [-0.61433742, -0.57427105, -1.33847768, ...,  0.66011376,\n",
       "        -1.02429504,  0.504204  ],\n",
       "       [-0.61433742,  1.74133801,  0.58347561, ...,  0.66011376,\n",
       "         0.97628121, -0.41865644],\n",
       "       ...,\n",
       "       [-0.61433742,  1.74133801, -0.76084144, ...,  0.66011376,\n",
       "        -1.02429504,  0.72775202],\n",
       "       [ 1.62776996, -0.57427105, -0.0046631 , ...,  0.66011376,\n",
       "         0.97628121, -1.54162886],\n",
       "       [ 1.62776996, -0.57427105, -0.81335383, ...,  0.66011376,\n",
       "        -1.02429504,  1.62356528]])"
      ]
     },
     "execution_count": 191,
     "metadata": {},
     "output_type": "execute_result"
    }
   ],
   "source": [
    "X_test"
   ]
  },
  {
   "cell_type": "code",
   "execution_count": 194,
   "metadata": {},
   "outputs": [
    {
     "data": {
      "text/plain": [
       "array([-0.5698444 ,  1.74309049,  0.16958176, -1.09168714, -0.46460796,\n",
       "        0.00666099, -1.21571749,  0.8095029 ,  0.64259497, -1.03227043,\n",
       "        1.10643166])"
      ]
     },
     "execution_count": 194,
     "metadata": {},
     "output_type": "execute_result"
    }
   ],
   "source": [
    "X_train[0]"
   ]
  },
  {
   "cell_type": "code",
   "execution_count": 195,
   "metadata": {},
   "outputs": [
    {
     "data": {
      "text/plain": [
       "array([ 1.62776996, -0.57427105, -0.56129438, -1.11339196, -0.39401698,\n",
       "        0.9869706 ,  0.85962168, -0.8733766 ,  0.66011376,  0.97628121,\n",
       "        1.62185911])"
      ]
     },
     "execution_count": 195,
     "metadata": {},
     "output_type": "execute_result"
    }
   ],
   "source": [
    "X_test[0]"
   ]
  },
  {
   "cell_type": "markdown",
   "metadata": {},
   "source": [
    "# Most Important\n",
    "# Part 4 - Keras based Artificial Neural Network"
   ]
  },
  {
   "cell_type": "code",
   "execution_count": 196,
   "metadata": {},
   "outputs": [
    {
     "name": "stderr",
     "output_type": "stream",
     "text": [
      "Using TensorFlow backend.\n"
     ]
    }
   ],
   "source": [
    "import keras"
   ]
  },
  {
   "cell_type": "code",
   "execution_count": 198,
   "metadata": {},
   "outputs": [],
   "source": [
    "# importing requried modules sequential (initialize a Neural Net) and dense (To add the Layers)\n",
    "from keras.models import Sequential\n",
    "from keras.layers import Dense"
   ]
  },
  {
   "cell_type": "code",
   "execution_count": 199,
   "metadata": {},
   "outputs": [],
   "source": [
    "# Initializing the Artificial Neural Network\n",
    "# Object getting created here is itself the ANN\n",
    "classifier = Sequential()"
   ]
  },
  {
   "cell_type": "code",
   "execution_count": 200,
   "metadata": {},
   "outputs": [
    {
     "data": {
      "text/plain": [
       "<keras.engine.sequential.Sequential at 0x1a4d1399b0>"
      ]
     },
     "execution_count": 200,
     "metadata": {},
     "output_type": "execute_result"
    }
   ],
   "source": [
    "classifier"
   ]
  },
  {
   "cell_type": "markdown",
   "metadata": {},
   "source": [
    "# Steps in ANN - Stochastic Gradient Descent Method\n",
    "* Step 1: Randomly initialize the weights to close to 0 values but not 0\n",
    "* Step 2: Input the first observation in the input layer. Each feature into a input node. Input nodes thus will equal with the number of independent variables.(in our case it is 11).\n",
    "* Step 3: Forward-Propagation.\n",
    "* Step 4: Compare the predicted result with the Actual result. Measure the generated error.\n",
    "* Step 5: Back-Propagation (Update the weights according to how much they are responsible for the error).\n",
    "* Step 6: Repeat 1 to 5 and update the weights after each observation (Reinforcement or SGD method).Repeat 1 to 5 and update the weights only after a batch of observations (Batch Learning).\n",
    "* Step 7: When all the training data is passed through the ANN , it is an epoch. Do, more epochs."
   ]
  },
  {
   "cell_type": "code",
   "execution_count": 204,
   "metadata": {},
   "outputs": [],
   "source": [
    "# Also we need to select the Activation function in the hidden layers.\n",
    "# We are selecting Rectifier for the hidden layers and Sigmoid for the output layers.\n",
    "# More the output of Activation function in the hidden layers, the better it passes the signals to the ANN.\n",
    "# By using sigmoid Activation function at the output layers, we get the probabilities also (if customer stays at bank or not)\n",
    "# We can design ranking based models too using that."
   ]
  },
  {
   "cell_type": "code",
   "execution_count": 215,
   "metadata": {},
   "outputs": [],
   "source": [
    "# Adding the input layer and hidden layers\n",
    "# Rule of thumb - no of nodes in hidden layer avg(num of Input nodes + num of Output nodes)\n",
    "classifier.add(Dense(units=6, activation='relu', input_shape=(11,)))"
   ]
  },
  {
   "cell_type": "code",
   "execution_count": 216,
   "metadata": {},
   "outputs": [],
   "source": [
    "# Adding another layer.\n",
    "classifier.add(Dense(units=6, activation='relu'))"
   ]
  },
  {
   "cell_type": "code",
   "execution_count": 217,
   "metadata": {},
   "outputs": [],
   "source": [
    "# Adding the output layer.\n",
    "classifier.add(Dense(units=1, activation='sigmoid'))"
   ]
  },
  {
   "cell_type": "code",
   "execution_count": 220,
   "metadata": {},
   "outputs": [],
   "source": [
    "# Compiling the ANN.\n",
    "# adam is nothing but SGD, for loss function logarithmic_cross_entropy.\n",
    "classifier.compile(optimizer='adam', loss='binary_crossentropy', metrics=['accuracy'])"
   ]
  },
  {
   "cell_type": "code",
   "execution_count": 221,
   "metadata": {},
   "outputs": [
    {
     "name": "stdout",
     "output_type": "stream",
     "text": [
      "Epoch 1/100\n",
      "8000/8000 [==============================] - 2s 203us/step - loss: 0.4951 - accuracy: 0.7960\n",
      "Epoch 2/100\n",
      "8000/8000 [==============================] - 1s 144us/step - loss: 0.4401 - accuracy: 0.7960\n",
      "Epoch 3/100\n",
      "8000/8000 [==============================] - 1s 141us/step - loss: 0.4318 - accuracy: 0.7964\n",
      "Epoch 4/100\n",
      "8000/8000 [==============================] - 1s 150us/step - loss: 0.4261 - accuracy: 0.8092\n",
      "Epoch 5/100\n",
      "8000/8000 [==============================] - 1s 144us/step - loss: 0.4184 - accuracy: 0.8210\n",
      "Epoch 6/100\n",
      "8000/8000 [==============================] - 1s 142us/step - loss: 0.4107 - accuracy: 0.8256\n",
      "Epoch 7/100\n",
      "8000/8000 [==============================] - 1s 143us/step - loss: 0.4064 - accuracy: 0.8292\n",
      "Epoch 8/100\n",
      "8000/8000 [==============================] - 1s 144us/step - loss: 0.4032 - accuracy: 0.8322\n",
      "Epoch 9/100\n",
      "8000/8000 [==============================] - 1s 157us/step - loss: 0.4006 - accuracy: 0.8334\n",
      "Epoch 10/100\n",
      "8000/8000 [==============================] - 1s 147us/step - loss: 0.3987 - accuracy: 0.8350\n",
      "Epoch 11/100\n",
      "8000/8000 [==============================] - 1s 146us/step - loss: 0.3976 - accuracy: 0.8360\n",
      "Epoch 12/100\n",
      "8000/8000 [==============================] - 1s 139us/step - loss: 0.3966 - accuracy: 0.8361\n",
      "Epoch 13/100\n",
      "8000/8000 [==============================] - 1s 143us/step - loss: 0.3956 - accuracy: 0.8334\n",
      "Epoch 14/100\n",
      "8000/8000 [==============================] - 1s 147us/step - loss: 0.3951 - accuracy: 0.8353\n",
      "Epoch 15/100\n",
      "8000/8000 [==============================] - 1s 146us/step - loss: 0.3942 - accuracy: 0.8371\n",
      "Epoch 16/100\n",
      "8000/8000 [==============================] - 1s 165us/step - loss: 0.3946 - accuracy: 0.8361\n",
      "Epoch 17/100\n",
      "8000/8000 [==============================] - 1s 173us/step - loss: 0.3934 - accuracy: 0.8360\n",
      "Epoch 18/100\n",
      "8000/8000 [==============================] - 1s 168us/step - loss: 0.3929 - accuracy: 0.8372\n",
      "Epoch 19/100\n",
      "8000/8000 [==============================] - 1s 164us/step - loss: 0.3921 - accuracy: 0.8367\n",
      "Epoch 20/100\n",
      "8000/8000 [==============================] - 1s 155us/step - loss: 0.3922 - accuracy: 0.8381\n",
      "Epoch 21/100\n",
      "8000/8000 [==============================] - 1s 158us/step - loss: 0.3925 - accuracy: 0.8372\n",
      "Epoch 22/100\n",
      "8000/8000 [==============================] - 1s 156us/step - loss: 0.3910 - accuracy: 0.8379\n",
      "Epoch 23/100\n",
      "8000/8000 [==============================] - 1s 145us/step - loss: 0.3914 - accuracy: 0.8370\n",
      "Epoch 24/100\n",
      "8000/8000 [==============================] - 1s 155us/step - loss: 0.3905 - accuracy: 0.8401\n",
      "Epoch 25/100\n",
      "8000/8000 [==============================] - 1s 154us/step - loss: 0.3911 - accuracy: 0.8382\n",
      "Epoch 26/100\n",
      "8000/8000 [==============================] - 1s 148us/step - loss: 0.3905 - accuracy: 0.8366\n",
      "Epoch 27/100\n",
      "8000/8000 [==============================] - 1s 154us/step - loss: 0.3899 - accuracy: 0.8375\n",
      "Epoch 28/100\n",
      "8000/8000 [==============================] - 1s 152us/step - loss: 0.3895 - accuracy: 0.8388\n",
      "Epoch 29/100\n",
      "8000/8000 [==============================] - 1s 157us/step - loss: 0.3898 - accuracy: 0.8372\n",
      "Epoch 30/100\n",
      "8000/8000 [==============================] - 1s 155us/step - loss: 0.3898 - accuracy: 0.8376\n",
      "Epoch 31/100\n",
      "8000/8000 [==============================] - 1s 149us/step - loss: 0.3889 - accuracy: 0.8382\n",
      "Epoch 32/100\n",
      "8000/8000 [==============================] - 1s 149us/step - loss: 0.3894 - accuracy: 0.8382\n",
      "Epoch 33/100\n",
      "8000/8000 [==============================] - 1s 146us/step - loss: 0.3886 - accuracy: 0.8390\n",
      "Epoch 34/100\n",
      "8000/8000 [==============================] - 1s 138us/step - loss: 0.3877 - accuracy: 0.8390\n",
      "Epoch 35/100\n",
      "8000/8000 [==============================] - 1s 126us/step - loss: 0.3878 - accuracy: 0.8386\n",
      "Epoch 36/100\n",
      "8000/8000 [==============================] - 1s 138us/step - loss: 0.3873 - accuracy: 0.8379\n",
      "Epoch 37/100\n",
      "8000/8000 [==============================] - 1s 146us/step - loss: 0.3876 - accuracy: 0.8384\n",
      "Epoch 38/100\n",
      "8000/8000 [==============================] - 1s 162us/step - loss: 0.3879 - accuracy: 0.8393\n",
      "Epoch 39/100\n",
      "8000/8000 [==============================] - 1s 150us/step - loss: 0.3871 - accuracy: 0.8389\n",
      "Epoch 40/100\n",
      "8000/8000 [==============================] - 1s 156us/step - loss: 0.3871 - accuracy: 0.8374\n",
      "Epoch 41/100\n",
      "8000/8000 [==============================] - 1s 149us/step - loss: 0.3872 - accuracy: 0.8379\n",
      "Epoch 42/100\n",
      "8000/8000 [==============================] - 1s 156us/step - loss: 0.3869 - accuracy: 0.8396\n",
      "Epoch 43/100\n",
      "8000/8000 [==============================] - 1s 158us/step - loss: 0.3866 - accuracy: 0.8394\n",
      "Epoch 44/100\n",
      "8000/8000 [==============================] - 1s 157us/step - loss: 0.3854 - accuracy: 0.8385\n",
      "Epoch 45/100\n",
      "8000/8000 [==============================] - 1s 157us/step - loss: 0.3869 - accuracy: 0.8372\n",
      "Epoch 46/100\n",
      "8000/8000 [==============================] - 1s 157us/step - loss: 0.3856 - accuracy: 0.8388\n",
      "Epoch 47/100\n",
      "8000/8000 [==============================] - 1s 156us/step - loss: 0.3852 - accuracy: 0.8370\n",
      "Epoch 48/100\n",
      "8000/8000 [==============================] - 1s 150us/step - loss: 0.3843 - accuracy: 0.8388\n",
      "Epoch 49/100\n",
      "8000/8000 [==============================] - 1s 152us/step - loss: 0.3836 - accuracy: 0.8389\n",
      "Epoch 50/100\n",
      "8000/8000 [==============================] - 1s 159us/step - loss: 0.3842 - accuracy: 0.8389\n",
      "Epoch 51/100\n",
      "8000/8000 [==============================] - 1s 155us/step - loss: 0.3847 - accuracy: 0.8357\n",
      "Epoch 52/100\n",
      "8000/8000 [==============================] - 1s 158us/step - loss: 0.3835 - accuracy: 0.8385\n",
      "Epoch 53/100\n",
      "8000/8000 [==============================] - 1s 155us/step - loss: 0.3837 - accuracy: 0.8378\n",
      "Epoch 54/100\n",
      "8000/8000 [==============================] - 1s 152us/step - loss: 0.3835 - accuracy: 0.8390\n",
      "Epoch 55/100\n",
      "8000/8000 [==============================] - 1s 161us/step - loss: 0.3834 - accuracy: 0.8374\n",
      "Epoch 56/100\n",
      "8000/8000 [==============================] - 1s 153us/step - loss: 0.3832 - accuracy: 0.8374\n",
      "Epoch 57/100\n",
      "8000/8000 [==============================] - 1s 157us/step - loss: 0.3824 - accuracy: 0.8384\n",
      "Epoch 58/100\n",
      "8000/8000 [==============================] - 1s 153us/step - loss: 0.3829 - accuracy: 0.8385\n",
      "Epoch 59/100\n",
      "8000/8000 [==============================] - 1s 156us/step - loss: 0.3818 - accuracy: 0.8382\n",
      "Epoch 60/100\n",
      "8000/8000 [==============================] - 1s 153us/step - loss: 0.3825 - accuracy: 0.8364\n",
      "Epoch 61/100\n",
      "8000/8000 [==============================] - 1s 156us/step - loss: 0.3819 - accuracy: 0.8372\n",
      "Epoch 62/100\n",
      "8000/8000 [==============================] - 1s 160us/step - loss: 0.3808 - accuracy: 0.8382\n",
      "Epoch 63/100\n",
      "8000/8000 [==============================] - 1s 153us/step - loss: 0.3802 - accuracy: 0.8363\n",
      "Epoch 64/100\n",
      "8000/8000 [==============================] - 1s 161us/step - loss: 0.3804 - accuracy: 0.8382\n",
      "Epoch 65/100\n",
      "8000/8000 [==============================] - 1s 161us/step - loss: 0.3781 - accuracy: 0.8378\n",
      "Epoch 66/100\n",
      "8000/8000 [==============================] - 1s 156us/step - loss: 0.3779 - accuracy: 0.8372\n",
      "Epoch 67/100\n",
      "8000/8000 [==============================] - 1s 162us/step - loss: 0.3775 - accuracy: 0.8351\n",
      "Epoch 68/100\n",
      "8000/8000 [==============================] - 1s 157us/step - loss: 0.3762 - accuracy: 0.8374\n",
      "Epoch 69/100\n",
      "8000/8000 [==============================] - 1s 159us/step - loss: 0.3753 - accuracy: 0.8375\n",
      "Epoch 70/100\n",
      "8000/8000 [==============================] - 1s 158us/step - loss: 0.3747 - accuracy: 0.83790s - loss: 0.3739 - accura\n",
      "Epoch 71/100\n",
      "8000/8000 [==============================] - 1s 152us/step - loss: 0.3737 - accuracy: 0.8388\n",
      "Epoch 72/100\n",
      "8000/8000 [==============================] - 1s 153us/step - loss: 0.3726 - accuracy: 0.8384\n",
      "Epoch 73/100\n",
      "8000/8000 [==============================] - 1s 154us/step - loss: 0.3722 - accuracy: 0.83910s\n",
      "Epoch 74/100\n",
      "8000/8000 [==============================] - 1s 152us/step - loss: 0.3701 - accuracy: 0.8399\n",
      "Epoch 75/100\n",
      "8000/8000 [==============================] - 1s 159us/step - loss: 0.3711 - accuracy: 0.8399\n",
      "Epoch 76/100\n",
      "8000/8000 [==============================] - 1s 149us/step - loss: 0.3697 - accuracy: 0.8440\n",
      "Epoch 77/100\n",
      "8000/8000 [==============================] - 1s 150us/step - loss: 0.3680 - accuracy: 0.8421\n",
      "Epoch 78/100\n"
     ]
    },
    {
     "name": "stdout",
     "output_type": "stream",
     "text": [
      "8000/8000 [==============================] - 1s 150us/step - loss: 0.3662 - accuracy: 0.8459\n",
      "Epoch 79/100\n",
      "8000/8000 [==============================] - 1s 152us/step - loss: 0.3661 - accuracy: 0.8457\n",
      "Epoch 80/100\n",
      "8000/8000 [==============================] - 1s 154us/step - loss: 0.3659 - accuracy: 0.8455\n",
      "Epoch 81/100\n",
      "8000/8000 [==============================] - 1s 154us/step - loss: 0.3638 - accuracy: 0.8460\n",
      "Epoch 82/100\n",
      "8000/8000 [==============================] - 1s 155us/step - loss: 0.3630 - accuracy: 0.8446\n",
      "Epoch 83/100\n",
      "8000/8000 [==============================] - 1s 151us/step - loss: 0.3625 - accuracy: 0.8461\n",
      "Epoch 84/100\n",
      "8000/8000 [==============================] - 1s 149us/step - loss: 0.3615 - accuracy: 0.8460\n",
      "Epoch 85/100\n",
      "8000/8000 [==============================] - 1s 141us/step - loss: 0.3611 - accuracy: 0.8485\n",
      "Epoch 86/100\n",
      "8000/8000 [==============================] - 1s 142us/step - loss: 0.3592 - accuracy: 0.8487\n",
      "Epoch 87/100\n",
      "8000/8000 [==============================] - 1s 142us/step - loss: 0.3600 - accuracy: 0.8493\n",
      "Epoch 88/100\n",
      "8000/8000 [==============================] - 1s 134us/step - loss: 0.3586 - accuracy: 0.8514\n",
      "Epoch 89/100\n",
      "8000/8000 [==============================] - 1s 138us/step - loss: 0.3570 - accuracy: 0.8497\n",
      "Epoch 90/100\n",
      "8000/8000 [==============================] - 1s 141us/step - loss: 0.3568 - accuracy: 0.8518\n",
      "Epoch 91/100\n",
      "8000/8000 [==============================] - 1s 138us/step - loss: 0.3552 - accuracy: 0.8516\n",
      "Epoch 92/100\n",
      "8000/8000 [==============================] - 1s 136us/step - loss: 0.3552 - accuracy: 0.8524\n",
      "Epoch 93/100\n",
      "8000/8000 [==============================] - 1s 144us/step - loss: 0.3539 - accuracy: 0.8522\n",
      "Epoch 94/100\n",
      "8000/8000 [==============================] - 1s 139us/step - loss: 0.3537 - accuracy: 0.8520\n",
      "Epoch 95/100\n",
      "8000/8000 [==============================] - 1s 138us/step - loss: 0.3521 - accuracy: 0.8514\n",
      "Epoch 96/100\n",
      "8000/8000 [==============================] - 1s 141us/step - loss: 0.3516 - accuracy: 0.8533\n",
      "Epoch 97/100\n",
      "8000/8000 [==============================] - 1s 136us/step - loss: 0.3501 - accuracy: 0.8518\n",
      "Epoch 98/100\n",
      "8000/8000 [==============================] - 1s 139us/step - loss: 0.3493 - accuracy: 0.8554\n",
      "Epoch 99/100\n",
      "8000/8000 [==============================] - 1s 141us/step - loss: 0.3495 - accuracy: 0.8561\n",
      "Epoch 100/100\n",
      "8000/8000 [==============================] - 1s 144us/step - loss: 0.3475 - accuracy: 0.8566\n"
     ]
    },
    {
     "data": {
      "text/plain": [
       "<keras.callbacks.callbacks.History at 0x1a4da82710>"
      ]
     },
     "execution_count": 221,
     "metadata": {},
     "output_type": "execute_result"
    }
   ],
   "source": [
    "# Fitting the ANN (Classifier) to the training set.\n",
    "# batch_size - after this size weights get updated. 1 is for SGD (Online), n for GD.\n",
    "classifier.fit(X_train, y_train, batch_size=10, epochs=100)"
   ]
  },
  {
   "cell_type": "markdown",
   "metadata": {},
   "source": [
    "# Result\n",
    "# After 100 epochs it reached an accuracy of 85.66 %"
   ]
  },
  {
   "cell_type": "markdown",
   "metadata": {},
   "source": [
    "# Testing"
   ]
  },
  {
   "cell_type": "code",
   "execution_count": 225,
   "metadata": {},
   "outputs": [],
   "source": [
    "# this returns the probabilities but not T or F (whether the customer stays or leaves the bank.)\n",
    "y_pred = classifier.predict(X_test)"
   ]
  },
  {
   "cell_type": "code",
   "execution_count": 227,
   "metadata": {},
   "outputs": [
    {
     "data": {
      "text/plain": [
       "(2000, 1)"
      ]
     },
     "execution_count": 227,
     "metadata": {},
     "output_type": "execute_result"
    }
   ],
   "source": [
    "y_pred.shape\n",
    "# 0.19 % of leaving the bank"
   ]
  },
  {
   "cell_type": "code",
   "execution_count": 228,
   "metadata": {},
   "outputs": [],
   "source": [
    "# returns True for y_pred > 0.50 lese False\n",
    "y_pred = (y_pred > 0.5)"
   ]
  },
  {
   "cell_type": "code",
   "execution_count": 229,
   "metadata": {},
   "outputs": [
    {
     "data": {
      "text/plain": [
       "array([[False],\n",
       "       [False],\n",
       "       [False],\n",
       "       ...,\n",
       "       [False],\n",
       "       [False],\n",
       "       [False]])"
      ]
     },
     "execution_count": 229,
     "metadata": {},
     "output_type": "execute_result"
    }
   ],
   "source": [
    "y_pred"
   ]
  },
  {
   "cell_type": "markdown",
   "metadata": {},
   "source": [
    "# Confusion Matrix"
   ]
  },
  {
   "cell_type": "code",
   "execution_count": 230,
   "metadata": {},
   "outputs": [],
   "source": [
    "from sklearn.metrics import confusion_matrix\n",
    "cm = confusion_matrix(y_test, y_pred)"
   ]
  },
  {
   "cell_type": "code",
   "execution_count": 231,
   "metadata": {},
   "outputs": [
    {
     "data": {
      "text/plain": [
       "array([[1544,   51],\n",
       "       [ 243,  162]])"
      ]
     },
     "execution_count": 231,
     "metadata": {},
     "output_type": "execute_result"
    }
   ],
   "source": [
    "cm"
   ]
  },
  {
   "cell_type": "code",
   "execution_count": 232,
   "metadata": {},
   "outputs": [
    {
     "data": {
      "text/plain": [
       "0.853"
      ]
     },
     "execution_count": 232,
     "metadata": {},
     "output_type": "execute_result"
    }
   ],
   "source": [
    "# Accuracy - 85.3 % Accurate\n",
    "(1544 + 162) / 2000"
   ]
  },
  {
   "cell_type": "code",
   "execution_count": null,
   "metadata": {},
   "outputs": [],
   "source": [
    "# for initializing weights - kernel_initializer='uniform'"
   ]
  }
 ],
 "metadata": {
  "kernelspec": {
   "display_name": "Python 3",
   "language": "python",
   "name": "python3"
  },
  "language_info": {
   "codemirror_mode": {
    "name": "ipython",
    "version": 3
   },
   "file_extension": ".py",
   "mimetype": "text/x-python",
   "name": "python",
   "nbconvert_exporter": "python",
   "pygments_lexer": "ipython3",
   "version": "3.7.3"
  }
 },
 "nbformat": 4,
 "nbformat_minor": 4
}
