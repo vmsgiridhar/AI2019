{
  "cells": [
    {
      "cell_type": "markdown",
      "source": [
        "___\n",
        "\n",
        "<a href='http://www.pieriandata.com'> <img src='../Pierian_Data_Logo.png' /></a>\n",
        "___"
      ],
      "metadata": {}
    },
    {
      "cell_type": "markdown",
      "source": [
        "# NumPy Exercises \n",
        "\n",
        "Now that we've learned about NumPy let's test your knowledge. We'll start off with a few simple tasks, and then you'll be asked some more complicated questions."
      ],
      "metadata": {}
    },
    {
      "cell_type": "markdown",
      "source": [
        "#### Import NumPy as np"
      ],
      "metadata": {}
    },
    {
      "cell_type": "code",
      "source": [
        "import numpy as np"
      ],
      "outputs": [],
      "execution_count": 2,
      "metadata": {
        "collapsed": true,
        "execution": {
          "iopub.status.busy": "2020-09-30T10:19:15.836Z",
          "iopub.execute_input": "2020-09-30T10:19:15.850Z",
          "iopub.status.idle": "2020-09-30T10:19:16.072Z",
          "shell.execute_reply": "2020-09-30T10:19:16.060Z"
        }
      }
    },
    {
      "cell_type": "markdown",
      "source": [
        "#### Create an array of 10 zeros "
      ],
      "metadata": {}
    },
    {
      "cell_type": "code",
      "source": [
        "np.zeros(10)"
      ],
      "outputs": [
        {
          "output_type": "execute_result",
          "execution_count": 3,
          "data": {
            "text/plain": [
              "array([0., 0., 0., 0., 0., 0., 0., 0., 0., 0.])"
            ]
          },
          "metadata": {}
        }
      ],
      "execution_count": 3,
      "metadata": {
        "collapsed": false,
        "execution": {
          "iopub.status.busy": "2020-09-30T10:19:17.366Z",
          "iopub.execute_input": "2020-09-30T10:19:17.380Z",
          "iopub.status.idle": "2020-09-30T10:19:17.403Z",
          "shell.execute_reply": "2020-09-30T10:19:17.414Z"
        }
      }
    },
    {
      "cell_type": "markdown",
      "source": [
        "#### Create an array of 10 ones"
      ],
      "metadata": {}
    },
    {
      "cell_type": "code",
      "source": [
        "np.ones(10)"
      ],
      "outputs": [
        {
          "output_type": "execute_result",
          "execution_count": 4,
          "data": {
            "text/plain": [
              "array([1., 1., 1., 1., 1., 1., 1., 1., 1., 1.])"
            ]
          },
          "metadata": {}
        }
      ],
      "execution_count": 4,
      "metadata": {
        "collapsed": false,
        "execution": {
          "iopub.status.busy": "2020-09-30T10:19:18.422Z",
          "iopub.execute_input": "2020-09-30T10:19:18.434Z",
          "iopub.status.idle": "2020-09-30T10:19:18.457Z",
          "shell.execute_reply": "2020-09-30T10:19:18.469Z"
        }
      }
    },
    {
      "cell_type": "markdown",
      "source": [
        "#### Create an array of 10 fives"
      ],
      "metadata": {}
    },
    {
      "cell_type": "code",
      "source": [
        "np.ones(10) * 5"
      ],
      "outputs": [
        {
          "output_type": "execute_result",
          "execution_count": 5,
          "data": {
            "text/plain": [
              "array([5., 5., 5., 5., 5., 5., 5., 5., 5., 5.])"
            ]
          },
          "metadata": {}
        }
      ],
      "execution_count": 5,
      "metadata": {
        "collapsed": false,
        "execution": {
          "iopub.status.busy": "2020-09-30T10:19:19.268Z",
          "iopub.execute_input": "2020-09-30T10:19:19.276Z",
          "iopub.status.idle": "2020-09-30T10:19:19.299Z",
          "shell.execute_reply": "2020-09-30T10:19:19.309Z"
        }
      }
    },
    {
      "cell_type": "markdown",
      "source": [
        "#### Create an array of the integers from 10 to 50"
      ],
      "metadata": {}
    },
    {
      "cell_type": "code",
      "source": [
        "np.arange(10,51)"
      ],
      "outputs": [
        {
          "output_type": "execute_result",
          "execution_count": 6,
          "data": {
            "text/plain": [
              "array([10, 11, 12, 13, 14, 15, 16, 17, 18, 19, 20, 21, 22, 23, 24, 25, 26,\n",
              "       27, 28, 29, 30, 31, 32, 33, 34, 35, 36, 37, 38, 39, 40, 41, 42, 43,\n",
              "       44, 45, 46, 47, 48, 49, 50])"
            ]
          },
          "metadata": {}
        }
      ],
      "execution_count": 6,
      "metadata": {
        "collapsed": false,
        "execution": {
          "iopub.status.busy": "2020-09-30T10:19:20.149Z",
          "iopub.execute_input": "2020-09-30T10:19:20.159Z",
          "iopub.status.idle": "2020-09-30T10:19:20.178Z",
          "shell.execute_reply": "2020-09-30T10:19:20.188Z"
        }
      }
    },
    {
      "cell_type": "markdown",
      "source": [
        "#### Create an array of all the even integers from 10 to 50"
      ],
      "metadata": {}
    },
    {
      "cell_type": "code",
      "source": [
        "np.arange(10,51,2)"
      ],
      "outputs": [
        {
          "output_type": "execute_result",
          "execution_count": 7,
          "data": {
            "text/plain": [
              "array([10, 12, 14, 16, 18, 20, 22, 24, 26, 28, 30, 32, 34, 36, 38, 40, 42,\n",
              "       44, 46, 48, 50])"
            ]
          },
          "metadata": {}
        }
      ],
      "execution_count": 7,
      "metadata": {
        "collapsed": false,
        "execution": {
          "iopub.status.busy": "2020-09-30T10:19:20.995Z",
          "iopub.execute_input": "2020-09-30T10:19:21.004Z",
          "iopub.status.idle": "2020-09-30T10:19:21.022Z",
          "shell.execute_reply": "2020-09-30T10:19:21.030Z"
        }
      }
    },
    {
      "cell_type": "markdown",
      "source": [
        "#### Create a 3x3 matrix with values ranging from 0 to 8"
      ],
      "metadata": {}
    },
    {
      "cell_type": "code",
      "source": [
        "np.arange(0,9).reshape(3,3)"
      ],
      "outputs": [
        {
          "output_type": "execute_result",
          "execution_count": 8,
          "data": {
            "text/plain": [
              "array([[0, 1, 2],\n",
              "       [3, 4, 5],\n",
              "       [6, 7, 8]])"
            ]
          },
          "metadata": {}
        }
      ],
      "execution_count": 8,
      "metadata": {
        "collapsed": false,
        "execution": {
          "iopub.status.busy": "2020-09-30T10:19:21.750Z",
          "iopub.execute_input": "2020-09-30T10:19:21.760Z",
          "iopub.status.idle": "2020-09-30T10:19:21.780Z",
          "shell.execute_reply": "2020-09-30T10:19:21.789Z"
        }
      }
    },
    {
      "cell_type": "markdown",
      "source": [
        "#### Create a 3x3 identity matrix"
      ],
      "metadata": {}
    },
    {
      "cell_type": "code",
      "source": [
        "np.eye(3)"
      ],
      "outputs": [
        {
          "output_type": "execute_result",
          "execution_count": 9,
          "data": {
            "text/plain": [
              "array([[1., 0., 0.],\n",
              "       [0., 1., 0.],\n",
              "       [0., 0., 1.]])"
            ]
          },
          "metadata": {}
        }
      ],
      "execution_count": 9,
      "metadata": {
        "collapsed": false,
        "execution": {
          "iopub.status.busy": "2020-09-30T10:19:22.880Z",
          "iopub.execute_input": "2020-09-30T10:19:22.889Z",
          "iopub.status.idle": "2020-09-30T10:19:22.910Z",
          "shell.execute_reply": "2020-09-30T10:19:22.919Z"
        }
      }
    },
    {
      "cell_type": "markdown",
      "source": [
        "#### Use NumPy to generate a random number between 0 and 1"
      ],
      "metadata": {}
    },
    {
      "cell_type": "code",
      "source": [
        "np.random.randint(0,1)"
      ],
      "outputs": [
        {
          "output_type": "execute_result",
          "execution_count": 10,
          "data": {
            "text/plain": [
              "0"
            ]
          },
          "metadata": {}
        }
      ],
      "execution_count": 10,
      "metadata": {
        "collapsed": false,
        "execution": {
          "iopub.status.busy": "2020-09-30T10:19:23.778Z",
          "iopub.execute_input": "2020-09-30T10:19:23.788Z",
          "iopub.status.idle": "2020-09-30T10:19:23.807Z",
          "shell.execute_reply": "2020-09-30T10:19:23.818Z"
        }
      }
    },
    {
      "cell_type": "markdown",
      "source": [
        "#### Use NumPy to generate an array of 25 random numbers sampled from a standard normal distribution"
      ],
      "metadata": {}
    },
    {
      "cell_type": "code",
      "source": [
        "np.random.randn(5,5)"
      ],
      "outputs": [
        {
          "output_type": "execute_result",
          "execution_count": 12,
          "data": {
            "text/plain": [
              "array([[-0.09714175,  0.20993319, -1.97772164, -1.01650477,  0.94989152],\n",
              "       [-0.29812437,  0.45578315,  1.14509709, -0.23789937, -0.25849381],\n",
              "       [-0.07793041, -0.10146662, -0.46559681, -0.515399  ,  0.82734906],\n",
              "       [ 1.00901931, -0.95031271, -0.2935565 , -0.45889458,  1.06854466],\n",
              "       [-0.76515693, -0.13875636,  0.22853775, -1.32760194,  1.17409043]])"
            ]
          },
          "metadata": {}
        }
      ],
      "execution_count": 12,
      "metadata": {
        "collapsed": false,
        "execution": {
          "iopub.status.busy": "2020-09-30T10:19:31.455Z",
          "iopub.execute_input": "2020-09-30T10:19:31.464Z",
          "iopub.status.idle": "2020-09-30T10:19:31.484Z",
          "shell.execute_reply": "2020-09-30T10:19:31.493Z"
        }
      }
    },
    {
      "cell_type": "markdown",
      "source": [
        "#### Create the following matrix:"
      ],
      "metadata": {}
    },
    {
      "cell_type": "code",
      "source": [
        "np.linspace(0.01,1,100).reshape(10,10)"
      ],
      "outputs": [
        {
          "output_type": "execute_result",
          "execution_count": 21,
          "data": {
            "text/plain": [
              "array([[0.01, 0.02, 0.03, 0.04, 0.05, 0.06, 0.07, 0.08, 0.09, 0.1 ],\n",
              "       [0.11, 0.12, 0.13, 0.14, 0.15, 0.16, 0.17, 0.18, 0.19, 0.2 ],\n",
              "       [0.21, 0.22, 0.23, 0.24, 0.25, 0.26, 0.27, 0.28, 0.29, 0.3 ],\n",
              "       [0.31, 0.32, 0.33, 0.34, 0.35, 0.36, 0.37, 0.38, 0.39, 0.4 ],\n",
              "       [0.41, 0.42, 0.43, 0.44, 0.45, 0.46, 0.47, 0.48, 0.49, 0.5 ],\n",
              "       [0.51, 0.52, 0.53, 0.54, 0.55, 0.56, 0.57, 0.58, 0.59, 0.6 ],\n",
              "       [0.61, 0.62, 0.63, 0.64, 0.65, 0.66, 0.67, 0.68, 0.69, 0.7 ],\n",
              "       [0.71, 0.72, 0.73, 0.74, 0.75, 0.76, 0.77, 0.78, 0.79, 0.8 ],\n",
              "       [0.81, 0.82, 0.83, 0.84, 0.85, 0.86, 0.87, 0.88, 0.89, 0.9 ],\n",
              "       [0.91, 0.92, 0.93, 0.94, 0.95, 0.96, 0.97, 0.98, 0.99, 1.  ]])"
            ]
          },
          "metadata": {}
        }
      ],
      "execution_count": 21,
      "metadata": {
        "collapsed": false,
        "execution": {
          "iopub.status.busy": "2020-09-30T11:51:00.709Z",
          "iopub.execute_input": "2020-09-30T11:51:00.718Z",
          "iopub.status.idle": "2020-09-30T11:51:00.739Z",
          "shell.execute_reply": "2020-09-30T11:51:00.749Z"
        }
      }
    },
    {
      "cell_type": "markdown",
      "source": [
        "#### Create an array of 20 linearly spaced points between 0 and 1:"
      ],
      "metadata": {}
    },
    {
      "cell_type": "code",
      "source": [
        "np.linspace(0,1,20)"
      ],
      "outputs": [
        {
          "output_type": "execute_result",
          "execution_count": 22,
          "data": {
            "text/plain": [
              "array([0.        , 0.05263158, 0.10526316, 0.15789474, 0.21052632,\n",
              "       0.26315789, 0.31578947, 0.36842105, 0.42105263, 0.47368421,\n",
              "       0.52631579, 0.57894737, 0.63157895, 0.68421053, 0.73684211,\n",
              "       0.78947368, 0.84210526, 0.89473684, 0.94736842, 1.        ])"
            ]
          },
          "metadata": {}
        }
      ],
      "execution_count": 22,
      "metadata": {
        "collapsed": false,
        "execution": {
          "iopub.status.busy": "2020-09-30T11:51:14.427Z",
          "iopub.execute_input": "2020-09-30T11:51:14.439Z",
          "iopub.status.idle": "2020-09-30T11:51:14.462Z",
          "shell.execute_reply": "2020-09-30T11:51:14.476Z"
        }
      }
    },
    {
      "cell_type": "markdown",
      "source": [
        "## Numpy Indexing and Selection\n",
        "\n",
        "Now you will be given a few matrices, and be asked to replicate the resulting matrix outputs:"
      ],
      "metadata": {}
    },
    {
      "cell_type": "code",
      "source": [
        "mat = np.arange(1,26).reshape(5,5)\n",
        "mat"
      ],
      "outputs": [
        {
          "output_type": "execute_result",
          "execution_count": 26,
          "data": {
            "text/plain": [
              "array([[ 1,  2,  3,  4,  5],\n",
              "       [ 6,  7,  8,  9, 10],\n",
              "       [11, 12, 13, 14, 15],\n",
              "       [16, 17, 18, 19, 20],\n",
              "       [21, 22, 23, 24, 25]])"
            ]
          },
          "metadata": {}
        }
      ],
      "execution_count": 26,
      "metadata": {
        "collapsed": false,
        "execution": {
          "iopub.status.busy": "2020-09-30T11:53:29.842Z",
          "iopub.execute_input": "2020-09-30T11:53:29.850Z",
          "iopub.status.idle": "2020-09-30T11:53:29.867Z",
          "shell.execute_reply": "2020-09-30T11:53:29.874Z"
        }
      }
    },
    {
      "cell_type": "code",
      "source": [
        "# WRITE CODE HERE THAT REPRODUCES THE OUTPUT OF THE CELL BELOW\n",
        "# BE CAREFUL NOT TO RUN THE CELL BELOW, OTHERWISE YOU WON'T\n",
        "# BE ABLE TO SEE THE OUTPUT ANY MORE"
      ],
      "outputs": [],
      "execution_count": 27,
      "metadata": {
        "collapsed": true,
        "execution": {
          "iopub.status.busy": "2020-09-30T11:53:30.483Z",
          "iopub.execute_input": "2020-09-30T11:53:30.491Z",
          "iopub.status.idle": "2020-09-30T11:53:30.504Z",
          "shell.execute_reply": "2020-09-30T11:53:30.512Z"
        }
      }
    },
    {
      "cell_type": "code",
      "source": [
        "mat[2:,1:]"
      ],
      "outputs": [
        {
          "output_type": "execute_result",
          "execution_count": 32,
          "data": {
            "text/plain": [
              "array([[12, 13, 14, 15],\n",
              "       [17, 18, 19, 20],\n",
              "       [22, 23, 24, 25]])"
            ]
          },
          "metadata": {}
        }
      ],
      "execution_count": 32,
      "metadata": {
        "collapsed": false,
        "execution": {
          "iopub.status.busy": "2020-09-30T11:54:16.273Z",
          "iopub.execute_input": "2020-09-30T11:54:16.282Z",
          "iopub.status.idle": "2020-09-30T11:54:16.302Z",
          "shell.execute_reply": "2020-09-30T11:54:16.311Z"
        }
      }
    },
    {
      "cell_type": "code",
      "source": [
        "# WRITE CODE HERE THAT REPRODUCES THE OUTPUT OF THE CELL BELOW\n",
        "# BE CAREFUL NOT TO RUN THE CELL BELOW, OTHERWISE YOU WON'T\n",
        "# BE ABLE TO SEE THE OUTPUT ANY MORE"
      ],
      "outputs": [],
      "execution_count": 29,
      "metadata": {
        "collapsed": true
      }
    },
    {
      "cell_type": "code",
      "source": [],
      "outputs": [
        {
          "output_type": "execute_result",
          "execution_count": 41,
          "data": {
            "text/plain": [
              "20"
            ]
          },
          "metadata": {}
        }
      ],
      "execution_count": 41,
      "metadata": {
        "collapsed": false
      }
    },
    {
      "cell_type": "code",
      "source": [
        "# WRITE CODE HERE THAT REPRODUCES THE OUTPUT OF THE CELL BELOW\n",
        "# BE CAREFUL NOT TO RUN THE CELL BELOW, OTHERWISE YOU WON'T\n",
        "# BE ABLE TO SEE THE OUTPUT ANY MORE"
      ],
      "outputs": [],
      "execution_count": 30,
      "metadata": {
        "collapsed": true
      }
    },
    {
      "cell_type": "code",
      "source": [],
      "outputs": [
        {
          "output_type": "execute_result",
          "execution_count": 42,
          "data": {
            "text/plain": [
              "array([[ 2],\n",
              "       [ 7],\n",
              "       [12]])"
            ]
          },
          "metadata": {}
        }
      ],
      "execution_count": 42,
      "metadata": {
        "collapsed": false
      }
    },
    {
      "cell_type": "code",
      "source": [
        "# WRITE CODE HERE THAT REPRODUCES THE OUTPUT OF THE CELL BELOW\n",
        "# BE CAREFUL NOT TO RUN THE CELL BELOW, OTHERWISE YOU WON'T\n",
        "# BE ABLE TO SEE THE OUTPUT ANY MORE"
      ],
      "outputs": [],
      "execution_count": 31,
      "metadata": {
        "collapsed": true
      }
    },
    {
      "cell_type": "code",
      "source": [],
      "outputs": [
        {
          "output_type": "execute_result",
          "execution_count": 46,
          "data": {
            "text/plain": [
              "array([21, 22, 23, 24, 25])"
            ]
          },
          "metadata": {}
        }
      ],
      "execution_count": 46,
      "metadata": {
        "collapsed": false
      }
    },
    {
      "cell_type": "code",
      "source": [
        "# WRITE CODE HERE THAT REPRODUCES THE OUTPUT OF THE CELL BELOW\n",
        "# BE CAREFUL NOT TO RUN THE CELL BELOW, OTHERWISE YOU WON'T\n",
        "# BE ABLE TO SEE THE OUTPUT ANY MORE"
      ],
      "outputs": [],
      "execution_count": 32,
      "metadata": {
        "collapsed": true
      }
    },
    {
      "cell_type": "code",
      "source": [],
      "outputs": [
        {
          "output_type": "execute_result",
          "execution_count": 49,
          "data": {
            "text/plain": [
              "array([[16, 17, 18, 19, 20],\n",
              "       [21, 22, 23, 24, 25]])"
            ]
          },
          "metadata": {}
        }
      ],
      "execution_count": 49,
      "metadata": {
        "collapsed": false
      }
    },
    {
      "cell_type": "markdown",
      "source": [
        "### Now do the following"
      ],
      "metadata": {}
    },
    {
      "cell_type": "markdown",
      "source": [
        "#### Get the sum of all the values in mat"
      ],
      "metadata": {}
    },
    {
      "cell_type": "code",
      "source": [
        "mat.sum()"
      ],
      "outputs": [
        {
          "output_type": "execute_result",
          "execution_count": 34,
          "data": {
            "text/plain": [
              "325"
            ]
          },
          "metadata": {}
        }
      ],
      "execution_count": 34,
      "metadata": {
        "collapsed": false,
        "execution": {
          "iopub.status.busy": "2020-09-30T11:58:25.306Z",
          "iopub.execute_input": "2020-09-30T11:58:25.314Z",
          "iopub.status.idle": "2020-09-30T11:58:25.330Z",
          "shell.execute_reply": "2020-09-30T11:58:25.338Z"
        }
      }
    },
    {
      "cell_type": "markdown",
      "source": [
        "#### Get the standard deviation of the values in mat"
      ],
      "metadata": {}
    },
    {
      "cell_type": "code",
      "source": [
        "mat.std()"
      ],
      "outputs": [
        {
          "output_type": "execute_result",
          "execution_count": 35,
          "data": {
            "text/plain": [
              "7.211102550927978"
            ]
          },
          "metadata": {}
        }
      ],
      "execution_count": 35,
      "metadata": {
        "collapsed": false,
        "execution": {
          "iopub.status.busy": "2020-09-30T11:58:34.558Z",
          "iopub.execute_input": "2020-09-30T11:58:34.567Z",
          "iopub.status.idle": "2020-09-30T11:58:34.589Z",
          "shell.execute_reply": "2020-09-30T11:58:34.598Z"
        }
      }
    },
    {
      "cell_type": "markdown",
      "source": [
        "#### Get the sum of all the columns in mat"
      ],
      "metadata": {}
    },
    {
      "cell_type": "code",
      "source": [
        "mat.sum(axis=0)"
      ],
      "outputs": [
        {
          "output_type": "execute_result",
          "execution_count": 38,
          "data": {
            "text/plain": [
              "array([55, 60, 65, 70, 75])"
            ]
          },
          "metadata": {}
        }
      ],
      "execution_count": 38,
      "metadata": {
        "collapsed": false,
        "execution": {
          "iopub.status.busy": "2020-09-30T11:59:32.857Z",
          "iopub.execute_input": "2020-09-30T11:59:32.864Z",
          "iopub.status.idle": "2020-09-30T11:59:32.881Z",
          "shell.execute_reply": "2020-09-30T11:59:32.888Z"
        }
      }
    },
    {
      "cell_type": "markdown",
      "source": [
        "# Great Job!"
      ],
      "metadata": {
        "collapsed": true
      }
    }
  ],
  "metadata": {
    "kernelspec": {
      "display_name": "Python 3",
      "language": "python",
      "name": "python3"
    },
    "language_info": {
      "name": "python",
      "version": "3.7.3",
      "mimetype": "text/x-python",
      "codemirror_mode": {
        "name": "ipython",
        "version": 3
      },
      "pygments_lexer": "ipython3",
      "nbconvert_exporter": "python",
      "file_extension": ".py"
    },
    "nteract": {
      "version": "0.23.1"
    }
  },
  "nbformat": 4,
  "nbformat_minor": 0
}