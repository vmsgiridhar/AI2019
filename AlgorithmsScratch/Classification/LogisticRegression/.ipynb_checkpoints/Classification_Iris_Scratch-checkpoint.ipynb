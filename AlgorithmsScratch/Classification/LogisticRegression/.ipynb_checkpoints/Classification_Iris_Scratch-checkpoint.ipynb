{
 "cells": [
  {
   "cell_type": "markdown",
   "metadata": {},
   "source": [
    "# Sai Giridhar Notes for Machine Learning Classification from Scratch"
   ]
  },
  {
   "cell_type": "markdown",
   "metadata": {},
   "source": [
    "# Resources being used to learn doing ML Classification from Scratch\n",
    "# Web sites\n",
    "* Code: https://www.kdnuggets.com/2017/02/learned-implementing-classifier-scratch-python.html\n",
    "* Study: https://en.wikipedia.org/wiki/Iris_flower_data_set\n",
    "* Study: https://see.stanford.edu/Course/CS229\n",
    "* Study: [IMPORTANT] https://see.stanford.edu/materials/aimlcs229/cs229-notes1.pdf\n",
    "* Study: [IMPORTANT] https://scikit-learn.org/stable/auto_examples/linear_model/plot_iris_logistic.html\n",
    "* Study: https://medium.com/@martinpella/logistic-regression-from-scratch-in-python-124c5636b8ac\n",
    "* Study: About addition of l2 regularization and multiclass classification. https://github.com/martinpella/logistic-reg"
   ]
  },
  {
   "cell_type": "markdown",
   "metadata": {},
   "source": [
    "# Steps in this:\n",
    "+ Preprocessing\n",
    "+ Learning \n",
    "+ Evaluation\n",
    "+ Prediction"
   ]
  },
  {
   "cell_type": "markdown",
   "metadata": {},
   "source": [
    "# Part 1 - Preprocessing\n",
    "\n",
    "Step in Preprocessing data:\n",
    "* Extract features from raw data\n",
    "* Clean and format the data\n",
    "* Remove superfluous features (or highly correlated features)\n",
    "* Reduce the number of features for performance\n",
    "* Standardize the range of feature data (also named Feature Scaling)\n",
    "* Split your dataset randomly: training dataset and test dataset"
   ]
  },
  {
   "cell_type": "code",
   "execution_count": 1,
   "metadata": {},
   "outputs": [],
   "source": [
    "# Prerequsite Libraries\n",
    "import pandas as pd\n",
    "import numpy as np\n",
    "import matplotlib.pyplot as plt\n",
    "from sklearn import datasets\n",
    "import sklearn"
   ]
  },
  {
   "cell_type": "code",
   "execution_count": 2,
   "metadata": {},
   "outputs": [],
   "source": [
    "# deriving the data\n",
    "\n",
    "dataset = sklearn.datasets.load_iris()"
   ]
  },
  {
   "cell_type": "code",
   "execution_count": 7,
   "metadata": {},
   "outputs": [
    {
     "data": {
      "text/plain": [
       "(150, 4)"
      ]
     },
     "execution_count": 7,
     "metadata": {},
     "output_type": "execute_result"
    }
   ],
   "source": [
    "dataset.data.shape"
   ]
  },
  {
   "cell_type": "code",
   "execution_count": 4,
   "metadata": {},
   "outputs": [
    {
     "name": "stdout",
     "output_type": "stream",
     "text": [
      "['sepal length (cm)', 'sepal width (cm)', 'petal length (cm)', 'petal width (cm)']\n",
      "['setosa' 'versicolor' 'virginica']\n"
     ]
    }
   ],
   "source": [
    "# Column Legend: petal length, petal width, sepal length, sepal width and species\n",
    "\n",
    "print(dataset.feature_names)\n",
    "print(dataset.target_names)"
   ]
  },
  {
   "cell_type": "code",
   "execution_count": 8,
   "metadata": {},
   "outputs": [],
   "source": [
    "# Getting the features and target (Species of Flower)\n",
    "X = dataset.data[:,:2]\n",
    "y = dataset.target"
   ]
  },
  {
   "cell_type": "code",
   "execution_count": 16,
   "metadata": {},
   "outputs": [],
   "source": [
    "X=pd.DataFrame(X)"
   ]
  },
  {
   "cell_type": "code",
   "execution_count": 36,
   "metadata": {},
   "outputs": [
    {
     "data": {
      "text/plain": [
       "0    0\n",
       "1    0\n",
       "dtype: int64"
      ]
     },
     "execution_count": 36,
     "metadata": {},
     "output_type": "execute_result"
    }
   ],
   "source": [
    "X.isna().sum()"
   ]
  },
  {
   "cell_type": "code",
   "execution_count": 7,
   "metadata": {},
   "outputs": [
    {
     "data": {
      "text/plain": [
       "(array([[5.1, 3.5],\n",
       "        [4.9, 3. ],\n",
       "        [4.7, 3.2],\n",
       "        [4.6, 3.1],\n",
       "        [5. , 3.6],\n",
       "        [5.4, 3.9],\n",
       "        [4.6, 3.4],\n",
       "        [5. , 3.4],\n",
       "        [4.4, 2.9],\n",
       "        [4.9, 3.1],\n",
       "        [5.4, 3.7],\n",
       "        [4.8, 3.4],\n",
       "        [4.8, 3. ],\n",
       "        [4.3, 3. ],\n",
       "        [5.8, 4. ],\n",
       "        [5.7, 4.4],\n",
       "        [5.4, 3.9],\n",
       "        [5.1, 3.5],\n",
       "        [5.7, 3.8],\n",
       "        [5.1, 3.8],\n",
       "        [5.4, 3.4],\n",
       "        [5.1, 3.7],\n",
       "        [4.6, 3.6],\n",
       "        [5.1, 3.3],\n",
       "        [4.8, 3.4],\n",
       "        [5. , 3. ],\n",
       "        [5. , 3.4],\n",
       "        [5.2, 3.5],\n",
       "        [5.2, 3.4],\n",
       "        [4.7, 3.2],\n",
       "        [4.8, 3.1],\n",
       "        [5.4, 3.4],\n",
       "        [5.2, 4.1],\n",
       "        [5.5, 4.2],\n",
       "        [4.9, 3.1],\n",
       "        [5. , 3.2],\n",
       "        [5.5, 3.5],\n",
       "        [4.9, 3.6],\n",
       "        [4.4, 3. ],\n",
       "        [5.1, 3.4],\n",
       "        [5. , 3.5],\n",
       "        [4.5, 2.3],\n",
       "        [4.4, 3.2],\n",
       "        [5. , 3.5],\n",
       "        [5.1, 3.8],\n",
       "        [4.8, 3. ],\n",
       "        [5.1, 3.8],\n",
       "        [4.6, 3.2],\n",
       "        [5.3, 3.7],\n",
       "        [5. , 3.3],\n",
       "        [7. , 3.2],\n",
       "        [6.4, 3.2],\n",
       "        [6.9, 3.1],\n",
       "        [5.5, 2.3],\n",
       "        [6.5, 2.8],\n",
       "        [5.7, 2.8],\n",
       "        [6.3, 3.3],\n",
       "        [4.9, 2.4],\n",
       "        [6.6, 2.9],\n",
       "        [5.2, 2.7],\n",
       "        [5. , 2. ],\n",
       "        [5.9, 3. ],\n",
       "        [6. , 2.2],\n",
       "        [6.1, 2.9],\n",
       "        [5.6, 2.9],\n",
       "        [6.7, 3.1],\n",
       "        [5.6, 3. ],\n",
       "        [5.8, 2.7],\n",
       "        [6.2, 2.2],\n",
       "        [5.6, 2.5],\n",
       "        [5.9, 3.2],\n",
       "        [6.1, 2.8],\n",
       "        [6.3, 2.5],\n",
       "        [6.1, 2.8],\n",
       "        [6.4, 2.9],\n",
       "        [6.6, 3. ],\n",
       "        [6.8, 2.8],\n",
       "        [6.7, 3. ],\n",
       "        [6. , 2.9],\n",
       "        [5.7, 2.6],\n",
       "        [5.5, 2.4],\n",
       "        [5.5, 2.4],\n",
       "        [5.8, 2.7],\n",
       "        [6. , 2.7],\n",
       "        [5.4, 3. ],\n",
       "        [6. , 3.4],\n",
       "        [6.7, 3.1],\n",
       "        [6.3, 2.3],\n",
       "        [5.6, 3. ],\n",
       "        [5.5, 2.5],\n",
       "        [5.5, 2.6],\n",
       "        [6.1, 3. ],\n",
       "        [5.8, 2.6],\n",
       "        [5. , 2.3],\n",
       "        [5.6, 2.7],\n",
       "        [5.7, 3. ],\n",
       "        [5.7, 2.9],\n",
       "        [6.2, 2.9],\n",
       "        [5.1, 2.5],\n",
       "        [5.7, 2.8],\n",
       "        [6.3, 3.3],\n",
       "        [5.8, 2.7],\n",
       "        [7.1, 3. ],\n",
       "        [6.3, 2.9],\n",
       "        [6.5, 3. ],\n",
       "        [7.6, 3. ],\n",
       "        [4.9, 2.5],\n",
       "        [7.3, 2.9],\n",
       "        [6.7, 2.5],\n",
       "        [7.2, 3.6],\n",
       "        [6.5, 3.2],\n",
       "        [6.4, 2.7],\n",
       "        [6.8, 3. ],\n",
       "        [5.7, 2.5],\n",
       "        [5.8, 2.8],\n",
       "        [6.4, 3.2],\n",
       "        [6.5, 3. ],\n",
       "        [7.7, 3.8],\n",
       "        [7.7, 2.6],\n",
       "        [6. , 2.2],\n",
       "        [6.9, 3.2],\n",
       "        [5.6, 2.8],\n",
       "        [7.7, 2.8],\n",
       "        [6.3, 2.7],\n",
       "        [6.7, 3.3],\n",
       "        [7.2, 3.2],\n",
       "        [6.2, 2.8],\n",
       "        [6.1, 3. ],\n",
       "        [6.4, 2.8],\n",
       "        [7.2, 3. ],\n",
       "        [7.4, 2.8],\n",
       "        [7.9, 3.8],\n",
       "        [6.4, 2.8],\n",
       "        [6.3, 2.8],\n",
       "        [6.1, 2.6],\n",
       "        [7.7, 3. ],\n",
       "        [6.3, 3.4],\n",
       "        [6.4, 3.1],\n",
       "        [6. , 3. ],\n",
       "        [6.9, 3.1],\n",
       "        [6.7, 3.1],\n",
       "        [6.9, 3.1],\n",
       "        [5.8, 2.7],\n",
       "        [6.8, 3.2],\n",
       "        [6.7, 3.3],\n",
       "        [6.7, 3. ],\n",
       "        [6.3, 2.5],\n",
       "        [6.5, 3. ],\n",
       "        [6.2, 3.4],\n",
       "        [5.9, 3. ]]),\n",
       " array([0, 0, 0, 0, 0, 0, 0, 0, 0, 0, 0, 0, 0, 0, 0, 0, 0, 0, 0, 0, 0, 0,\n",
       "        0, 0, 0, 0, 0, 0, 0, 0, 0, 0, 0, 0, 0, 0, 0, 0, 0, 0, 0, 0, 0, 0,\n",
       "        0, 0, 0, 0, 0, 0, 1, 1, 1, 1, 1, 1, 1, 1, 1, 1, 1, 1, 1, 1, 1, 1,\n",
       "        1, 1, 1, 1, 1, 1, 1, 1, 1, 1, 1, 1, 1, 1, 1, 1, 1, 1, 1, 1, 1, 1,\n",
       "        1, 1, 1, 1, 1, 1, 1, 1, 1, 1, 1, 1, 2, 2, 2, 2, 2, 2, 2, 2, 2, 2,\n",
       "        2, 2, 2, 2, 2, 2, 2, 2, 2, 2, 2, 2, 2, 2, 2, 2, 2, 2, 2, 2, 2, 2,\n",
       "        2, 2, 2, 2, 2, 2, 2, 2, 2, 2, 2, 2, 2, 2, 2, 2, 2, 2]))"
      ]
     },
     "execution_count": 7,
     "metadata": {},
     "output_type": "execute_result"
    }
   ],
   "source": [
    "# Raw visualization of data\n",
    "X, y"
   ]
  },
  {
   "cell_type": "code",
   "execution_count": 8,
   "metadata": {},
   "outputs": [
    {
     "name": "stdout",
     "output_type": "stream",
     "text": [
      "<class 'pandas.core.frame.DataFrame'>\n",
      "RangeIndex: 150 entries, 0 to 149\n",
      "Data columns (total 6 columns):\n",
      "Id               150 non-null int64\n",
      "SepalLengthCm    150 non-null float64\n",
      "SepalWidthCm     150 non-null float64\n",
      "PetalLengthCm    150 non-null float64\n",
      "PetalWidthCm     150 non-null float64\n",
      "Species          150 non-null object\n",
      "dtypes: float64(4), int64(1), object(1)\n",
      "memory usage: 7.1+ KB\n"
     ]
    },
    {
     "data": {
      "text/plain": [
       "Iris-virginica     50\n",
       "Iris-versicolor    50\n",
       "Iris-setosa        50\n",
       "Name: target, dtype: int64"
      ]
     },
     "execution_count": 8,
     "metadata": {},
     "output_type": "execute_result"
    }
   ],
   "source": [
    "# Graphical visualization of the Iris data\n",
    "\n",
    "# load csv data\n",
    "iris = pd.read_csv(\"Iris.csv\")\n",
    "iris.info()\n",
    "\n",
    "# change the target from string to int\n",
    "iris['Species'] = iris['Species'].astype('category')\n",
    "iris['target'] = pd.Categorical(iris['Species'])\n",
    "iris['target'].value_counts()"
   ]
  },
  {
   "cell_type": "code",
   "execution_count": 9,
   "metadata": {},
   "outputs": [
    {
     "data": {
      "text/html": [
       "<div>\n",
       "<style scoped>\n",
       "    .dataframe tbody tr th:only-of-type {\n",
       "        vertical-align: middle;\n",
       "    }\n",
       "\n",
       "    .dataframe tbody tr th {\n",
       "        vertical-align: top;\n",
       "    }\n",
       "\n",
       "    .dataframe thead th {\n",
       "        text-align: right;\n",
       "    }\n",
       "</style>\n",
       "<table border=\"1\" class=\"dataframe\">\n",
       "  <thead>\n",
       "    <tr style=\"text-align: right;\">\n",
       "      <th></th>\n",
       "      <th>Id</th>\n",
       "      <th>SepalLengthCm</th>\n",
       "      <th>SepalWidthCm</th>\n",
       "      <th>PetalLengthCm</th>\n",
       "      <th>PetalWidthCm</th>\n",
       "      <th>Species</th>\n",
       "      <th>target</th>\n",
       "    </tr>\n",
       "  </thead>\n",
       "  <tbody>\n",
       "    <tr>\n",
       "      <th>0</th>\n",
       "      <td>1</td>\n",
       "      <td>5.1</td>\n",
       "      <td>3.5</td>\n",
       "      <td>1.4</td>\n",
       "      <td>0.2</td>\n",
       "      <td>Iris-setosa</td>\n",
       "      <td>Iris-setosa</td>\n",
       "    </tr>\n",
       "    <tr>\n",
       "      <th>1</th>\n",
       "      <td>2</td>\n",
       "      <td>4.9</td>\n",
       "      <td>3.0</td>\n",
       "      <td>1.4</td>\n",
       "      <td>0.2</td>\n",
       "      <td>Iris-setosa</td>\n",
       "      <td>Iris-setosa</td>\n",
       "    </tr>\n",
       "    <tr>\n",
       "      <th>2</th>\n",
       "      <td>3</td>\n",
       "      <td>4.7</td>\n",
       "      <td>3.2</td>\n",
       "      <td>1.3</td>\n",
       "      <td>0.2</td>\n",
       "      <td>Iris-setosa</td>\n",
       "      <td>Iris-setosa</td>\n",
       "    </tr>\n",
       "    <tr>\n",
       "      <th>3</th>\n",
       "      <td>4</td>\n",
       "      <td>4.6</td>\n",
       "      <td>3.1</td>\n",
       "      <td>1.5</td>\n",
       "      <td>0.2</td>\n",
       "      <td>Iris-setosa</td>\n",
       "      <td>Iris-setosa</td>\n",
       "    </tr>\n",
       "    <tr>\n",
       "      <th>4</th>\n",
       "      <td>5</td>\n",
       "      <td>5.0</td>\n",
       "      <td>3.6</td>\n",
       "      <td>1.4</td>\n",
       "      <td>0.2</td>\n",
       "      <td>Iris-setosa</td>\n",
       "      <td>Iris-setosa</td>\n",
       "    </tr>\n",
       "  </tbody>\n",
       "</table>\n",
       "</div>"
      ],
      "text/plain": [
       "   Id  SepalLengthCm  SepalWidthCm  PetalLengthCm  PetalWidthCm      Species  \\\n",
       "0   1            5.1           3.5            1.4           0.2  Iris-setosa   \n",
       "1   2            4.9           3.0            1.4           0.2  Iris-setosa   \n",
       "2   3            4.7           3.2            1.3           0.2  Iris-setosa   \n",
       "3   4            4.6           3.1            1.5           0.2  Iris-setosa   \n",
       "4   5            5.0           3.6            1.4           0.2  Iris-setosa   \n",
       "\n",
       "        target  \n",
       "0  Iris-setosa  \n",
       "1  Iris-setosa  \n",
       "2  Iris-setosa  \n",
       "3  Iris-setosa  \n",
       "4  Iris-setosa  "
      ]
     },
     "execution_count": 9,
     "metadata": {},
     "output_type": "execute_result"
    }
   ],
   "source": [
    "# Example iris data - just to check\n",
    "iris.head()"
   ]
  },
  {
   "cell_type": "code",
   "execution_count": 10,
   "metadata": {},
   "outputs": [
    {
     "data": {
      "text/plain": [
       "Text(0.5, 1.0, 'Original Iris Dataset')"
      ]
     },
     "execution_count": 10,
     "metadata": {},
     "output_type": "execute_result"
    },
    {
     "data": {
      "image/png": "[encoded data removed]",
      "text/plain": [
       "<Figure size 432x288 with 1 Axes>"
      ]
     },
     "metadata": {
      "needs_background": "light"
     },
     "output_type": "display_data"
    }
   ],
   "source": [
    "# Visualizing using Pandas \n",
    "# scatter plot using pandas\n",
    "\n",
    "ax = iris[iris.Species=='Iris-setosa'].plot.scatter(x='SepalLengthCm', y='SepalWidthCm', \n",
    "                                                    color='red', label='setosa')\n",
    "iris[iris.Species=='Iris-versicolor'].plot.scatter(x='SepalLengthCm', y='SepalWidthCm', \n",
    "                                                color='green', label='versicolor', ax=ax)\n",
    "iris[iris.Species=='Iris-virginica'].plot.scatter(x='SepalLengthCm', y='SepalWidthCm', \n",
    "                                                color='blue', label='virginica', ax=ax)\n",
    "ax.set_title(\"Original Iris Dataset\")"
   ]
  },
  {
   "cell_type": "markdown",
   "metadata": {},
   "source": [
    "# Note\n",
    "\n",
    "# Clearly from the scatter plot above, the Versicolor and Virginica are linearly non-seperable. So, let's build the model to predict Setosa Vs Versicolor + virginica."
   ]
  },
  {
   "cell_type": "code",
   "execution_count": 11,
   "metadata": {},
   "outputs": [],
   "source": [
    "# Converting 1 Versicolor , 2 virginica to Versicolor+Virginica.\n",
    "#y = (iris.target != 0) * 1\n",
    "y = (dataset.target != 0) * 1"
   ]
  },
  {
   "cell_type": "code",
   "execution_count": 12,
   "metadata": {},
   "outputs": [
    {
     "data": {
      "text/plain": [
       "array([0, 0, 0, 0, 0, 0, 0, 0, 0, 0, 0, 0, 0, 0, 0, 0, 0, 0, 0, 0, 0, 0,\n",
       "       0, 0, 0, 0, 0, 0, 0, 0, 0, 0, 0, 0, 0, 0, 0, 0, 0, 0, 0, 0, 0, 0,\n",
       "       0, 0, 0, 0, 0, 0, 1, 1, 1, 1, 1, 1, 1, 1, 1, 1, 1, 1, 1, 1, 1, 1,\n",
       "       1, 1, 1, 1, 1, 1, 1, 1, 1, 1, 1, 1, 1, 1, 1, 1, 1, 1, 1, 1, 1, 1,\n",
       "       1, 1, 1, 1, 1, 1, 1, 1, 1, 1, 1, 1, 1, 1, 1, 1, 1, 1, 1, 1, 1, 1,\n",
       "       1, 1, 1, 1, 1, 1, 1, 1, 1, 1, 1, 1, 1, 1, 1, 1, 1, 1, 1, 1, 1, 1,\n",
       "       1, 1, 1, 1, 1, 1, 1, 1, 1, 1, 1, 1, 1, 1, 1, 1, 1, 1])"
      ]
     },
     "execution_count": 12,
     "metadata": {},
     "output_type": "execute_result"
    }
   ],
   "source": [
    "# Verifying y (if it is only of two Categories 0 Setosa, 1+2 Versicolor+Virginica)\n",
    "y"
   ]
  },
  {
   "cell_type": "markdown",
   "metadata": {},
   "source": [
    "# Building the Scatterplot again"
   ]
  },
  {
   "cell_type": "code",
   "execution_count": 13,
   "metadata": {},
   "outputs": [
    {
     "data": {
      "text/plain": [
       "(array([[5.1, 3.5],\n",
       "        [4.9, 3. ],\n",
       "        [4.7, 3.2],\n",
       "        [4.6, 3.1],\n",
       "        [5. , 3.6],\n",
       "        [5.4, 3.9],\n",
       "        [4.6, 3.4],\n",
       "        [5. , 3.4],\n",
       "        [4.4, 2.9],\n",
       "        [4.9, 3.1],\n",
       "        [5.4, 3.7],\n",
       "        [4.8, 3.4],\n",
       "        [4.8, 3. ],\n",
       "        [4.3, 3. ],\n",
       "        [5.8, 4. ],\n",
       "        [5.7, 4.4],\n",
       "        [5.4, 3.9],\n",
       "        [5.1, 3.5],\n",
       "        [5.7, 3.8],\n",
       "        [5.1, 3.8],\n",
       "        [5.4, 3.4],\n",
       "        [5.1, 3.7],\n",
       "        [4.6, 3.6],\n",
       "        [5.1, 3.3],\n",
       "        [4.8, 3.4],\n",
       "        [5. , 3. ],\n",
       "        [5. , 3.4],\n",
       "        [5.2, 3.5],\n",
       "        [5.2, 3.4],\n",
       "        [4.7, 3.2],\n",
       "        [4.8, 3.1],\n",
       "        [5.4, 3.4],\n",
       "        [5.2, 4.1],\n",
       "        [5.5, 4.2],\n",
       "        [4.9, 3.1],\n",
       "        [5. , 3.2],\n",
       "        [5.5, 3.5],\n",
       "        [4.9, 3.6],\n",
       "        [4.4, 3. ],\n",
       "        [5.1, 3.4],\n",
       "        [5. , 3.5],\n",
       "        [4.5, 2.3],\n",
       "        [4.4, 3.2],\n",
       "        [5. , 3.5],\n",
       "        [5.1, 3.8],\n",
       "        [4.8, 3. ],\n",
       "        [5.1, 3.8],\n",
       "        [4.6, 3.2],\n",
       "        [5.3, 3.7],\n",
       "        [5. , 3.3],\n",
       "        [7. , 3.2],\n",
       "        [6.4, 3.2],\n",
       "        [6.9, 3.1],\n",
       "        [5.5, 2.3],\n",
       "        [6.5, 2.8],\n",
       "        [5.7, 2.8],\n",
       "        [6.3, 3.3],\n",
       "        [4.9, 2.4],\n",
       "        [6.6, 2.9],\n",
       "        [5.2, 2.7],\n",
       "        [5. , 2. ],\n",
       "        [5.9, 3. ],\n",
       "        [6. , 2.2],\n",
       "        [6.1, 2.9],\n",
       "        [5.6, 2.9],\n",
       "        [6.7, 3.1],\n",
       "        [5.6, 3. ],\n",
       "        [5.8, 2.7],\n",
       "        [6.2, 2.2],\n",
       "        [5.6, 2.5],\n",
       "        [5.9, 3.2],\n",
       "        [6.1, 2.8],\n",
       "        [6.3, 2.5],\n",
       "        [6.1, 2.8],\n",
       "        [6.4, 2.9],\n",
       "        [6.6, 3. ],\n",
       "        [6.8, 2.8],\n",
       "        [6.7, 3. ],\n",
       "        [6. , 2.9],\n",
       "        [5.7, 2.6],\n",
       "        [5.5, 2.4],\n",
       "        [5.5, 2.4],\n",
       "        [5.8, 2.7],\n",
       "        [6. , 2.7],\n",
       "        [5.4, 3. ],\n",
       "        [6. , 3.4],\n",
       "        [6.7, 3.1],\n",
       "        [6.3, 2.3],\n",
       "        [5.6, 3. ],\n",
       "        [5.5, 2.5],\n",
       "        [5.5, 2.6],\n",
       "        [6.1, 3. ],\n",
       "        [5.8, 2.6],\n",
       "        [5. , 2.3],\n",
       "        [5.6, 2.7],\n",
       "        [5.7, 3. ],\n",
       "        [5.7, 2.9],\n",
       "        [6.2, 2.9],\n",
       "        [5.1, 2.5],\n",
       "        [5.7, 2.8],\n",
       "        [6.3, 3.3],\n",
       "        [5.8, 2.7],\n",
       "        [7.1, 3. ],\n",
       "        [6.3, 2.9],\n",
       "        [6.5, 3. ],\n",
       "        [7.6, 3. ],\n",
       "        [4.9, 2.5],\n",
       "        [7.3, 2.9],\n",
       "        [6.7, 2.5],\n",
       "        [7.2, 3.6],\n",
       "        [6.5, 3.2],\n",
       "        [6.4, 2.7],\n",
       "        [6.8, 3. ],\n",
       "        [5.7, 2.5],\n",
       "        [5.8, 2.8],\n",
       "        [6.4, 3.2],\n",
       "        [6.5, 3. ],\n",
       "        [7.7, 3.8],\n",
       "        [7.7, 2.6],\n",
       "        [6. , 2.2],\n",
       "        [6.9, 3.2],\n",
       "        [5.6, 2.8],\n",
       "        [7.7, 2.8],\n",
       "        [6.3, 2.7],\n",
       "        [6.7, 3.3],\n",
       "        [7.2, 3.2],\n",
       "        [6.2, 2.8],\n",
       "        [6.1, 3. ],\n",
       "        [6.4, 2.8],\n",
       "        [7.2, 3. ],\n",
       "        [7.4, 2.8],\n",
       "        [7.9, 3.8],\n",
       "        [6.4, 2.8],\n",
       "        [6.3, 2.8],\n",
       "        [6.1, 2.6],\n",
       "        [7.7, 3. ],\n",
       "        [6.3, 3.4],\n",
       "        [6.4, 3.1],\n",
       "        [6. , 3. ],\n",
       "        [6.9, 3.1],\n",
       "        [6.7, 3.1],\n",
       "        [6.9, 3.1],\n",
       "        [5.8, 2.7],\n",
       "        [6.8, 3.2],\n",
       "        [6.7, 3.3],\n",
       "        [6.7, 3. ],\n",
       "        [6.3, 2.5],\n",
       "        [6.5, 3. ],\n",
       "        [6.2, 3.4],\n",
       "        [5.9, 3. ]]),\n",
       " array([0, 0, 0, 0, 0, 0, 0, 0, 0, 0, 0, 0, 0, 0, 0, 0, 0, 0, 0, 0, 0, 0,\n",
       "        0, 0, 0, 0, 0, 0, 0, 0, 0, 0, 0, 0, 0, 0, 0, 0, 0, 0, 0, 0, 0, 0,\n",
       "        0, 0, 0, 0, 0, 0, 1, 1, 1, 1, 1, 1, 1, 1, 1, 1, 1, 1, 1, 1, 1, 1,\n",
       "        1, 1, 1, 1, 1, 1, 1, 1, 1, 1, 1, 1, 1, 1, 1, 1, 1, 1, 1, 1, 1, 1,\n",
       "        1, 1, 1, 1, 1, 1, 1, 1, 1, 1, 1, 1, 1, 1, 1, 1, 1, 1, 1, 1, 1, 1,\n",
       "        1, 1, 1, 1, 1, 1, 1, 1, 1, 1, 1, 1, 1, 1, 1, 1, 1, 1, 1, 1, 1, 1,\n",
       "        1, 1, 1, 1, 1, 1, 1, 1, 1, 1, 1, 1, 1, 1, 1, 1, 1, 1]))"
      ]
     },
     "execution_count": 13,
     "metadata": {},
     "output_type": "execute_result"
    }
   ],
   "source": [
    "X, y"
   ]
  },
  {
   "cell_type": "code",
   "execution_count": 14,
   "metadata": {},
   "outputs": [
    {
     "data": {
      "text/plain": [
       "Text(0.5, 1.0, 'Original Iris Dataset')"
      ]
     },
     "execution_count": 14,
     "metadata": {},
     "output_type": "execute_result"
    },
    {
     "data": {
      "image/png": "[encoded data removed]",
      "text/plain": [
       "<Figure size 432x288 with 1 Axes>"
      ]
     },
     "metadata": {
      "needs_background": "light"
     },
     "output_type": "display_data"
    }
   ],
   "source": [
    "# Visualizing using Pandas \n",
    "# scatter plot using pandas\n",
    "\n",
    "ax = iris[iris.Species=='Iris-setosa'].plot.scatter(x='SepalLengthCm', y='SepalWidthCm', \n",
    "                                                    color='red', label='setosa')\n",
    "iris[iris.Species=='Iris-versicolor'].plot.scatter(x='SepalLengthCm', y='SepalWidthCm', \n",
    "                                                color='green', label='versicolor', ax=ax)\n",
    "iris[iris.Species=='Iris-virginica'].plot.scatter(x='SepalLengthCm', y='SepalWidthCm', \n",
    "                                                color='green', label='virginica', ax=ax)\n",
    "ax.set_title(\"Original Iris Dataset\")"
   ]
  },
  {
   "cell_type": "markdown",
   "metadata": {},
   "source": [
    "# Part 2 - Learning \n",
    "# Implementing the logic for the Logistic Regression"
   ]
  },
  {
   "cell_type": "markdown",
   "metadata": {},
   "source": [
    "Sigmoid function returns values that could only reach a least of 0 and a max of 1\n",
    "So, Sigmoid function takes in Theta Transpose * X and perform the 1/1+ e ^ -(Theta Transpose * X)"
   ]
  },
  {
   "cell_type": "code",
   "execution_count": 15,
   "metadata": {},
   "outputs": [],
   "source": [
    "# Including all the Sigmoid function, loss function, gradient, predictors\n",
    "# Refer to the Logistic Regression session in the https://see.stanford.edu/materials/aimlcs229/cs229-notes1.pdf for formula"
   ]
  },
  {
   "cell_type": "code",
   "execution_count": 16,
   "metadata": {},
   "outputs": [],
   "source": [
    "class LogisticRegression:\n",
    "    def __init__(self, lr=0.01, num_iter=100000, fit_intercept=True, verbose=False):\n",
    "        self.lr = lr\n",
    "        self.verbose = verbose\n",
    "        self.num_iter = num_iter\n",
    "        self.fit_intercept = fit_intercept\n",
    "    \n",
    "    def __add_intercept(self, X):\n",
    "        intercept = np.ones((X.shape[0], 1))\n",
    "        return np.concatenate((intercept, X), axis=1)\n",
    "    \n",
    "    def __sigmoid(self, z):\n",
    "        return 1 / (1 + np.exp(-z))\n",
    "    def __loss(self, h, y):\n",
    "        return (-y * np.log(h) - (1 - y) * np.log(1 - h)).mean()\n",
    "    \n",
    "    def fit(self, X, y):\n",
    "        if self.fit_intercept:\n",
    "            X = self.__add_intercept(X)\n",
    "        \n",
    "        # weights initialization\n",
    "        self.theta = np.zeros(X.shape[1])\n",
    "        \n",
    "        for i in range(self.num_iter):\n",
    "            z = np.dot(X, self.theta)\n",
    "            h = self.__sigmoid(z)\n",
    "            gradient = np.dot(X.T, (h - y)) / y.size\n",
    "            self.theta -= self.lr * gradient\n",
    "            \n",
    "            if(self.verbose == True and i % 10000 == 0):\n",
    "                z = np.dot(X, self.theta)\n",
    "                h = self.__sigmoid(z)\n",
    "                print(f'loss: {self.__loss(h, y)} \\t')\n",
    "    \n",
    "    def predict_prob(self, X):\n",
    "        if self.fit_intercept:\n",
    "            X = self.__add_intercept(X)\n",
    "    \n",
    "        return self.__sigmoid(np.dot(X, self.theta))\n",
    "    \n",
    "    def predict(self, X, threshold):\n",
    "        return self.predict_prob(X) >= threshold "
   ]
  },
  {
   "cell_type": "markdown",
   "metadata": {},
   "source": [
    "# Part 3 - Prediction"
   ]
  },
  {
   "cell_type": "code",
   "execution_count": 17,
   "metadata": {},
   "outputs": [
    {
     "name": "stdout",
     "output_type": "stream",
     "text": [
      "CPU times: user 3.56 s, sys: 3.35 ms, total: 3.57 s\n",
      "Wall time: 3.57 s\n"
     ]
    }
   ],
   "source": [
    "model = LogisticRegression(lr=0.1, num_iter=300000)\n",
    "%time model.fit(X, y)"
   ]
  },
  {
   "cell_type": "code",
   "execution_count": 18,
   "metadata": {},
   "outputs": [],
   "source": [
    "preds = model.predict(X, 0.5)\n",
    "# 0.5 is the threshold"
   ]
  },
  {
   "cell_type": "code",
   "execution_count": 19,
   "metadata": {},
   "outputs": [
    {
     "data": {
      "text/plain": [
       "array([False, False, False, False, False, False, False, False, False,\n",
       "       False, False, False, False, False, False, False, False, False,\n",
       "       False, False, False, False, False, False, False, False, False,\n",
       "       False, False, False, False, False, False, False, False, False,\n",
       "       False, False, False, False, False, False, False, False, False,\n",
       "       False, False, False, False, False,  True,  True,  True,  True,\n",
       "        True,  True,  True,  True,  True,  True,  True,  True,  True,\n",
       "        True,  True,  True,  True,  True,  True,  True,  True,  True,\n",
       "        True,  True,  True,  True,  True,  True,  True,  True,  True,\n",
       "        True,  True,  True,  True,  True,  True,  True,  True,  True,\n",
       "        True,  True,  True,  True,  True,  True,  True,  True,  True,\n",
       "        True,  True,  True,  True,  True,  True,  True,  True,  True,\n",
       "        True,  True,  True,  True,  True,  True,  True,  True,  True,\n",
       "        True,  True,  True,  True,  True,  True,  True,  True,  True,\n",
       "        True,  True,  True,  True,  True,  True,  True,  True,  True,\n",
       "        True,  True,  True,  True,  True,  True,  True,  True,  True,\n",
       "        True,  True,  True,  True,  True,  True])"
      ]
     },
     "execution_count": 19,
     "metadata": {},
     "output_type": "execute_result"
    }
   ],
   "source": [
    "preds "
   ]
  },
  {
   "cell_type": "code",
   "execution_count": 20,
   "metadata": {},
   "outputs": [
    {
     "data": {
      "text/plain": [
       "array([0, 0, 0, 0, 0, 0, 0, 0, 0, 0, 0, 0, 0, 0, 0, 0, 0, 0, 0, 0, 0, 0,\n",
       "       0, 0, 0, 0, 0, 0, 0, 0, 0, 0, 0, 0, 0, 0, 0, 0, 0, 0, 0, 0, 0, 0,\n",
       "       0, 0, 0, 0, 0, 0, 1, 1, 1, 1, 1, 1, 1, 1, 1, 1, 1, 1, 1, 1, 1, 1,\n",
       "       1, 1, 1, 1, 1, 1, 1, 1, 1, 1, 1, 1, 1, 1, 1, 1, 1, 1, 1, 1, 1, 1,\n",
       "       1, 1, 1, 1, 1, 1, 1, 1, 1, 1, 1, 1, 1, 1, 1, 1, 1, 1, 1, 1, 1, 1,\n",
       "       1, 1, 1, 1, 1, 1, 1, 1, 1, 1, 1, 1, 1, 1, 1, 1, 1, 1, 1, 1, 1, 1,\n",
       "       1, 1, 1, 1, 1, 1, 1, 1, 1, 1, 1, 1, 1, 1, 1, 1, 1, 1])"
      ]
     },
     "execution_count": 20,
     "metadata": {},
     "output_type": "execute_result"
    }
   ],
   "source": [
    "y"
   ]
  },
  {
   "cell_type": "code",
   "execution_count": 21,
   "metadata": {},
   "outputs": [],
   "source": [
    "preds = list(preds)\n",
    "\n",
    "y = list(y)\n"
   ]
  },
  {
   "cell_type": "code",
   "execution_count": 22,
   "metadata": {},
   "outputs": [
    {
     "data": {
      "text/plain": [
       "(50, 100)"
      ]
     },
     "execution_count": 22,
     "metadata": {},
     "output_type": "execute_result"
    }
   ],
   "source": [
    "preds.count(False), preds.count(True)"
   ]
  },
  {
   "cell_type": "code",
   "execution_count": 23,
   "metadata": {},
   "outputs": [
    {
     "data": {
      "text/plain": [
       "(50, 100)"
      ]
     },
     "execution_count": 23,
     "metadata": {},
     "output_type": "execute_result"
    }
   ],
   "source": [
    "y.count(0), y.count(1)"
   ]
  },
  {
   "cell_type": "markdown",
   "metadata": {},
   "source": [
    "# Results\n",
    "Picking a learning rate = 0.1 and \n",
    "number of iterations = 300000 \n",
    "We got all the data classified correctly"
   ]
  },
  {
   "cell_type": "markdown",
   "metadata": {},
   "source": [
    "# Lets check the weights"
   ]
  },
  {
   "cell_type": "code",
   "execution_count": 24,
   "metadata": {},
   "outputs": [
    {
     "data": {
      "text/plain": [
       "array([-25.89066442,  12.523156  , -13.40150447])"
      ]
     },
     "execution_count": 24,
     "metadata": {},
     "output_type": "execute_result"
    }
   ],
   "source": [
    "model.theta\n",
    "# Theta 0, Theta 1, Theta 2."
   ]
  },
  {
   "cell_type": "markdown",
   "metadata": {},
   "source": [
    "# Part 4 - Evaluation"
   ]
  },
  {
   "cell_type": "markdown",
   "metadata": {},
   "source": [
    "# Splitting into train and test split"
   ]
  },
  {
   "cell_type": "code",
   "execution_count": 25,
   "metadata": {},
   "outputs": [],
   "source": [
    "from sklearn.model_selection import train_test_split"
   ]
  },
  {
   "cell_type": "code",
   "execution_count": 26,
   "metadata": {},
   "outputs": [],
   "source": [
    "X_train, X_test, y_train, y_test = train_test_split(X,y,test_size = 0.15)"
   ]
  },
  {
   "cell_type": "code",
   "execution_count": 27,
   "metadata": {},
   "outputs": [
    {
     "name": "stdout",
     "output_type": "stream",
     "text": [
      "(127, 2)\n",
      "(23, 2)\n",
      "127\n",
      "23\n"
     ]
    }
   ],
   "source": [
    "print(X_train[:,:2].shape)\n",
    "print(X_test[:,:2].shape)\n",
    "print(len(y_train))\n",
    "print(len(y_test))"
   ]
  },
  {
   "cell_type": "code",
   "execution_count": 28,
   "metadata": {},
   "outputs": [
    {
     "data": {
      "text/plain": [
       "(array([[5.1, 3.5],\n",
       "        [4.9, 3. ],\n",
       "        [4.7, 3.2],\n",
       "        [4.6, 3.1],\n",
       "        [5. , 3.6],\n",
       "        [5.4, 3.9],\n",
       "        [4.6, 3.4],\n",
       "        [5. , 3.4],\n",
       "        [4.4, 2.9],\n",
       "        [4.9, 3.1],\n",
       "        [5.4, 3.7],\n",
       "        [4.8, 3.4],\n",
       "        [4.8, 3. ],\n",
       "        [4.3, 3. ],\n",
       "        [5.8, 4. ],\n",
       "        [5.7, 4.4],\n",
       "        [5.4, 3.9],\n",
       "        [5.1, 3.5],\n",
       "        [5.7, 3.8],\n",
       "        [5.1, 3.8],\n",
       "        [5.4, 3.4],\n",
       "        [5.1, 3.7],\n",
       "        [4.6, 3.6],\n",
       "        [5.1, 3.3],\n",
       "        [4.8, 3.4],\n",
       "        [5. , 3. ],\n",
       "        [5. , 3.4],\n",
       "        [5.2, 3.5],\n",
       "        [5.2, 3.4],\n",
       "        [4.7, 3.2],\n",
       "        [4.8, 3.1],\n",
       "        [5.4, 3.4],\n",
       "        [5.2, 4.1],\n",
       "        [5.5, 4.2],\n",
       "        [4.9, 3.1],\n",
       "        [5. , 3.2],\n",
       "        [5.5, 3.5],\n",
       "        [4.9, 3.6],\n",
       "        [4.4, 3. ],\n",
       "        [5.1, 3.4],\n",
       "        [5. , 3.5],\n",
       "        [4.5, 2.3],\n",
       "        [4.4, 3.2],\n",
       "        [5. , 3.5],\n",
       "        [5.1, 3.8],\n",
       "        [4.8, 3. ],\n",
       "        [5.1, 3.8],\n",
       "        [4.6, 3.2],\n",
       "        [5.3, 3.7],\n",
       "        [5. , 3.3],\n",
       "        [7. , 3.2],\n",
       "        [6.4, 3.2],\n",
       "        [6.9, 3.1],\n",
       "        [5.5, 2.3],\n",
       "        [6.5, 2.8],\n",
       "        [5.7, 2.8],\n",
       "        [6.3, 3.3],\n",
       "        [4.9, 2.4],\n",
       "        [6.6, 2.9],\n",
       "        [5.2, 2.7],\n",
       "        [5. , 2. ],\n",
       "        [5.9, 3. ],\n",
       "        [6. , 2.2],\n",
       "        [6.1, 2.9],\n",
       "        [5.6, 2.9],\n",
       "        [6.7, 3.1],\n",
       "        [5.6, 3. ],\n",
       "        [5.8, 2.7],\n",
       "        [6.2, 2.2],\n",
       "        [5.6, 2.5],\n",
       "        [5.9, 3.2],\n",
       "        [6.1, 2.8],\n",
       "        [6.3, 2.5],\n",
       "        [6.1, 2.8],\n",
       "        [6.4, 2.9],\n",
       "        [6.6, 3. ],\n",
       "        [6.8, 2.8],\n",
       "        [6.7, 3. ],\n",
       "        [6. , 2.9],\n",
       "        [5.7, 2.6],\n",
       "        [5.5, 2.4],\n",
       "        [5.5, 2.4],\n",
       "        [5.8, 2.7],\n",
       "        [6. , 2.7],\n",
       "        [5.4, 3. ],\n",
       "        [6. , 3.4],\n",
       "        [6.7, 3.1],\n",
       "        [6.3, 2.3],\n",
       "        [5.6, 3. ],\n",
       "        [5.5, 2.5],\n",
       "        [5.5, 2.6],\n",
       "        [6.1, 3. ],\n",
       "        [5.8, 2.6],\n",
       "        [5. , 2.3],\n",
       "        [5.6, 2.7],\n",
       "        [5.7, 3. ],\n",
       "        [5.7, 2.9],\n",
       "        [6.2, 2.9],\n",
       "        [5.1, 2.5],\n",
       "        [5.7, 2.8],\n",
       "        [6.3, 3.3],\n",
       "        [5.8, 2.7],\n",
       "        [7.1, 3. ],\n",
       "        [6.3, 2.9],\n",
       "        [6.5, 3. ],\n",
       "        [7.6, 3. ],\n",
       "        [4.9, 2.5],\n",
       "        [7.3, 2.9],\n",
       "        [6.7, 2.5],\n",
       "        [7.2, 3.6],\n",
       "        [6.5, 3.2],\n",
       "        [6.4, 2.7],\n",
       "        [6.8, 3. ],\n",
       "        [5.7, 2.5],\n",
       "        [5.8, 2.8],\n",
       "        [6.4, 3.2],\n",
       "        [6.5, 3. ],\n",
       "        [7.7, 3.8],\n",
       "        [7.7, 2.6],\n",
       "        [6. , 2.2],\n",
       "        [6.9, 3.2],\n",
       "        [5.6, 2.8],\n",
       "        [7.7, 2.8],\n",
       "        [6.3, 2.7],\n",
       "        [6.7, 3.3],\n",
       "        [7.2, 3.2],\n",
       "        [6.2, 2.8],\n",
       "        [6.1, 3. ],\n",
       "        [6.4, 2.8],\n",
       "        [7.2, 3. ],\n",
       "        [7.4, 2.8],\n",
       "        [7.9, 3.8],\n",
       "        [6.4, 2.8],\n",
       "        [6.3, 2.8],\n",
       "        [6.1, 2.6],\n",
       "        [7.7, 3. ],\n",
       "        [6.3, 3.4],\n",
       "        [6.4, 3.1],\n",
       "        [6. , 3. ],\n",
       "        [6.9, 3.1],\n",
       "        [6.7, 3.1],\n",
       "        [6.9, 3.1],\n",
       "        [5.8, 2.7],\n",
       "        [6.8, 3.2],\n",
       "        [6.7, 3.3],\n",
       "        [6.7, 3. ],\n",
       "        [6.3, 2.5],\n",
       "        [6.5, 3. ],\n",
       "        [6.2, 3.4],\n",
       "        [5.9, 3. ]]),\n",
       " array([0, 0, 0, 0, 0, 0, 0, 0, 0, 0, 0, 0, 0, 0, 0, 0, 0, 0, 0, 0, 0, 0,\n",
       "        0, 0, 0, 0, 0, 0, 0, 0, 0, 0, 0, 0, 0, 0, 0, 0, 0, 0, 0, 0, 0, 0,\n",
       "        0, 0, 0, 0, 0, 0, 1, 1, 1, 1, 1, 1, 1, 1, 1, 1, 1, 1, 1, 1, 1, 1,\n",
       "        1, 1, 1, 1, 1, 1, 1, 1, 1, 1, 1, 1, 1, 1, 1, 1, 1, 1, 1, 1, 1, 1,\n",
       "        1, 1, 1, 1, 1, 1, 1, 1, 1, 1, 1, 1, 2, 2, 2, 2, 2, 2, 2, 2, 2, 2,\n",
       "        2, 2, 2, 2, 2, 2, 2, 2, 2, 2, 2, 2, 2, 2, 2, 2, 2, 2, 2, 2, 2, 2,\n",
       "        2, 2, 2, 2, 2, 2, 2, 2, 2, 2, 2, 2, 2, 2, 2, 2, 2, 2]))"
      ]
     },
     "execution_count": 28,
     "metadata": {},
     "output_type": "execute_result"
    }
   ],
   "source": [
    "# Getting the features and target (Species of Flower)\n",
    "X = dataset.data[:,:2]\n",
    "y = dataset.target\n",
    "X, y"
   ]
  },
  {
   "cell_type": "code",
   "execution_count": 30,
   "metadata": {},
   "outputs": [
    {
     "name": "stdout",
     "output_type": "stream",
     "text": [
      "CPU times: user 3.24 s, sys: 3.72 ms, total: 3.24 s\n",
      "Wall time: 3.24 s\n"
     ]
    }
   ],
   "source": [
    "# Training the model on the training dataset\n",
    "model = LogisticRegression(lr=0.1, num_iter=300000)\n",
    "# as in the class above, y_train is considered a np.array and we have y.size\n",
    "y_train = np.array(y_train)\n",
    "%time model.fit(X_train, y_train)"
   ]
  },
  {
   "cell_type": "code",
   "execution_count": 31,
   "metadata": {},
   "outputs": [],
   "source": [
    "preds_validation = model.predict(X_test, 0.5)"
   ]
  },
  {
   "cell_type": "code",
   "execution_count": 32,
   "metadata": {},
   "outputs": [
    {
     "data": {
      "text/plain": [
       "[True,\n",
       " True,\n",
       " True,\n",
       " True,\n",
       " True,\n",
       " False,\n",
       " True,\n",
       " False,\n",
       " True,\n",
       " True,\n",
       " True,\n",
       " True,\n",
       " True,\n",
       " True,\n",
       " True,\n",
       " True,\n",
       " True,\n",
       " True,\n",
       " True,\n",
       " True,\n",
       " False,\n",
       " False,\n",
       " True]"
      ]
     },
     "execution_count": 32,
     "metadata": {},
     "output_type": "execute_result"
    }
   ],
   "source": [
    "preds_validation = list(preds_validation)\n",
    "preds_validation"
   ]
  },
  {
   "cell_type": "code",
   "execution_count": 33,
   "metadata": {},
   "outputs": [
    {
     "data": {
      "text/plain": [
       "(4, 19)"
      ]
     },
     "execution_count": 33,
     "metadata": {},
     "output_type": "execute_result"
    }
   ],
   "source": [
    "preds_validation.count(False), preds_validation.count(True)"
   ]
  },
  {
   "cell_type": "code",
   "execution_count": 34,
   "metadata": {},
   "outputs": [
    {
     "data": {
      "text/plain": [
       "[1, 1, 1, 1, 1, 0, 1, 0, 1, 1, 1, 1, 1, 1, 1, 1, 1, 1, 1, 1, 0, 0, 1]"
      ]
     },
     "execution_count": 34,
     "metadata": {},
     "output_type": "execute_result"
    }
   ],
   "source": [
    "# converting all 2 into 1\n",
    "y_test = list(y_test)\n",
    "#y_test = [1 for ele in y_test if ele>1]\n",
    "y_test"
   ]
  },
  {
   "cell_type": "code",
   "execution_count": 35,
   "metadata": {},
   "outputs": [
    {
     "data": {
      "text/plain": [
       "(4, 19)"
      ]
     },
     "execution_count": 35,
     "metadata": {},
     "output_type": "execute_result"
    }
   ],
   "source": [
    "y_test.count(0), y_test.count(1) + y_test.count(2)"
   ]
  },
  {
   "cell_type": "markdown",
   "metadata": {},
   "source": [
    "# Accuracy on Validation Dataset"
   ]
  },
  {
   "cell_type": "code",
   "execution_count": 36,
   "metadata": {},
   "outputs": [],
   "source": [
    "y_test_modif = [True if i>0 else False for i in y_test ]"
   ]
  },
  {
   "cell_type": "code",
   "execution_count": 37,
   "metadata": {},
   "outputs": [
    {
     "data": {
      "text/plain": [
       "[True,\n",
       " True,\n",
       " True,\n",
       " True,\n",
       " True,\n",
       " False,\n",
       " True,\n",
       " False,\n",
       " True,\n",
       " True,\n",
       " True,\n",
       " True,\n",
       " True,\n",
       " True,\n",
       " True,\n",
       " True,\n",
       " True,\n",
       " True,\n",
       " True,\n",
       " True,\n",
       " False,\n",
       " False,\n",
       " True]"
      ]
     },
     "execution_count": 37,
     "metadata": {},
     "output_type": "execute_result"
    }
   ],
   "source": [
    "y_test_modif"
   ]
  },
  {
   "cell_type": "code",
   "execution_count": 38,
   "metadata": {},
   "outputs": [
    {
     "data": {
      "text/plain": [
       "1.0"
      ]
     },
     "execution_count": 38,
     "metadata": {},
     "output_type": "execute_result"
    }
   ],
   "source": [
    "# Calculation Accuracy\n",
    "(np.array(preds_validation) == np.array(y_test_modif)).mean()"
   ]
  },
  {
   "cell_type": "markdown",
   "metadata": {},
   "source": [
    "# Comparing the Sklearn Model performance to Scratch Model"
   ]
  },
  {
   "cell_type": "code",
   "execution_count": 39,
   "metadata": {},
   "outputs": [],
   "source": [
    "from sklearn.linear_model import LogisticRegression"
   ]
  },
  {
   "cell_type": "code",
   "execution_count": 40,
   "metadata": {},
   "outputs": [],
   "source": [
    "classifier = LogisticRegression(random_state = 0)"
   ]
  },
  {
   "cell_type": "code",
   "execution_count": 45,
   "metadata": {},
   "outputs": [
    {
     "data": {
      "text/plain": [
       "(array([[4.3, 3. ],\n",
       "        [6.7, 3. ],\n",
       "        [4.7, 3.2],\n",
       "        [6.3, 3.4],\n",
       "        [5.8, 2.7],\n",
       "        [5.5, 3.5],\n",
       "        [5.6, 3. ],\n",
       "        [5.7, 2.5],\n",
       "        [4.9, 3.6],\n",
       "        [5.9, 3. ],\n",
       "        [5.2, 2.7],\n",
       "        [5.8, 4. ],\n",
       "        [5. , 3.5],\n",
       "        [6. , 3. ],\n",
       "        [7.7, 2.8],\n",
       "        [4.8, 3.1],\n",
       "        [6.8, 3.2],\n",
       "        [5. , 3. ],\n",
       "        [5.8, 2.7],\n",
       "        [6.1, 2.8],\n",
       "        [5.6, 2.9],\n",
       "        [5.5, 4.2],\n",
       "        [7.9, 3.8],\n",
       "        [5.1, 3.8],\n",
       "        [5.8, 2.8],\n",
       "        [5.6, 2.7],\n",
       "        [6.7, 2.5],\n",
       "        [6.4, 3.2],\n",
       "        [5.7, 4.4],\n",
       "        [5.7, 2.8],\n",
       "        [6.5, 2.8],\n",
       "        [4.4, 3. ],\n",
       "        [5. , 2.3],\n",
       "        [6.6, 2.9],\n",
       "        [6.5, 3. ],\n",
       "        [5.2, 3.5],\n",
       "        [4.6, 3.6],\n",
       "        [6.2, 2.2],\n",
       "        [5.4, 3. ],\n",
       "        [4.4, 3.2],\n",
       "        [4.8, 3.4],\n",
       "        [5.1, 3.5],\n",
       "        [4.6, 3.4],\n",
       "        [4.5, 2.3],\n",
       "        [7.7, 2.6],\n",
       "        [5.2, 4.1],\n",
       "        [7.2, 3. ],\n",
       "        [6.7, 3.3],\n",
       "        [5.9, 3. ],\n",
       "        [5.1, 2.5],\n",
       "        [6.3, 2.5],\n",
       "        [6.7, 3.3],\n",
       "        [6.7, 3.1],\n",
       "        [5.7, 2.6],\n",
       "        [5.7, 3.8],\n",
       "        [4.9, 2.5],\n",
       "        [6.7, 3.1],\n",
       "        [5.4, 3.4],\n",
       "        [5.1, 3.3],\n",
       "        [4.8, 3. ],\n",
       "        [5.4, 3.9],\n",
       "        [7. , 3.2],\n",
       "        [5.6, 2.5],\n",
       "        [6.1, 2.6],\n",
       "        [5. , 3.6],\n",
       "        [6.3, 2.8],\n",
       "        [7.7, 3.8],\n",
       "        [5.5, 2.4],\n",
       "        [6.9, 3.1],\n",
       "        [5.1, 3.8],\n",
       "        [6.3, 2.7],\n",
       "        [6. , 2.2],\n",
       "        [6.3, 2.5],\n",
       "        [6.7, 3.1],\n",
       "        [6.7, 3. ],\n",
       "        [7.6, 3. ],\n",
       "        [6.1, 2.8],\n",
       "        [6.3, 2.9],\n",
       "        [5.8, 2.7],\n",
       "        [5. , 3.4],\n",
       "        [6.4, 3.1],\n",
       "        [5.6, 2.8],\n",
       "        [4.9, 2.4],\n",
       "        [6.4, 2.8],\n",
       "        [4.9, 3.1],\n",
       "        [6.3, 3.3],\n",
       "        [6.5, 3. ],\n",
       "        [6.4, 2.9],\n",
       "        [6.3, 2.3],\n",
       "        [5.1, 3.8],\n",
       "        [5.4, 3.9],\n",
       "        [6.2, 2.9],\n",
       "        [5.1, 3.4],\n",
       "        [5.1, 3.5],\n",
       "        [5.1, 3.7],\n",
       "        [5. , 3.3],\n",
       "        [5.5, 2.6],\n",
       "        [6.4, 2.8],\n",
       "        [6.2, 2.8],\n",
       "        [5. , 3.4],\n",
       "        [7.3, 2.9],\n",
       "        [4.9, 3. ],\n",
       "        [5. , 2. ],\n",
       "        [5.5, 2.3],\n",
       "        [4.7, 3.2],\n",
       "        [6.2, 3.4],\n",
       "        [7.1, 3. ],\n",
       "        [5.8, 2.7],\n",
       "        [4.8, 3. ],\n",
       "        [7.7, 3. ],\n",
       "        [6.5, 3. ],\n",
       "        [5.4, 3.4],\n",
       "        [6.9, 3.1],\n",
       "        [6.1, 3. ],\n",
       "        [4.6, 3.2],\n",
       "        [5.8, 2.6],\n",
       "        [4.9, 3.1],\n",
       "        [4.8, 3.4],\n",
       "        [7.2, 3.6],\n",
       "        [5.5, 2.5],\n",
       "        [6.4, 2.7],\n",
       "        [4.6, 3.1],\n",
       "        [5.9, 3.2],\n",
       "        [7.4, 2.8],\n",
       "        [5.5, 2.4],\n",
       "        [5.3, 3.7],\n",
       "        [5.4, 3.7]]),\n",
       " [0,\n",
       "  1,\n",
       "  0,\n",
       "  1,\n",
       "  1,\n",
       "  0,\n",
       "  1,\n",
       "  1,\n",
       "  0,\n",
       "  1,\n",
       "  1,\n",
       "  0,\n",
       "  0,\n",
       "  1,\n",
       "  1,\n",
       "  0,\n",
       "  1,\n",
       "  0,\n",
       "  1,\n",
       "  1,\n",
       "  1,\n",
       "  0,\n",
       "  1,\n",
       "  0,\n",
       "  1,\n",
       "  1,\n",
       "  1,\n",
       "  1,\n",
       "  0,\n",
       "  1,\n",
       "  1,\n",
       "  0,\n",
       "  1,\n",
       "  1,\n",
       "  1,\n",
       "  0,\n",
       "  0,\n",
       "  1,\n",
       "  1,\n",
       "  0,\n",
       "  0,\n",
       "  0,\n",
       "  0,\n",
       "  0,\n",
       "  1,\n",
       "  0,\n",
       "  1,\n",
       "  1,\n",
       "  1,\n",
       "  1,\n",
       "  1,\n",
       "  1,\n",
       "  1,\n",
       "  1,\n",
       "  0,\n",
       "  1,\n",
       "  1,\n",
       "  0,\n",
       "  0,\n",
       "  0,\n",
       "  0,\n",
       "  1,\n",
       "  1,\n",
       "  1,\n",
       "  0,\n",
       "  1,\n",
       "  1,\n",
       "  1,\n",
       "  1,\n",
       "  0,\n",
       "  1,\n",
       "  1,\n",
       "  1,\n",
       "  1,\n",
       "  1,\n",
       "  1,\n",
       "  1,\n",
       "  1,\n",
       "  1,\n",
       "  0,\n",
       "  1,\n",
       "  1,\n",
       "  1,\n",
       "  1,\n",
       "  0,\n",
       "  1,\n",
       "  1,\n",
       "  1,\n",
       "  1,\n",
       "  0,\n",
       "  0,\n",
       "  1,\n",
       "  0,\n",
       "  0,\n",
       "  0,\n",
       "  0,\n",
       "  1,\n",
       "  1,\n",
       "  1,\n",
       "  0,\n",
       "  1,\n",
       "  0,\n",
       "  1,\n",
       "  1,\n",
       "  0,\n",
       "  1,\n",
       "  1,\n",
       "  1,\n",
       "  0,\n",
       "  1,\n",
       "  1,\n",
       "  0,\n",
       "  1,\n",
       "  1,\n",
       "  0,\n",
       "  1,\n",
       "  0,\n",
       "  0,\n",
       "  1,\n",
       "  1,\n",
       "  1,\n",
       "  0,\n",
       "  1,\n",
       "  1,\n",
       "  1,\n",
       "  0,\n",
       "  0])"
      ]
     },
     "execution_count": 45,
     "metadata": {},
     "output_type": "execute_result"
    }
   ],
   "source": [
    "X_train, y_train"
   ]
  },
  {
   "cell_type": "code",
   "execution_count": 44,
   "metadata": {},
   "outputs": [
    {
     "data": {
      "text/plain": [
       "(array([[4.3, 3. ],\n",
       "        [6.7, 3. ],\n",
       "        [4.7, 3.2],\n",
       "        [6.3, 3.4],\n",
       "        [5.8, 2.7],\n",
       "        [5.5, 3.5],\n",
       "        [5.6, 3. ],\n",
       "        [5.7, 2.5],\n",
       "        [4.9, 3.6],\n",
       "        [5.9, 3. ],\n",
       "        [5.2, 2.7],\n",
       "        [5.8, 4. ],\n",
       "        [5. , 3.5],\n",
       "        [6. , 3. ],\n",
       "        [7.7, 2.8],\n",
       "        [4.8, 3.1],\n",
       "        [6.8, 3.2],\n",
       "        [5. , 3. ],\n",
       "        [5.8, 2.7],\n",
       "        [6.1, 2.8],\n",
       "        [5.6, 2.9],\n",
       "        [5.5, 4.2],\n",
       "        [7.9, 3.8],\n",
       "        [5.1, 3.8],\n",
       "        [5.8, 2.8],\n",
       "        [5.6, 2.7],\n",
       "        [6.7, 2.5],\n",
       "        [6.4, 3.2],\n",
       "        [5.7, 4.4],\n",
       "        [5.7, 2.8],\n",
       "        [6.5, 2.8],\n",
       "        [4.4, 3. ],\n",
       "        [5. , 2.3],\n",
       "        [6.6, 2.9],\n",
       "        [6.5, 3. ],\n",
       "        [5.2, 3.5],\n",
       "        [4.6, 3.6],\n",
       "        [6.2, 2.2],\n",
       "        [5.4, 3. ],\n",
       "        [4.4, 3.2],\n",
       "        [4.8, 3.4],\n",
       "        [5.1, 3.5],\n",
       "        [4.6, 3.4],\n",
       "        [4.5, 2.3],\n",
       "        [7.7, 2.6],\n",
       "        [5.2, 4.1],\n",
       "        [7.2, 3. ],\n",
       "        [6.7, 3.3],\n",
       "        [5.9, 3. ],\n",
       "        [5.1, 2.5],\n",
       "        [6.3, 2.5],\n",
       "        [6.7, 3.3],\n",
       "        [6.7, 3.1],\n",
       "        [5.7, 2.6],\n",
       "        [5.7, 3.8],\n",
       "        [4.9, 2.5],\n",
       "        [6.7, 3.1],\n",
       "        [5.4, 3.4],\n",
       "        [5.1, 3.3],\n",
       "        [4.8, 3. ],\n",
       "        [5.4, 3.9],\n",
       "        [7. , 3.2],\n",
       "        [5.6, 2.5],\n",
       "        [6.1, 2.6],\n",
       "        [5. , 3.6],\n",
       "        [6.3, 2.8],\n",
       "        [7.7, 3.8],\n",
       "        [5.5, 2.4],\n",
       "        [6.9, 3.1],\n",
       "        [5.1, 3.8],\n",
       "        [6.3, 2.7],\n",
       "        [6. , 2.2],\n",
       "        [6.3, 2.5],\n",
       "        [6.7, 3.1],\n",
       "        [6.7, 3. ],\n",
       "        [7.6, 3. ],\n",
       "        [6.1, 2.8],\n",
       "        [6.3, 2.9],\n",
       "        [5.8, 2.7],\n",
       "        [5. , 3.4],\n",
       "        [6.4, 3.1],\n",
       "        [5.6, 2.8],\n",
       "        [4.9, 2.4],\n",
       "        [6.4, 2.8],\n",
       "        [4.9, 3.1],\n",
       "        [6.3, 3.3],\n",
       "        [6.5, 3. ],\n",
       "        [6.4, 2.9],\n",
       "        [6.3, 2.3],\n",
       "        [5.1, 3.8],\n",
       "        [5.4, 3.9],\n",
       "        [6.2, 2.9],\n",
       "        [5.1, 3.4],\n",
       "        [5.1, 3.5],\n",
       "        [5.1, 3.7],\n",
       "        [5. , 3.3],\n",
       "        [5.5, 2.6],\n",
       "        [6.4, 2.8],\n",
       "        [6.2, 2.8],\n",
       "        [5. , 3.4],\n",
       "        [7.3, 2.9],\n",
       "        [4.9, 3. ],\n",
       "        [5. , 2. ],\n",
       "        [5.5, 2.3],\n",
       "        [4.7, 3.2],\n",
       "        [6.2, 3.4],\n",
       "        [7.1, 3. ],\n",
       "        [5.8, 2.7],\n",
       "        [4.8, 3. ],\n",
       "        [7.7, 3. ],\n",
       "        [6.5, 3. ],\n",
       "        [5.4, 3.4],\n",
       "        [6.9, 3.1],\n",
       "        [6.1, 3. ],\n",
       "        [4.6, 3.2],\n",
       "        [5.8, 2.6],\n",
       "        [4.9, 3.1],\n",
       "        [4.8, 3.4],\n",
       "        [7.2, 3.6],\n",
       "        [5.5, 2.5],\n",
       "        [6.4, 2.7],\n",
       "        [4.6, 3.1],\n",
       "        [5.9, 3.2],\n",
       "        [7.4, 2.8],\n",
       "        [5.5, 2.4],\n",
       "        [5.3, 3.7],\n",
       "        [5.4, 3.7]]),\n",
       " [0,\n",
       "  1,\n",
       "  0,\n",
       "  1,\n",
       "  1,\n",
       "  0,\n",
       "  1,\n",
       "  1,\n",
       "  0,\n",
       "  1,\n",
       "  1,\n",
       "  0,\n",
       "  0,\n",
       "  1,\n",
       "  1,\n",
       "  0,\n",
       "  1,\n",
       "  0,\n",
       "  1,\n",
       "  1,\n",
       "  1,\n",
       "  0,\n",
       "  1,\n",
       "  0,\n",
       "  1,\n",
       "  1,\n",
       "  1,\n",
       "  1,\n",
       "  0,\n",
       "  1,\n",
       "  1,\n",
       "  0,\n",
       "  1,\n",
       "  1,\n",
       "  1,\n",
       "  0,\n",
       "  0,\n",
       "  1,\n",
       "  1,\n",
       "  0,\n",
       "  0,\n",
       "  0,\n",
       "  0,\n",
       "  0,\n",
       "  1,\n",
       "  0,\n",
       "  1,\n",
       "  1,\n",
       "  1,\n",
       "  1,\n",
       "  1,\n",
       "  1,\n",
       "  1,\n",
       "  1,\n",
       "  0,\n",
       "  1,\n",
       "  1,\n",
       "  0,\n",
       "  0,\n",
       "  0,\n",
       "  0,\n",
       "  1,\n",
       "  1,\n",
       "  1,\n",
       "  0,\n",
       "  1,\n",
       "  1,\n",
       "  1,\n",
       "  1,\n",
       "  0,\n",
       "  1,\n",
       "  1,\n",
       "  1,\n",
       "  1,\n",
       "  1,\n",
       "  1,\n",
       "  1,\n",
       "  1,\n",
       "  1,\n",
       "  0,\n",
       "  1,\n",
       "  1,\n",
       "  1,\n",
       "  1,\n",
       "  0,\n",
       "  1,\n",
       "  1,\n",
       "  1,\n",
       "  1,\n",
       "  0,\n",
       "  0,\n",
       "  1,\n",
       "  0,\n",
       "  0,\n",
       "  0,\n",
       "  0,\n",
       "  1,\n",
       "  1,\n",
       "  1,\n",
       "  0,\n",
       "  1,\n",
       "  0,\n",
       "  1,\n",
       "  1,\n",
       "  0,\n",
       "  1,\n",
       "  1,\n",
       "  1,\n",
       "  0,\n",
       "  1,\n",
       "  1,\n",
       "  0,\n",
       "  1,\n",
       "  1,\n",
       "  0,\n",
       "  1,\n",
       "  0,\n",
       "  0,\n",
       "  1,\n",
       "  1,\n",
       "  1,\n",
       "  0,\n",
       "  1,\n",
       "  1,\n",
       "  1,\n",
       "  0,\n",
       "  0])"
      ]
     },
     "execution_count": 44,
     "metadata": {},
     "output_type": "execute_result"
    }
   ],
   "source": []
  },
  {
   "cell_type": "code",
   "execution_count": null,
   "metadata": {},
   "outputs": [],
   "source": []
  }
 ],
 "metadata": {
  "kernelspec": {
   "display_name": "Python 3",
   "language": "python",
   "name": "python3"
  },
  "language_info": {
   "codemirror_mode": {
    "name": "ipython",
    "version": 3
   },
   "file_extension": ".py",
   "mimetype": "text/x-python",
   "name": "python",
   "nbconvert_exporter": "python",
   "pygments_lexer": "ipython3",
   "version": "3.8.3"
  }
 },
 "nbformat": 4,
 "nbformat_minor": 2
}
