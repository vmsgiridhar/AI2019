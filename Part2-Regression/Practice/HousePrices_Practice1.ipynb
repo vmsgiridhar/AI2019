{
 "cells": [
  {
   "cell_type": "markdown",
   "metadata": {},
   "source": [
    "# Starting the analysis for House Prices: Advanced Regression Techniques"
   ]
  },
  {
   "cell_type": "markdown",
   "metadata": {},
   "source": [
    "# Importing data "
   ]
  },
  {
   "cell_type": "code",
   "execution_count": 1,
   "metadata": {},
   "outputs": [],
   "source": [
    "import pandas as pd"
   ]
  },
  {
   "cell_type": "code",
   "execution_count": 2,
   "metadata": {},
   "outputs": [],
   "source": [
    "dataset = pd.read_csv('train.csv')"
   ]
  },
  {
   "cell_type": "code",
   "execution_count": 5,
   "metadata": {},
   "outputs": [
    {
     "data": {
      "text/plain": [
       "(1460, 81)"
      ]
     },
     "execution_count": 5,
     "metadata": {},
     "output_type": "execute_result"
    }
   ],
   "source": [
    "dataset.shape"
   ]
  },
  {
   "cell_type": "code",
   "execution_count": 14,
   "metadata": {},
   "outputs": [],
   "source": [
    "dataset_Xandy = dataset.columns"
   ]
  },
  {
   "cell_type": "code",
   "execution_count": 16,
   "metadata": {},
   "outputs": [],
   "source": [
    "dataset_X = dataset_allvariables[:-1]\n",
    "dataset_y = dataset_allvariables[-1:]"
   ]
  },
  {
   "cell_type": "code",
   "execution_count": 22,
   "metadata": {},
   "outputs": [
    {
     "name": "stdout",
     "output_type": "stream",
     "text": [
      "0 Id\n",
      "1 MSSubClass\n",
      "2 MSZoning\n",
      "3 LotFrontage\n",
      "4 LotArea\n",
      "5 Street\n",
      "6 Alley\n",
      "7 LotShape\n",
      "8 LandContour\n",
      "9 Utilities\n",
      "10 LotConfig\n",
      "11 LandSlope\n",
      "12 Neighborhood\n",
      "13 Condition1\n",
      "14 Condition2\n",
      "15 BldgType\n",
      "16 HouseStyle\n",
      "17 OverallQual\n",
      "18 OverallCond\n",
      "19 YearBuilt\n",
      "20 YearRemodAdd\n",
      "21 RoofStyle\n",
      "22 RoofMatl\n",
      "23 Exterior1st\n",
      "24 Exterior2nd\n",
      "25 MasVnrType\n",
      "26 MasVnrArea\n",
      "27 ExterQual\n",
      "28 ExterCond\n",
      "29 Foundation\n",
      "30 BsmtQual\n",
      "31 BsmtCond\n",
      "32 BsmtExposure\n",
      "33 BsmtFinType1\n",
      "34 BsmtFinSF1\n",
      "35 BsmtFinType2\n",
      "36 BsmtFinSF2\n",
      "37 BsmtUnfSF\n",
      "38 TotalBsmtSF\n",
      "39 Heating\n",
      "40 HeatingQC\n",
      "41 CentralAir\n",
      "42 Electrical\n",
      "43 1stFlrSF\n",
      "44 2ndFlrSF\n",
      "45 LowQualFinSF\n",
      "46 GrLivArea\n",
      "47 BsmtFullBath\n",
      "48 BsmtHalfBath\n",
      "49 FullBath\n",
      "50 HalfBath\n",
      "51 BedroomAbvGr\n",
      "52 KitchenAbvGr\n",
      "53 KitchenQual\n",
      "54 TotRmsAbvGrd\n",
      "55 Functional\n",
      "56 Fireplaces\n",
      "57 FireplaceQu\n",
      "58 GarageType\n",
      "59 GarageYrBlt\n",
      "60 GarageFinish\n",
      "61 GarageCars\n",
      "62 GarageArea\n",
      "63 GarageQual\n",
      "64 GarageCond\n",
      "65 PavedDrive\n",
      "66 WoodDeckSF\n",
      "67 OpenPorchSF\n",
      "68 EnclosedPorch\n",
      "69 3SsnPorch\n",
      "70 ScreenPorch\n",
      "71 PoolArea\n",
      "72 PoolQC\n",
      "73 Fence\n",
      "74 MiscFeature\n",
      "75 MiscVal\n",
      "76 MoSold\n",
      "77 YrSold\n",
      "78 SaleType\n",
      "79 SaleCondition\n"
     ]
    }
   ],
   "source": [
    "# Identifier and the Column name in X (Independent Variables)\n",
    "for i,j in enumerate(dataset_X):\n",
    "    print(i, j)"
   ]
  },
  {
   "cell_type": "code",
   "execution_count": 24,
   "metadata": {},
   "outputs": [
    {
     "name": "stdout",
     "output_type": "stream",
     "text": [
      "0 SalePrice\n"
     ]
    }
   ],
   "source": [
    "# Casually priting the Identifier and the target \n",
    "for i, j in enumerate(dataset_y):\n",
    "    print(i,j)"
   ]
  },
  {
   "cell_type": "code",
   "execution_count": null,
   "metadata": {},
   "outputs": [],
   "source": []
  }
 ],
 "metadata": {
  "kernelspec": {
   "display_name": "Python 3",
   "language": "python",
   "name": "python3"
  },
  "language_info": {
   "codemirror_mode": {
    "name": "ipython",
    "version": 3
   },
   "file_extension": ".py",
   "mimetype": "text/x-python",
   "name": "python",
   "nbconvert_exporter": "python",
   "pygments_lexer": "ipython3",
   "version": "3.7.3"
  }
 },
 "nbformat": 4,
 "nbformat_minor": 2
}
