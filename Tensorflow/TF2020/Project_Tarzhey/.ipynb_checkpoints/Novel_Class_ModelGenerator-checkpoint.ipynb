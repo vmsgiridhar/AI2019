{
 "cells": [
  {
   "cell_type": "markdown",
   "metadata": {},
   "source": [
    "### Project Tarzhey\n",
    "\n",
    "This is a ipynb for creating a Transfer Learning model to identify a new Class (Target Logo) in an image.\n",
    "\n",
    "Reference link: https://github.com/tensorflow/models/blob/master/research/object_detection/colab_tutorials/eager_few_shot_od_training_tflite.ipynb"
   ]
  },
  {
   "cell_type": "markdown",
   "metadata": {},
   "source": [
    "### Introduction\n",
    "Welcome to the Few Shot Object Detection for TensorFlow Lite Colab. Here, we demonstrate fine tuning of a SSD architecture (pre-trained on COCO) on very few examples of a novel class. We will then generate a (downloadable) TensorFlow Lite model for on-device inference.\n",
    "\n",
    "NOTE: This Colab is meant for the few-shot detection use-case. To train a model on a large dataset, please follow the TF2 training documentation and then convert the model to TensorFlow Lite."
   ]
  },
  {
   "cell_type": "markdown",
   "metadata": {},
   "source": [
    "### Setup"
   ]
  },
  {
   "cell_type": "markdown",
   "metadata": {},
   "source": [
    "### Imports"
   ]
  },
  {
   "cell_type": "code",
   "execution_count": null,
   "metadata": {},
   "outputs": [],
   "source": [
    "# Support for TF2 models was added after TF 2.3.\n",
    "!pip install tf-nightly\n",
    "# installing google-colab\n",
    "!pip install google-colab --use-feature=2020-resolver "
   ]
  },
  {
   "cell_type": "code",
   "execution_count": 2,
   "metadata": {},
   "outputs": [],
   "source": [
    "import os\n",
    "import pathlib\n",
    "\n",
    "# Clone the tensorflow models repository if it doesn't already exist\n",
    "if \"models\" in pathlib.Path.cwd().parts:\n",
    "  while \"models\" in pathlib.Path.cwd().parts:\n",
    "    os.chdir('..')\n",
    "elif not pathlib.Path('models').exists():\n",
    "  !git clone --depth 1 https://github.com/tensorflow/models"
   ]
  },
  {
   "cell_type": "code",
   "execution_count": 3,
   "metadata": {},
   "outputs": [
    {
     "data": {
      "text/plain": [
       "['ssd_mobilenet_v2_320x320_coco17_tpu-8.tar.gz',\n",
       " '.DS_Store',\n",
       " 'dataset',\n",
       " 'models',\n",
       " 'Novel_Class_ModelGenerator.ipynb',\n",
       " 'Bullseye_Logos_2017',\n",
       " '.ipynb_checkpoints']"
      ]
     },
     "execution_count": 3,
     "metadata": {},
     "output_type": "execute_result"
    }
   ],
   "source": [
    "os.listdir()\n",
    "\n",
    "# models folder is added to File System now"
   ]
  },
  {
   "cell_type": "code",
   "execution_count": 4,
   "metadata": {},
   "outputs": [
    {
     "name": "stdout",
     "output_type": "stream",
     "text": [
      "Processing /Users/z003z7n/Documents/AI2019/Tensorflow/TF2020/Project_Tarzhey/models/research\n",
      "Requirement already satisfied: avro-python3 in /Users/z003z7n/opt/anaconda3/lib/python3.8/site-packages (from object-detection==0.1) (1.10.1)\n",
      "Requirement already satisfied: apache-beam in /Users/z003z7n/opt/anaconda3/lib/python3.8/site-packages (from object-detection==0.1) (2.26.0)\n",
      "Requirement already satisfied: pillow in /Users/z003z7n/opt/anaconda3/lib/python3.8/site-packages (from object-detection==0.1) (7.2.0)\n",
      "Requirement already satisfied: lxml in /Users/z003z7n/opt/anaconda3/lib/python3.8/site-packages (from object-detection==0.1) (4.5.2)\n",
      "Requirement already satisfied: matplotlib in /Users/z003z7n/opt/anaconda3/lib/python3.8/site-packages (from object-detection==0.1) (3.2.2)\n",
      "Requirement already satisfied: Cython in /Users/z003z7n/opt/anaconda3/lib/python3.8/site-packages (from object-detection==0.1) (0.29.21)\n",
      "Requirement already satisfied: contextlib2 in /Users/z003z7n/opt/anaconda3/lib/python3.8/site-packages (from object-detection==0.1) (0.6.0.post1)\n",
      "Requirement already satisfied: tf-slim in /Users/z003z7n/opt/anaconda3/lib/python3.8/site-packages (from object-detection==0.1) (1.1.0)\n",
      "Requirement already satisfied: six in /Users/z003z7n/opt/anaconda3/lib/python3.8/site-packages (from object-detection==0.1) (1.15.0)\n",
      "Requirement already satisfied: pycocotools in /Users/z003z7n/opt/anaconda3/lib/python3.8/site-packages (from object-detection==0.1) (2.0.2)\n",
      "Requirement already satisfied: lvis in /Users/z003z7n/opt/anaconda3/lib/python3.8/site-packages (from object-detection==0.1) (0.5.3)\n",
      "Requirement already satisfied: scipy in /Users/z003z7n/opt/anaconda3/lib/python3.8/site-packages (from object-detection==0.1) (1.5.0)\n",
      "Requirement already satisfied: pandas in /Users/z003z7n/opt/anaconda3/lib/python3.8/site-packages (from object-detection==0.1) (1.0.5)\n",
      "Requirement already satisfied: tf-models-official in /Users/z003z7n/opt/anaconda3/lib/python3.8/site-packages (from object-detection==0.1) (2.3.0)\n",
      "Requirement already satisfied: oauth2client<5,>=2.0.1 in /Users/z003z7n/opt/anaconda3/lib/python3.8/site-packages (from apache-beam->object-detection==0.1) (4.1.3)\n",
      "Requirement already satisfied: grpcio<2,>=1.29.0 in /Users/z003z7n/opt/anaconda3/lib/python3.8/site-packages (from apache-beam->object-detection==0.1) (1.34.0)\n",
      "Requirement already satisfied: pytz>=2018.3 in /Users/z003z7n/opt/anaconda3/lib/python3.8/site-packages (from apache-beam->object-detection==0.1) (2020.1)\n",
      "Requirement already satisfied: requests<3.0.0,>=2.24.0 in /Users/z003z7n/opt/anaconda3/lib/python3.8/site-packages (from apache-beam->object-detection==0.1) (2.24.0)\n",
      "Requirement already satisfied: mock<3.0.0,>=1.0.1 in /Users/z003z7n/opt/anaconda3/lib/python3.8/site-packages (from apache-beam->object-detection==0.1) (2.0.0)\n",
      "Requirement already satisfied: dill<0.3.2,>=0.3.1.1 in /Users/z003z7n/opt/anaconda3/lib/python3.8/site-packages (from apache-beam->object-detection==0.1) (0.3.1.1)\n",
      "Requirement already satisfied: numpy<2,>=1.14.3 in /Users/z003z7n/opt/anaconda3/lib/python3.8/site-packages (from apache-beam->object-detection==0.1) (1.19.4)\n",
      "Requirement already satisfied: fastavro<2,>=0.21.4 in /Users/z003z7n/opt/anaconda3/lib/python3.8/site-packages (from apache-beam->object-detection==0.1) (1.2.3)\n",
      "Requirement already satisfied: httplib2<0.18.0,>=0.8 in /Users/z003z7n/opt/anaconda3/lib/python3.8/site-packages (from apache-beam->object-detection==0.1) (0.17.4)\n",
      "Requirement already satisfied: pydot<2,>=1.2.0 in /Users/z003z7n/opt/anaconda3/lib/python3.8/site-packages (from apache-beam->object-detection==0.1) (1.4.1)\n",
      "Requirement already satisfied: hdfs<3.0.0,>=2.1.0 in /Users/z003z7n/opt/anaconda3/lib/python3.8/site-packages (from apache-beam->object-detection==0.1) (2.5.8)\n",
      "Requirement already satisfied: future<1.0.0,>=0.18.2 in /Users/z003z7n/opt/anaconda3/lib/python3.8/site-packages (from apache-beam->object-detection==0.1) (0.18.2)\n",
      "Requirement already satisfied: pymongo<4.0.0,>=3.8.0 in /Users/z003z7n/opt/anaconda3/lib/python3.8/site-packages (from apache-beam->object-detection==0.1) (3.11.2)\n",
      "Requirement already satisfied: typing-extensions<3.8.0,>=3.7.0 in /Users/z003z7n/opt/anaconda3/lib/python3.8/site-packages (from apache-beam->object-detection==0.1) (3.7.4.2)\n",
      "Requirement already satisfied: protobuf<4,>=3.12.2 in /Users/z003z7n/opt/anaconda3/lib/python3.8/site-packages (from apache-beam->object-detection==0.1) (3.13.0)\n",
      "Requirement already satisfied: python-dateutil<3,>=2.8.0 in /Users/z003z7n/opt/anaconda3/lib/python3.8/site-packages (from apache-beam->object-detection==0.1) (2.8.1)\n",
      "Requirement already satisfied: pyarrow<0.18.0,>=0.15.1 in /Users/z003z7n/opt/anaconda3/lib/python3.8/site-packages (from apache-beam->object-detection==0.1) (0.17.1)\n",
      "Requirement already satisfied: crcmod<2.0,>=1.7 in /Users/z003z7n/opt/anaconda3/lib/python3.8/site-packages (from apache-beam->object-detection==0.1) (1.7)\n",
      "Requirement already satisfied: pyparsing!=2.0.4,!=2.1.2,!=2.1.6,>=2.0.1 in /Users/z003z7n/opt/anaconda3/lib/python3.8/site-packages (from matplotlib->object-detection==0.1) (2.4.7)\n",
      "Requirement already satisfied: cycler>=0.10 in /Users/z003z7n/opt/anaconda3/lib/python3.8/site-packages (from matplotlib->object-detection==0.1) (0.10.0)\n",
      "Requirement already satisfied: kiwisolver>=1.0.1 in /Users/z003z7n/opt/anaconda3/lib/python3.8/site-packages (from matplotlib->object-detection==0.1) (1.2.0)\n",
      "Requirement already satisfied: absl-py>=0.2.2 in /Users/z003z7n/opt/anaconda3/lib/python3.8/site-packages (from tf-slim->object-detection==0.1) (0.10.0)\n",
      "Requirement already satisfied: setuptools>=18.0 in /Users/z003z7n/opt/anaconda3/lib/python3.8/site-packages (from pycocotools->object-detection==0.1) (49.2.0.post20200714)\n",
      "Requirement already satisfied: opencv-python>=4.1.0.25 in /Users/z003z7n/opt/anaconda3/lib/python3.8/site-packages (from lvis->object-detection==0.1) (4.5.1.48)\n",
      "Requirement already satisfied: opencv-python-headless in /Users/z003z7n/opt/anaconda3/lib/python3.8/site-packages (from tf-models-official->object-detection==0.1) (4.5.1.48)\n",
      "Requirement already satisfied: google-cloud-bigquery>=0.31.0 in /Users/z003z7n/opt/anaconda3/lib/python3.8/site-packages (from tf-models-official->object-detection==0.1) (2.6.1)\n",
      "Requirement already satisfied: pyyaml in /Users/z003z7n/opt/anaconda3/lib/python3.8/site-packages (from tf-models-official->object-detection==0.1) (5.3.1)\n",
      "Requirement already satisfied: py-cpuinfo>=3.3.0 in /Users/z003z7n/opt/anaconda3/lib/python3.8/site-packages (from tf-models-official->object-detection==0.1) (7.0.0)\n",
      "Requirement already satisfied: kaggle>=1.3.9 in /Users/z003z7n/opt/anaconda3/lib/python3.8/site-packages (from tf-models-official->object-detection==0.1) (1.5.10)\n",
      "Requirement already satisfied: google-api-python-client>=1.6.7 in /Users/z003z7n/opt/anaconda3/lib/python3.8/site-packages (from tf-models-official->object-detection==0.1) (1.12.8)\n",
      "Requirement already satisfied: tensorflow-datasets in /Users/z003z7n/opt/anaconda3/lib/python3.8/site-packages (from tf-models-official->object-detection==0.1) (4.1.0)\n",
      "Requirement already satisfied: dataclasses in /Users/z003z7n/opt/anaconda3/lib/python3.8/site-packages (from tf-models-official->object-detection==0.1) (0.6)\n",
      "Requirement already satisfied: gin-config in /Users/z003z7n/opt/anaconda3/lib/python3.8/site-packages (from tf-models-official->object-detection==0.1) (0.4.0)\n",
      "Requirement already satisfied: tensorflow>=2.3.0 in /Users/z003z7n/opt/anaconda3/lib/python3.8/site-packages (from tf-models-official->object-detection==0.1) (2.3.1)\n",
      "Requirement already satisfied: tensorflow-model-optimization>=0.2.1 in /Users/z003z7n/opt/anaconda3/lib/python3.8/site-packages (from tf-models-official->object-detection==0.1) (0.5.0)\n",
      "Requirement already satisfied: tensorflow-addons in /Users/z003z7n/opt/anaconda3/lib/python3.8/site-packages (from tf-models-official->object-detection==0.1) (0.12.0)\n",
      "Requirement already satisfied: psutil>=5.4.3 in /Users/z003z7n/opt/anaconda3/lib/python3.8/site-packages (from tf-models-official->object-detection==0.1) (5.7.0)\n",
      "Requirement already satisfied: tensorflow-hub>=0.6.0 in /Users/z003z7n/opt/anaconda3/lib/python3.8/site-packages (from tf-models-official->object-detection==0.1) (0.10.0)\n",
      "Requirement already satisfied: sentencepiece in /Users/z003z7n/opt/anaconda3/lib/python3.8/site-packages (from tf-models-official->object-detection==0.1) (0.1.94)\n",
      "Requirement already satisfied: pyasn1>=0.1.7 in /Users/z003z7n/opt/anaconda3/lib/python3.8/site-packages (from oauth2client<5,>=2.0.1->apache-beam->object-detection==0.1) (0.4.8)\n",
      "Requirement already satisfied: pyasn1-modules>=0.0.5 in /Users/z003z7n/opt/anaconda3/lib/python3.8/site-packages (from oauth2client<5,>=2.0.1->apache-beam->object-detection==0.1) (0.2.8)\n",
      "Requirement already satisfied: rsa>=3.1.4 in /Users/z003z7n/opt/anaconda3/lib/python3.8/site-packages (from oauth2client<5,>=2.0.1->apache-beam->object-detection==0.1) (4.6)\n",
      "Requirement already satisfied: certifi>=2017.4.17 in /Users/z003z7n/opt/anaconda3/lib/python3.8/site-packages (from requests<3.0.0,>=2.24.0->apache-beam->object-detection==0.1) (2020.6.20)\n",
      "Requirement already satisfied: idna<3,>=2.5 in /Users/z003z7n/opt/anaconda3/lib/python3.8/site-packages (from requests<3.0.0,>=2.24.0->apache-beam->object-detection==0.1) (2.10)\n",
      "Requirement already satisfied: urllib3!=1.25.0,!=1.25.1,<1.26,>=1.21.1 in /Users/z003z7n/opt/anaconda3/lib/python3.8/site-packages (from requests<3.0.0,>=2.24.0->apache-beam->object-detection==0.1) (1.25.9)\n",
      "Requirement already satisfied: chardet<4,>=3.0.2 in /Users/z003z7n/opt/anaconda3/lib/python3.8/site-packages (from requests<3.0.0,>=2.24.0->apache-beam->object-detection==0.1) (3.0.4)\n",
      "Requirement already satisfied: pbr>=0.11 in /Users/z003z7n/opt/anaconda3/lib/python3.8/site-packages (from mock<3.0.0,>=1.0.1->apache-beam->object-detection==0.1) (5.5.1)\n",
      "Requirement already satisfied: docopt in /Users/z003z7n/opt/anaconda3/lib/python3.8/site-packages (from hdfs<3.0.0,>=2.1.0->apache-beam->object-detection==0.1) (0.6.2)\n",
      "Requirement already satisfied: google-cloud-core<2.0dev,>=1.4.1 in /Users/z003z7n/opt/anaconda3/lib/python3.8/site-packages (from google-cloud-bigquery>=0.31.0->tf-models-official->object-detection==0.1) (1.5.0)\n",
      "Requirement already satisfied: google-resumable-media<2.0dev,>=0.6.0 in /Users/z003z7n/opt/anaconda3/lib/python3.8/site-packages (from google-cloud-bigquery>=0.31.0->tf-models-official->object-detection==0.1) (1.2.0)\n",
      "Requirement already satisfied: google-api-core[grpc]<2.0.0dev,>=1.23.0 in /Users/z003z7n/opt/anaconda3/lib/python3.8/site-packages (from google-cloud-bigquery>=0.31.0->tf-models-official->object-detection==0.1) (1.24.1)\n",
      "Requirement already satisfied: proto-plus>=1.10.0 in /Users/z003z7n/opt/anaconda3/lib/python3.8/site-packages (from google-cloud-bigquery>=0.31.0->tf-models-official->object-detection==0.1) (1.13.0)\n",
      "Requirement already satisfied: python-slugify in /Users/z003z7n/opt/anaconda3/lib/python3.8/site-packages (from kaggle>=1.3.9->tf-models-official->object-detection==0.1) (4.0.1)\n",
      "Requirement already satisfied: tqdm in /Users/z003z7n/opt/anaconda3/lib/python3.8/site-packages (from kaggle>=1.3.9->tf-models-official->object-detection==0.1) (4.47.0)\n",
      "Requirement already satisfied: google-auth-httplib2>=0.0.3 in /Users/z003z7n/opt/anaconda3/lib/python3.8/site-packages (from google-api-python-client>=1.6.7->tf-models-official->object-detection==0.1) (0.0.4)\n",
      "Requirement already satisfied: google-auth>=1.16.0 in /Users/z003z7n/opt/anaconda3/lib/python3.8/site-packages (from google-api-python-client>=1.6.7->tf-models-official->object-detection==0.1) (1.22.1)\n",
      "Requirement already satisfied: uritemplate<4dev,>=3.0.0 in /Users/z003z7n/opt/anaconda3/lib/python3.8/site-packages (from google-api-python-client>=1.6.7->tf-models-official->object-detection==0.1) (3.0.1)\n",
      "Requirement already satisfied: importlib-resources; python_version < \"3.9\" in /Users/z003z7n/opt/anaconda3/lib/python3.8/site-packages (from tensorflow-datasets->tf-models-official->object-detection==0.1) (3.3.0)\n",
      "Requirement already satisfied: termcolor in /Users/z003z7n/opt/anaconda3/lib/python3.8/site-packages (from tensorflow-datasets->tf-models-official->object-detection==0.1) (1.1.0)\n",
      "Requirement already satisfied: promise in /Users/z003z7n/opt/anaconda3/lib/python3.8/site-packages (from tensorflow-datasets->tf-models-official->object-detection==0.1) (2.3)\n",
      "Requirement already satisfied: tensorflow-metadata in /Users/z003z7n/opt/anaconda3/lib/python3.8/site-packages (from tensorflow-datasets->tf-models-official->object-detection==0.1) (0.25.0)\n",
      "Requirement already satisfied: attrs>=18.1.0 in /Users/z003z7n/opt/anaconda3/lib/python3.8/site-packages (from tensorflow-datasets->tf-models-official->object-detection==0.1) (19.3.0)\n",
      "Requirement already satisfied: tensorflow-estimator<2.4.0,>=2.3.0 in /Users/z003z7n/opt/anaconda3/lib/python3.8/site-packages (from tensorflow>=2.3.0->tf-models-official->object-detection==0.1) (2.3.0)\n",
      "Requirement already satisfied: astunparse==1.6.3 in /Users/z003z7n/opt/anaconda3/lib/python3.8/site-packages (from tensorflow>=2.3.0->tf-models-official->object-detection==0.1) (1.6.3)\n",
      "Requirement already satisfied: tensorboard<3,>=2.3.0 in /Users/z003z7n/opt/anaconda3/lib/python3.8/site-packages (from tensorflow>=2.3.0->tf-models-official->object-detection==0.1) (2.3.0)\n",
      "Requirement already satisfied: wheel>=0.26 in /Users/z003z7n/opt/anaconda3/lib/python3.8/site-packages (from tensorflow>=2.3.0->tf-models-official->object-detection==0.1) (0.36.2)\n",
      "Requirement already satisfied: wrapt>=1.11.1 in /Users/z003z7n/opt/anaconda3/lib/python3.8/site-packages (from tensorflow>=2.3.0->tf-models-official->object-detection==0.1) (1.12.1)\n",
      "Collecting h5py<2.11.0,>=2.10.0\n",
      "  Using cached h5py-2.10.0-cp38-cp38-macosx_10_9_x86_64.whl (3.0 MB)\n",
      "Requirement already satisfied: opt-einsum>=2.3.2 in /Users/z003z7n/opt/anaconda3/lib/python3.8/site-packages (from tensorflow>=2.3.0->tf-models-official->object-detection==0.1) (3.3.0)\n",
      "Requirement already satisfied: gast==0.3.3 in /Users/z003z7n/opt/anaconda3/lib/python3.8/site-packages (from tensorflow>=2.3.0->tf-models-official->object-detection==0.1) (0.3.3)\n",
      "Requirement already satisfied: google-pasta>=0.1.8 in /Users/z003z7n/opt/anaconda3/lib/python3.8/site-packages (from tensorflow>=2.3.0->tf-models-official->object-detection==0.1) (0.2.0)\n",
      "Requirement already satisfied: keras-preprocessing<1.2,>=1.1.1 in /Users/z003z7n/opt/anaconda3/lib/python3.8/site-packages (from tensorflow>=2.3.0->tf-models-official->object-detection==0.1) (1.1.2)\n",
      "Requirement already satisfied: dm-tree~=0.1.1 in /Users/z003z7n/opt/anaconda3/lib/python3.8/site-packages (from tensorflow-model-optimization>=0.2.1->tf-models-official->object-detection==0.1) (0.1.5)\n",
      "Requirement already satisfied: typeguard>=2.7 in /Users/z003z7n/opt/anaconda3/lib/python3.8/site-packages (from tensorflow-addons->tf-models-official->object-detection==0.1) (2.10.0)\n",
      "Requirement already satisfied: google-crc32c<2.0dev,>=1.0; python_version >= \"3.5\" in /Users/z003z7n/opt/anaconda3/lib/python3.8/site-packages (from google-resumable-media<2.0dev,>=0.6.0->google-cloud-bigquery>=0.31.0->tf-models-official->object-detection==0.1) (1.1.0)\n",
      "Requirement already satisfied: googleapis-common-protos<2.0dev,>=1.6.0 in /Users/z003z7n/opt/anaconda3/lib/python3.8/site-packages (from google-api-core[grpc]<2.0.0dev,>=1.23.0->google-cloud-bigquery>=0.31.0->tf-models-official->object-detection==0.1) (1.52.0)\n",
      "Requirement already satisfied: text-unidecode>=1.3 in /Users/z003z7n/opt/anaconda3/lib/python3.8/site-packages (from python-slugify->kaggle>=1.3.9->tf-models-official->object-detection==0.1) (1.3)\n",
      "Requirement already satisfied: cachetools<5.0,>=2.0.0 in /Users/z003z7n/opt/anaconda3/lib/python3.8/site-packages (from google-auth>=1.16.0->google-api-python-client>=1.6.7->tf-models-official->object-detection==0.1) (4.1.1)\n",
      "Requirement already satisfied: markdown>=2.6.8 in /Users/z003z7n/opt/anaconda3/lib/python3.8/site-packages (from tensorboard<3,>=2.3.0->tensorflow>=2.3.0->tf-models-official->object-detection==0.1) (3.3.1)\n",
      "Requirement already satisfied: tensorboard-plugin-wit>=1.6.0 in /Users/z003z7n/opt/anaconda3/lib/python3.8/site-packages (from tensorboard<3,>=2.3.0->tensorflow>=2.3.0->tf-models-official->object-detection==0.1) (1.7.0)\n",
      "Requirement already satisfied: werkzeug>=0.11.15 in /Users/z003z7n/opt/anaconda3/lib/python3.8/site-packages (from tensorboard<3,>=2.3.0->tensorflow>=2.3.0->tf-models-official->object-detection==0.1) (1.0.1)\n",
      "Requirement already satisfied: google-auth-oauthlib<0.5,>=0.4.1 in /Users/z003z7n/opt/anaconda3/lib/python3.8/site-packages (from tensorboard<3,>=2.3.0->tensorflow>=2.3.0->tf-models-official->object-detection==0.1) (0.4.1)\n",
      "Requirement already satisfied: cffi>=1.0.0 in /Users/z003z7n/opt/anaconda3/lib/python3.8/site-packages (from google-crc32c<2.0dev,>=1.0; python_version >= \"3.5\"->google-resumable-media<2.0dev,>=0.6.0->google-cloud-bigquery>=0.31.0->tf-models-official->object-detection==0.1) (1.14.0)\n",
      "Requirement already satisfied: requests-oauthlib>=0.7.0 in /Users/z003z7n/opt/anaconda3/lib/python3.8/site-packages (from google-auth-oauthlib<0.5,>=0.4.1->tensorboard<3,>=2.3.0->tensorflow>=2.3.0->tf-models-official->object-detection==0.1) (1.3.0)\n",
      "Requirement already satisfied: pycparser in /Users/z003z7n/opt/anaconda3/lib/python3.8/site-packages (from cffi>=1.0.0->google-crc32c<2.0dev,>=1.0; python_version >= \"3.5\"->google-resumable-media<2.0dev,>=0.6.0->google-cloud-bigquery>=0.31.0->tf-models-official->object-detection==0.1) (2.20)\n",
      "Requirement already satisfied: oauthlib>=3.0.0 in /Users/z003z7n/opt/anaconda3/lib/python3.8/site-packages (from requests-oauthlib>=0.7.0->google-auth-oauthlib<0.5,>=0.4.1->tensorboard<3,>=2.3.0->tensorflow>=2.3.0->tf-models-official->object-detection==0.1) (3.1.0)\n",
      "Building wheels for collected packages: object-detection\n",
      "  Building wheel for object-detection (setup.py): started\n",
      "  Building wheel for object-detection (setup.py): finished with status 'done'\n",
      "  Created wheel for object-detection: filename=object_detection-0.1-py3-none-any.whl size=1607650 sha256=187724693a1f6265dd1ef80d4304c89c8374f26fbc34abdafcecf384ec7f4e31\n",
      "  Stored in directory: /private/var/folders/ty/0lsg06d17nn6wk41ygp7dytsbr2g5w/T/pip-ephem-wheel-cache-z93lmt9n/wheels/d2/d7/8f/bfd66ab52803da61dc166eb29ec500b824520540455a4e8d3e\n",
      "Successfully built object-detection\n",
      "Installing collected packages: object-detection, h5py\n",
      "  Attempting uninstall: object-detection\n",
      "    Found existing installation: object-detection 0.1\n",
      "    Uninstalling object-detection-0.1:\n",
      "      Successfully uninstalled object-detection-0.1\n",
      "  Attempting uninstall: h5py\n",
      "    Found existing installation: h5py 3.1.0\n",
      "    Uninstalling h5py-3.1.0:\n",
      "      Successfully uninstalled h5py-3.1.0\n",
      "Successfully installed h5py-2.10.0 object-detection-0.1\n"
     ]
    },
    {
     "name": "stderr",
     "output_type": "stream",
     "text": [
      "ERROR: After October 2020 you may experience errors when installing or updating packages. This is because pip will change the way that it resolves dependency conflicts.\n",
      "\n",
      "We recommend you use --use-feature=2020-resolver to test your packages with the new resolver before it becomes the default.\n",
      "\n",
      "tf-nightly 2.5.0.dev20210103 requires h5py~=3.1.0, but you'll have h5py 2.10.0 which is incompatible.\n",
      "tensorflow 2.3.1 requires numpy<1.19.0,>=1.16.0, but you'll have numpy 1.19.4 which is incompatible.\n",
      "WARNING: You are using pip version 20.2.3; however, version 20.3.3 is available.\n",
      "You should consider upgrading via the '/Users/z003z7n/opt/anaconda3/bin/python -m pip install --upgrade pip' command.\n"
     ]
    }
   ],
   "source": [
    "%%bash\n",
    "# Install the Object Detection API\n",
    "cd models/research/\n",
    "protoc object_detection/protos/*.proto --python_out=.\n",
    "cp object_detection/packages/tf2/setup.py .\n",
    "python -m pip install ."
   ]
  },
  {
   "cell_type": "code",
   "execution_count": 7,
   "metadata": {},
   "outputs": [
    {
     "ename": "ModuleNotFoundError",
     "evalue": "No module named 'google.colab'",
     "output_type": "error",
     "traceback": [
      "\u001b[0;31m---------------------------------------------------------------------------\u001b[0m",
      "\u001b[0;31mModuleNotFoundError\u001b[0m                       Traceback (most recent call last)",
      "\u001b[0;32m<ipython-input-7-b933161ebf89>\u001b[0m in \u001b[0;36m<module>\u001b[0;34m\u001b[0m\n\u001b[1;32m     19\u001b[0m \u001b[0;32mfrom\u001b[0m \u001b[0mobject_detection\u001b[0m\u001b[0;34m.\u001b[0m\u001b[0mutils\u001b[0m \u001b[0;32mimport\u001b[0m \u001b[0mconfig_util\u001b[0m\u001b[0;34m\u001b[0m\u001b[0;34m\u001b[0m\u001b[0m\n\u001b[1;32m     20\u001b[0m \u001b[0;32mfrom\u001b[0m \u001b[0mobject_detection\u001b[0m\u001b[0;34m.\u001b[0m\u001b[0mutils\u001b[0m \u001b[0;32mimport\u001b[0m \u001b[0mvisualization_utils\u001b[0m \u001b[0;32mas\u001b[0m \u001b[0mviz_utils\u001b[0m\u001b[0;34m\u001b[0m\u001b[0;34m\u001b[0m\u001b[0m\n\u001b[0;32m---> 21\u001b[0;31m \u001b[0;32mfrom\u001b[0m \u001b[0mobject_detection\u001b[0m\u001b[0;34m.\u001b[0m\u001b[0mutils\u001b[0m \u001b[0;32mimport\u001b[0m \u001b[0mcolab_utils\u001b[0m\u001b[0;34m\u001b[0m\u001b[0;34m\u001b[0m\u001b[0m\n\u001b[0m\u001b[1;32m     22\u001b[0m \u001b[0;32mfrom\u001b[0m \u001b[0mobject_detection\u001b[0m\u001b[0;34m.\u001b[0m\u001b[0mutils\u001b[0m \u001b[0;32mimport\u001b[0m \u001b[0mconfig_util\u001b[0m\u001b[0;34m\u001b[0m\u001b[0;34m\u001b[0m\u001b[0m\n\u001b[1;32m     23\u001b[0m \u001b[0;32mfrom\u001b[0m \u001b[0mobject_detection\u001b[0m\u001b[0;34m.\u001b[0m\u001b[0mbuilders\u001b[0m \u001b[0;32mimport\u001b[0m \u001b[0mmodel_builder\u001b[0m\u001b[0;34m\u001b[0m\u001b[0;34m\u001b[0m\u001b[0m\n",
      "\u001b[0;32m~/opt/anaconda3/lib/python3.8/site-packages/object_detection/utils/colab_utils.py\u001b[0m in \u001b[0;36m<module>\u001b[0;34m\u001b[0m\n\u001b[1;32m     28\u001b[0m \u001b[0;32mfrom\u001b[0m \u001b[0mPIL\u001b[0m \u001b[0;32mimport\u001b[0m \u001b[0mImage\u001b[0m\u001b[0;34m\u001b[0m\u001b[0;34m\u001b[0m\u001b[0m\n\u001b[1;32m     29\u001b[0m \u001b[0;34m\u001b[0m\u001b[0m\n\u001b[0;32m---> 30\u001b[0;31m \u001b[0;32mfrom\u001b[0m \u001b[0mgoogle\u001b[0m\u001b[0;34m.\u001b[0m\u001b[0mcolab\u001b[0m \u001b[0;32mimport\u001b[0m \u001b[0moutput\u001b[0m\u001b[0;34m\u001b[0m\u001b[0;34m\u001b[0m\u001b[0m\n\u001b[0m\u001b[1;32m     31\u001b[0m \u001b[0;32mfrom\u001b[0m \u001b[0mgoogle\u001b[0m\u001b[0;34m.\u001b[0m\u001b[0mcolab\u001b[0m\u001b[0;34m.\u001b[0m\u001b[0moutput\u001b[0m \u001b[0;32mimport\u001b[0m \u001b[0meval_js\u001b[0m\u001b[0;34m\u001b[0m\u001b[0;34m\u001b[0m\u001b[0m\n\u001b[1;32m     32\u001b[0m \u001b[0;34m\u001b[0m\u001b[0m\n",
      "\u001b[0;31mModuleNotFoundError\u001b[0m: No module named 'google.colab'"
     ]
    }
   ],
   "source": [
    "import matplotlib\n",
    "import matplotlib.pyplot as plt\n",
    "\n",
    "import os\n",
    "import random\n",
    "import io\n",
    "import imageio\n",
    "import glob\n",
    "import scipy.misc\n",
    "import numpy as np\n",
    "from six import BytesIO\n",
    "from PIL import Image, ImageDraw, ImageFont\n",
    "from IPython.display import display, Javascript\n",
    "from IPython.display import Image as IPyImage\n",
    "\n",
    "import tensorflow as tf\n",
    "\n",
    "from object_detection.utils import label_map_util\n",
    "from object_detection.utils import config_util\n",
    "from object_detection.utils import visualization_utils as viz_utils\n",
    "from object_detection.utils import colab_utils\n",
    "from object_detection.utils import config_util\n",
    "from object_detection.builders import model_builder\n",
    "\n",
    "%matplotlib inline"
   ]
  },
  {
   "cell_type": "code",
   "execution_count": null,
   "metadata": {},
   "outputs": [],
   "source": []
  },
  {
   "cell_type": "code",
   "execution_count": null,
   "metadata": {},
   "outputs": [],
   "source": []
  },
  {
   "cell_type": "code",
   "execution_count": null,
   "metadata": {},
   "outputs": [],
   "source": []
  }
 ],
 "metadata": {
  "kernelspec": {
   "display_name": "Python 3",
   "language": "python",
   "name": "python3"
  },
  "language_info": {
   "codemirror_mode": {
    "name": "ipython",
    "version": 3
   },
   "file_extension": ".py",
   "mimetype": "text/x-python",
   "name": "python",
   "nbconvert_exporter": "python",
   "pygments_lexer": "ipython3",
   "version": "3.8.3"
  }
 },
 "nbformat": 4,
 "nbformat_minor": 4
}
