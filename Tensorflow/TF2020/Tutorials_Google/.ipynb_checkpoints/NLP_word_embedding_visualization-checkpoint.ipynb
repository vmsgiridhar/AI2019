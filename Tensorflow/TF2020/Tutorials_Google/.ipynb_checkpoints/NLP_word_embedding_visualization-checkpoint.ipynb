{
 "cells": [
  {
   "cell_type": "code",
   "execution_count": 57,
   "metadata": {},
   "outputs": [],
   "source": [
    "# import libraries\n",
    "import tensorflow as tf\n",
    "from tensorflow.keras.preprocessing.text import Tokenizer\n",
    "from tensorflow.keras.preprocessing.sequence import pad_sequences\n",
    "import pandas as pd\n",
    "import numpy as np"
   ]
  },
  {
   "cell_type": "code",
   "execution_count": 58,
   "metadata": {},
   "outputs": [
    {
     "name": "stdout",
     "output_type": "stream",
     "text": [
      "/Users/z003z7n/.keras/datasets/reviews.csv\n"
     ]
    }
   ],
   "source": [
    "path = tf.keras.utils.get_file('reviews.csv', \n",
    "                               'https://drive.google.com/uc?id=13ySLC_ue6Umt9RJYSeM2t-V0kCv-4C-P')\n",
    "print (path)"
   ]
  },
  {
   "cell_type": "code",
   "execution_count": 59,
   "metadata": {},
   "outputs": [],
   "source": [
    "dataset = pd.read_csv(path)"
   ]
  },
  {
   "cell_type": "code",
   "execution_count": 60,
   "metadata": {},
   "outputs": [
    {
     "data": {
      "text/html": [
       "<div>\n",
       "<style scoped>\n",
       "    .dataframe tbody tr th:only-of-type {\n",
       "        vertical-align: middle;\n",
       "    }\n",
       "\n",
       "    .dataframe tbody tr th {\n",
       "        vertical-align: top;\n",
       "    }\n",
       "\n",
       "    .dataframe thead th {\n",
       "        text-align: right;\n",
       "    }\n",
       "</style>\n",
       "<table border=\"1\" class=\"dataframe\">\n",
       "  <thead>\n",
       "    <tr style=\"text-align: right;\">\n",
       "      <th></th>\n",
       "      <th>Unnamed: 0</th>\n",
       "      <th>text</th>\n",
       "      <th>sentiment</th>\n",
       "    </tr>\n",
       "  </thead>\n",
       "  <tbody>\n",
       "    <tr>\n",
       "      <th>0</th>\n",
       "      <td>0</td>\n",
       "      <td>So there is no way for me to plug it in here i...</td>\n",
       "      <td>0</td>\n",
       "    </tr>\n",
       "    <tr>\n",
       "      <th>1</th>\n",
       "      <td>1</td>\n",
       "      <td>Good case Excellent value.</td>\n",
       "      <td>1</td>\n",
       "    </tr>\n",
       "    <tr>\n",
       "      <th>2</th>\n",
       "      <td>2</td>\n",
       "      <td>Great for the jawbone.</td>\n",
       "      <td>1</td>\n",
       "    </tr>\n",
       "    <tr>\n",
       "      <th>3</th>\n",
       "      <td>3</td>\n",
       "      <td>Tied to charger for conversations lasting more...</td>\n",
       "      <td>0</td>\n",
       "    </tr>\n",
       "    <tr>\n",
       "      <th>4</th>\n",
       "      <td>4</td>\n",
       "      <td>The mic is great.</td>\n",
       "      <td>1</td>\n",
       "    </tr>\n",
       "  </tbody>\n",
       "</table>\n",
       "</div>"
      ],
      "text/plain": [
       "   Unnamed: 0                                               text  sentiment\n",
       "0           0  So there is no way for me to plug it in here i...          0\n",
       "1           1                         Good case Excellent value.          1\n",
       "2           2                             Great for the jawbone.          1\n",
       "3           3  Tied to charger for conversations lasting more...          0\n",
       "4           4                                  The mic is great.          1"
      ]
     },
     "execution_count": 60,
     "metadata": {},
     "output_type": "execute_result"
    }
   ],
   "source": [
    "dataset.head()"
   ]
  },
  {
   "cell_type": "code",
   "execution_count": 61,
   "metadata": {},
   "outputs": [],
   "source": [
    "sentences = dataset['text'].tolist()\n",
    "labels = dataset['sentiment'].tolist()"
   ]
  },
  {
   "cell_type": "code",
   "execution_count": 62,
   "metadata": {},
   "outputs": [],
   "source": [
    "training_size = len(sentences) * 0.8"
   ]
  },
  {
   "cell_type": "code",
   "execution_count": 63,
   "metadata": {},
   "outputs": [],
   "source": [
    "training_size = int(training_size)"
   ]
  },
  {
   "cell_type": "code",
   "execution_count": 64,
   "metadata": {},
   "outputs": [
    {
     "data": {
      "text/plain": [
       "1593"
      ]
     },
     "execution_count": 64,
     "metadata": {},
     "output_type": "execute_result"
    }
   ],
   "source": [
    "training_size"
   ]
  },
  {
   "cell_type": "code",
   "execution_count": 65,
   "metadata": {},
   "outputs": [],
   "source": [
    "training_sentences = sentences[0:training_size]\n",
    "testing_sentences = sentences[training_size:]\n",
    "training_labels = labels[0:training_size]\n",
    "testing_labels = labels[training_size:]"
   ]
  },
  {
   "cell_type": "code",
   "execution_count": 66,
   "metadata": {},
   "outputs": [],
   "source": [
    "training_labels_final = np.array(training_labels)\n",
    "testing_labels_final = np.array(testing_labels)"
   ]
  },
  {
   "cell_type": "markdown",
   "metadata": {},
   "source": [
    "### Tokenizing the dataset including OOV (out of vocabulary) and padding"
   ]
  },
  {
   "cell_type": "code",
   "execution_count": 67,
   "metadata": {},
   "outputs": [],
   "source": [
    "# parameters\n",
    "vocab_size = 500\n",
    "word_embedding = 16\n",
    "max_length = 50\n",
    "trunc_type='post'\n",
    "padding_type='post'\n",
    "oov_tok = '<OOV>'"
   ]
  },
  {
   "cell_type": "code",
   "execution_count": 68,
   "metadata": {},
   "outputs": [],
   "source": [
    "from tensorflow.keras.preprocessing.text import Tokenizer\n",
    "from tensorflow.keras.preprocessing.sequence import pad_sequences"
   ]
  },
  {
   "cell_type": "code",
   "execution_count": 69,
   "metadata": {},
   "outputs": [],
   "source": [
    "tokenizer = Tokenizer(num_words = vocab_size, oov_token = oov_tok)"
   ]
  },
  {
   "cell_type": "code",
   "execution_count": 70,
   "metadata": {},
   "outputs": [],
   "source": [
    "tokenizer.fit_on_texts(training_sentences)"
   ]
  },
  {
   "cell_type": "code",
   "execution_count": 71,
   "metadata": {},
   "outputs": [],
   "source": [
    "word_index = tokenizer.word_index"
   ]
  },
  {
   "cell_type": "code",
   "execution_count": 72,
   "metadata": {},
   "outputs": [
    {
     "data": {
      "text/plain": [
       "2834"
      ]
     },
     "execution_count": 72,
     "metadata": {},
     "output_type": "execute_result"
    }
   ],
   "source": [
    "len(word_index)"
   ]
  },
  {
   "cell_type": "code",
   "execution_count": 73,
   "metadata": {},
   "outputs": [],
   "source": [
    "sequences = tokenizer.texts_to_sequences(training_sentences)"
   ]
  },
  {
   "cell_type": "code",
   "execution_count": 74,
   "metadata": {},
   "outputs": [
    {
     "data": {
      "text/plain": [
       "1593"
      ]
     },
     "execution_count": 74,
     "metadata": {},
     "output_type": "execute_result"
    }
   ],
   "source": [
    "len(sequences)"
   ]
  },
  {
   "cell_type": "code",
   "execution_count": 75,
   "metadata": {},
   "outputs": [],
   "source": [
    "padded = pad_sequences(sequences, maxlen = max_length, padding= padding_type, truncating = trunc_type)"
   ]
  },
  {
   "cell_type": "code",
   "execution_count": 76,
   "metadata": {},
   "outputs": [],
   "source": [
    "testing_sequences = tokenizer.texts_to_sequences(testing_sentences)\n",
    "testing_padded = pad_sequences(testing_sequences,maxlen=max_length, \n",
    "                               padding=padding_type, truncating=trunc_type)"
   ]
  },
  {
   "cell_type": "markdown",
   "metadata": {},
   "source": [
    "### Review a sequence"
   ]
  },
  {
   "cell_type": "code",
   "execution_count": 77,
   "metadata": {},
   "outputs": [
    {
     "name": "stdout",
     "output_type": "stream",
     "text": [
      "good case excellent value ? ? ? ? ? ? ? ? ? ? ? ? ? ? ? ? ? ? ? ? ? ? ? ? ? ? ? ? ? ? ? ? ? ? ? ? ? ? ? ? ? ? ? ? ? ?\n",
      "Good case Excellent value.\n"
     ]
    }
   ],
   "source": [
    "reverse_word_index = dict([(value, key) for (key, value) in word_index.items()])\n",
    "\n",
    "def decode_review(text):\n",
    "    return ' '.join([reverse_word_index.get(i, '?') for i in text])\n",
    "\n",
    "print(decode_review(padded[1]))\n",
    "print(training_sentences[1])"
   ]
  },
  {
   "cell_type": "code",
   "execution_count": 78,
   "metadata": {},
   "outputs": [
    {
     "name": "stdout",
     "output_type": "stream",
     "text": [
      "Model: \"sequential_3\"\n",
      "_________________________________________________________________\n",
      "Layer (type)                 Output Shape              Param #   \n",
      "=================================================================\n",
      "embedding_3 (Embedding)      (None, 50, 16)            8000      \n",
      "_________________________________________________________________\n",
      "global_average_pooling1d (Gl (None, 16)                0         \n",
      "_________________________________________________________________\n",
      "dense_6 (Dense)              (None, 6)                 102       \n",
      "_________________________________________________________________\n",
      "dense_7 (Dense)              (None, 1)                 7         \n",
      "=================================================================\n",
      "Total params: 8,109\n",
      "Trainable params: 8,109\n",
      "Non-trainable params: 0\n",
      "_________________________________________________________________\n"
     ]
    }
   ],
   "source": [
    "# Build a basic sentiment network\n",
    "# Note the embedding layer is first, \n",
    "# and the output is only 1 node as it is either 0 or 1 (negative or positive)\n",
    "\n",
    "model = tf.keras.Sequential([\n",
    "    tf.keras.layers.Embedding(vocab_size, word_embedding, input_length=max_length),\n",
    "    #tf.keras.layers.Flatten(),\n",
    "    tf.keras.layers.GlobalAveragePooling1D(),\n",
    "    tf.keras.layers.Dense(6, activation='relu'),\n",
    "    tf.keras.layers.Dense(1, activation='sigmoid')\n",
    "])\n",
    "model.compile(loss='binary_crossentropy',optimizer='adam',metrics=['accuracy'])\n",
    "model.summary()"
   ]
  },
  {
   "cell_type": "code",
   "execution_count": 81,
   "metadata": {},
   "outputs": [
    {
     "name": "stdout",
     "output_type": "stream",
     "text": [
      "Epoch 1/30\n",
      "50/50 [==============================] - 0s 2ms/step - loss: 0.2378 - accuracy: 0.9134 - val_loss: 0.4988 - val_accuracy: 0.7644\n",
      "Epoch 2/30\n",
      "50/50 [==============================] - 0s 1ms/step - loss: 0.2322 - accuracy: 0.9115 - val_loss: 0.5026 - val_accuracy: 0.7669\n",
      "Epoch 3/30\n",
      "50/50 [==============================] - 0s 1ms/step - loss: 0.2282 - accuracy: 0.9127 - val_loss: 0.5299 - val_accuracy: 0.7343\n",
      "Epoch 4/30\n",
      "50/50 [==============================] - 0s 1ms/step - loss: 0.2236 - accuracy: 0.9203 - val_loss: 0.5124 - val_accuracy: 0.7644\n",
      "Epoch 5/30\n",
      "50/50 [==============================] - 0s 1ms/step - loss: 0.2198 - accuracy: 0.9127 - val_loss: 0.5178 - val_accuracy: 0.7619\n",
      "Epoch 6/30\n",
      "50/50 [==============================] - 0s 1ms/step - loss: 0.2141 - accuracy: 0.9096 - val_loss: 0.5618 - val_accuracy: 0.7168\n",
      "Epoch 7/30\n",
      "50/50 [==============================] - 0s 1ms/step - loss: 0.2127 - accuracy: 0.9134 - val_loss: 0.5498 - val_accuracy: 0.7218\n",
      "Epoch 8/30\n",
      "50/50 [==============================] - 0s 1ms/step - loss: 0.2065 - accuracy: 0.9171 - val_loss: 0.5257 - val_accuracy: 0.7619\n",
      "Epoch 9/30\n",
      "50/50 [==============================] - 0s 1ms/step - loss: 0.2091 - accuracy: 0.9178 - val_loss: 0.5991 - val_accuracy: 0.6892\n",
      "Epoch 10/30\n",
      "50/50 [==============================] - 0s 1ms/step - loss: 0.2029 - accuracy: 0.9222 - val_loss: 0.5562 - val_accuracy: 0.7318\n",
      "Epoch 11/30\n",
      "50/50 [==============================] - 0s 1ms/step - loss: 0.2009 - accuracy: 0.9222 - val_loss: 0.5349 - val_accuracy: 0.7744\n",
      "Epoch 12/30\n",
      "50/50 [==============================] - 0s 1ms/step - loss: 0.1954 - accuracy: 0.9203 - val_loss: 0.5571 - val_accuracy: 0.7469\n",
      "Epoch 13/30\n",
      "50/50 [==============================] - 0s 1ms/step - loss: 0.1909 - accuracy: 0.9291 - val_loss: 0.5448 - val_accuracy: 0.7694\n",
      "Epoch 14/30\n",
      "50/50 [==============================] - 0s 1ms/step - loss: 0.1909 - accuracy: 0.9228 - val_loss: 0.5725 - val_accuracy: 0.7343\n",
      "Epoch 15/30\n",
      "50/50 [==============================] - 0s 1ms/step - loss: 0.1858 - accuracy: 0.9266 - val_loss: 0.5730 - val_accuracy: 0.7393\n",
      "Epoch 16/30\n",
      "50/50 [==============================] - 0s 1ms/step - loss: 0.1856 - accuracy: 0.9272 - val_loss: 0.5892 - val_accuracy: 0.7243\n",
      "Epoch 17/30\n",
      "50/50 [==============================] - 0s 1ms/step - loss: 0.1844 - accuracy: 0.9284 - val_loss: 0.5661 - val_accuracy: 0.7644\n",
      "Epoch 18/30\n",
      "50/50 [==============================] - 0s 1ms/step - loss: 0.1814 - accuracy: 0.9272 - val_loss: 0.5758 - val_accuracy: 0.7519\n",
      "Epoch 19/30\n",
      "50/50 [==============================] - 0s 1ms/step - loss: 0.1777 - accuracy: 0.9291 - val_loss: 0.6004 - val_accuracy: 0.7293\n",
      "Epoch 20/30\n",
      "50/50 [==============================] - 0s 2ms/step - loss: 0.1745 - accuracy: 0.9322 - val_loss: 0.5872 - val_accuracy: 0.7444\n",
      "Epoch 21/30\n",
      "50/50 [==============================] - 0s 1ms/step - loss: 0.1724 - accuracy: 0.9316 - val_loss: 0.5857 - val_accuracy: 0.7569\n",
      "Epoch 22/30\n",
      "50/50 [==============================] - 0s 1ms/step - loss: 0.1718 - accuracy: 0.9297 - val_loss: 0.6001 - val_accuracy: 0.7368\n",
      "Epoch 23/30\n",
      "50/50 [==============================] - 0s 1ms/step - loss: 0.1690 - accuracy: 0.9309 - val_loss: 0.6158 - val_accuracy: 0.7268\n",
      "Epoch 24/30\n",
      "50/50 [==============================] - 0s 1ms/step - loss: 0.1663 - accuracy: 0.9328 - val_loss: 0.6495 - val_accuracy: 0.7093\n",
      "Epoch 25/30\n",
      "50/50 [==============================] - 0s 1ms/step - loss: 0.1670 - accuracy: 0.9278 - val_loss: 0.6254 - val_accuracy: 0.7293\n",
      "Epoch 26/30\n",
      "50/50 [==============================] - 0s 1ms/step - loss: 0.1647 - accuracy: 0.9303 - val_loss: 0.6304 - val_accuracy: 0.7293\n",
      "Epoch 27/30\n",
      "50/50 [==============================] - 0s 1ms/step - loss: 0.1614 - accuracy: 0.9366 - val_loss: 0.6600 - val_accuracy: 0.7218\n",
      "Epoch 28/30\n",
      "50/50 [==============================] - 0s 1ms/step - loss: 0.1606 - accuracy: 0.9335 - val_loss: 0.6400 - val_accuracy: 0.7318\n",
      "Epoch 29/30\n",
      "50/50 [==============================] - 0s 1ms/step - loss: 0.1569 - accuracy: 0.9397 - val_loss: 0.6440 - val_accuracy: 0.7343\n",
      "Epoch 30/30\n",
      "50/50 [==============================] - 0s 1ms/step - loss: 0.1576 - accuracy: 0.9397 - val_loss: 0.6599 - val_accuracy: 0.7268\n"
     ]
    }
   ],
   "source": [
    "num_epochs = 30\n",
    "#model.fit(padded, training_labels_final, epochs=num_epochs, validation_data=(testing_padded, testing_labels_final))\n",
    "history = model.fit(padded, training_labels_final, epochs=num_epochs, validation_data=(testing_padded, testing_labels_final))"
   ]
  },
  {
   "cell_type": "markdown",
   "metadata": {},
   "source": [
    "## Visualize the training graph\n",
    "\n",
    "You can use the code below to visualize the training and validation accuracy while you try out different tweaks to the hyperparameters and model."
   ]
  },
  {
   "cell_type": "code",
   "execution_count": 82,
   "metadata": {},
   "outputs": [
    {
     "data": {
      "image/png": "[encoded data removed]",
      "text/plain": [
       "<Figure size 432x288 with 1 Axes>"
      ]
     },
     "metadata": {
      "needs_background": "light"
     },
     "output_type": "display_data"
    },
    {
     "data": {
      "image/png": "[encoded data removed]",
      "text/plain": [
       "<Figure size 432x288 with 1 Axes>"
      ]
     },
     "metadata": {
      "needs_background": "light"
     },
     "output_type": "display_data"
    }
   ],
   "source": [
    "import matplotlib.pyplot as plt\n",
    "\n",
    "\n",
    "def plot_graphs(history, string):\n",
    "  plt.plot(history.history[string])\n",
    "  plt.plot(history.history['val_'+string])\n",
    "  plt.xlabel(\"Epochs\")\n",
    "  plt.ylabel(string)\n",
    "  plt.legend([string, 'val_'+string])\n",
    "  plt.show()\n",
    "  \n",
    "plot_graphs(history, \"accuracy\")\n",
    "plot_graphs(history, \"loss\")"
   ]
  },
  {
   "cell_type": "markdown",
   "metadata": {},
   "source": [
    "## Get files for visualizing the network\n",
    "\n",
    "The code below will download two files for visualizing how your network \"sees\" the sentiment related to each word. Head to http://projector.tensorflow.org/ and load these files, then click the \"Sphereize\" checkbox."
   ]
  },
  {
   "cell_type": "code",
   "execution_count": 83,
   "metadata": {},
   "outputs": [
    {
     "name": "stdout",
     "output_type": "stream",
     "text": [
      "(500, 16)\n"
     ]
    }
   ],
   "source": [
    "# First get the weights of the embedding layer\n",
    "e = model.layers[0]\n",
    "weights = e.get_weights()[0]\n",
    "print(weights.shape) # shape: (vocab_size, embedding_dim)"
   ]
  },
  {
   "cell_type": "code",
   "execution_count": 84,
   "metadata": {},
   "outputs": [],
   "source": [
    "import io\n",
    "\n",
    "# Write out the embedding vectors and metadata\n",
    "out_v = io.open('vecs.tsv', 'w', encoding='utf-8')\n",
    "out_m = io.open('meta.tsv', 'w', encoding='utf-8')\n",
    "for word_num in range(1, vocab_size):\n",
    "  word = reverse_word_index[word_num]\n",
    "  embeddings = weights[word_num]\n",
    "  out_m.write(word + \"\\n\")\n",
    "  out_v.write('\\t'.join([str(x) for x in embeddings]) + \"\\n\")\n",
    "out_v.close()\n",
    "out_m.close()"
   ]
  },
  {
   "cell_type": "code",
   "execution_count": 85,
   "metadata": {},
   "outputs": [],
   "source": [
    "# Download the files\n",
    "try:\n",
    "  from google.colab import files\n",
    "except ImportError:\n",
    "  pass\n",
    "else:\n",
    "  files.download('vecs.tsv')\n",
    "  files.download('meta.tsv')"
   ]
  },
  {
   "cell_type": "code",
   "execution_count": 86,
   "metadata": {},
   "outputs": [
    {
     "name": "stdout",
     "output_type": "stream",
     "text": [
      "['I love this phone', 'I hate spaghetti', 'Everything was cold', 'Everything was hot exactly as I wanted', 'Everything was green', 'the host seated us immediately', 'they gave us free chocolate cake', 'not sure about the wilted flowers on the table', 'only works when I stand on tippy toes', 'does not work when I stand on my head', 'get the hell out of here he said', 'shut up he said, such a monstor mechanic']\n",
      "\n",
      "HOT OFF THE PRESS! HERE ARE SOME NEWLY MINTED, ABSOLUTELY GENUINE REVIEWS!\n",
      "\n",
      "I love this phone\n",
      "[0.9906033]\n",
      "\n",
      "\n",
      "I hate spaghetti\n",
      "[0.02057752]\n",
      "\n",
      "\n",
      "Everything was cold\n",
      "[0.70087147]\n",
      "\n",
      "\n",
      "Everything was hot exactly as I wanted\n",
      "[0.4034342]\n",
      "\n",
      "\n",
      "Everything was green\n",
      "[0.70087147]\n",
      "\n",
      "\n",
      "the host seated us immediately\n",
      "[0.85994]\n",
      "\n",
      "\n",
      "they gave us free chocolate cake\n",
      "[0.9892957]\n",
      "\n",
      "\n",
      "not sure about the wilted flowers on the table\n",
      "[0.01593381]\n",
      "\n",
      "\n",
      "only works when I stand on tippy toes\n",
      "[0.98857546]\n",
      "\n",
      "\n",
      "does not work when I stand on my head\n",
      "[0.00303751]\n",
      "\n",
      "\n",
      "get the hell out of here he said\n",
      "[0.95260274]\n",
      "\n",
      "\n",
      "shut up he said, such a monstor mechanic\n",
      "[0.801733]\n",
      "\n",
      "\n"
     ]
    }
   ],
   "source": [
    "# Use the model to predict a review   \n",
    "fake_reviews = ['I love this phone', 'I hate spaghetti', \n",
    "                'Everything was cold',\n",
    "                'Everything was hot exactly as I wanted', \n",
    "                'Everything was green', \n",
    "                'the host seated us immediately',\n",
    "                'they gave us free chocolate cake', \n",
    "                'not sure about the wilted flowers on the table',\n",
    "                'only works when I stand on tippy toes', \n",
    "                'does not work when I stand on my head',\n",
    "                'get the hell out of here he said',\n",
    "               'shut up he said, such a monstor mechanic',\n",
    "               'broke a headphones']\n",
    "\n",
    "print(fake_reviews) \n",
    "\n",
    "# Create the sequences\n",
    "padding_type='post'\n",
    "sample_sequences = tokenizer.texts_to_sequences(fake_reviews)\n",
    "fakes_padded = pad_sequences(sample_sequences, padding=padding_type, maxlen=max_length)           \n",
    "\n",
    "print('\\nHOT OFF THE PRESS! HERE ARE SOME NEWLY MINTED, ABSOLUTELY GENUINE REVIEWS!\\n')              \n",
    "\n",
    "classes = model.predict(fakes_padded)\n",
    "\n",
    "# The closer the class is to 1, the more positive the review is deemed to be\n",
    "for x in range(len(fake_reviews)):\n",
    "  print(fake_reviews[x])\n",
    "  print(classes[x])\n",
    "  print('\\n')\n",
    "\n",
    "# Try adding reviews of your own\n",
    "# Add some negative words (such as \"not\") to the good reviews and see what happens\n",
    "# For example:\n",
    "# they gave us free chocolate cake and did not charge us"
   ]
  },
  {
   "cell_type": "code",
   "execution_count": null,
   "metadata": {},
   "outputs": [],
   "source": []
  }
 ],
 "metadata": {
  "kernelspec": {
   "display_name": "Python 3",
   "language": "python",
   "name": "python3"
  },
  "language_info": {
   "codemirror_mode": {
    "name": "ipython",
    "version": 3
   },
   "file_extension": ".py",
   "mimetype": "text/x-python",
   "name": "python",
   "nbconvert_exporter": "python",
   "pygments_lexer": "ipython3",
   "version": "3.8.3"
  }
 },
 "nbformat": 4,
 "nbformat_minor": 4
}
