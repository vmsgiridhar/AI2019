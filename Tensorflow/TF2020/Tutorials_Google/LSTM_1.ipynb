{
 "cells": [
  {
   "cell_type": "markdown",
   "metadata": {},
   "source": [
    "# Using LSTMs with Sub words"
   ]
  },
  {
   "cell_type": "code",
   "execution_count": 1,
   "metadata": {},
   "outputs": [],
   "source": [
    "import tensorflow as tf\n",
    "\n",
    "from tensorflow.keras.preprocessing.sequence import pad_sequences"
   ]
  },
  {
   "cell_type": "code",
   "execution_count": 2,
   "metadata": {},
   "outputs": [
    {
     "name": "stdout",
     "output_type": "stream",
     "text": [
      "/Users/z003z7n/.keras/datasets/sentiment.csv\n"
     ]
    }
   ],
   "source": [
    "path = tf.keras.utils.get_file('sentiment.csv', \n",
    "                               'https://drive.google.com/uc?id=13ySLC_ue6Umt9RJYSeM2t-V0kCv-4C-P')\n",
    "print (path)"
   ]
  },
  {
   "cell_type": "code",
   "execution_count": 3,
   "metadata": {},
   "outputs": [],
   "source": [
    "import pandas as pd\n",
    "\n",
    "dataset = pd.read_csv(path)\n",
    "\n",
    "# Extract out sentences and labels\n",
    "sentences = dataset['text'].tolist()\n",
    "labels = dataset['sentiment'].tolist()"
   ]
  },
  {
   "cell_type": "markdown",
   "metadata": {},
   "source": [
    "#Create a subwords dataset\n",
    "\n",
    "We will use the Amazon and Yelp reviews dataset with tensorflow_datasets's SubwordTextEncoder functionality. \n",
    "\n",
    "SubwordTextEncoder.build_from_corpus() will create a tokenizer for us. You could also use this functionality to get subwords from a much larger corpus of text as well, but we'll just use our existing dataset here.\n",
    "\n",
    "We'll create a subword vocab_size of only the 1,000 most common subwords, as well as cutting off each subword to be at most 5 characters.\n",
    "\n",
    "Check out the related documentation for the the subword text encoder [here](https://www.tensorflow.org/datasets/api_docs/python/tfds/features/text/SubwordTextEncoder#build_from_corpus)."
   ]
  },
  {
   "cell_type": "code",
   "execution_count": 4,
   "metadata": {},
   "outputs": [
    {
     "name": "stdout",
     "output_type": "stream",
     "text": [
      "Vocab size is  999\n"
     ]
    }
   ],
   "source": [
    "import tensorflow_datasets as tfds\n",
    "\n",
    "vocab_size = 1000\n",
    "tokenizer = tfds.deprecated.text.SubwordTextEncoder.build_from_corpus(sentences, vocab_size, max_subword_length=5)\n",
    "\n",
    "# How big is the vocab size?\n",
    "print(\"Vocab size is \", tokenizer.vocab_size)"
   ]
  },
  {
   "cell_type": "code",
   "execution_count": 5,
   "metadata": {},
   "outputs": [
    {
     "name": "stdout",
     "output_type": "stream",
     "text": [
      "I have to jiggle the plug to get it to line up right to get decent volume.\n",
      "[4, 31, 6, 849, 162, 450, 12, 1, 600, 438, 775, 6, 175, 14, 6, 55, 213, 159, 474, 775, 6, 175, 614, 380, 295, 148, 72, 789]\n"
     ]
    }
   ],
   "source": [
    "# Check that the tokenizer works appropriately\n",
    "num = 5\n",
    "print(sentences[num])\n",
    "encoded = tokenizer.encode(sentences[num])\n",
    "print(encoded)"
   ]
  },
  {
   "cell_type": "code",
   "execution_count": 6,
   "metadata": {},
   "outputs": [
    {
     "name": "stdout",
     "output_type": "stream",
     "text": [
      "I \n",
      "have \n",
      "to \n",
      "j\n",
      "ig\n",
      "gl\n",
      "e \n",
      "the \n",
      "pl\n",
      "ug\n",
      " \n",
      "to \n",
      "get \n",
      "it \n",
      "to \n",
      "li\n",
      "ne \n",
      "up \n",
      "right\n",
      " \n",
      "to \n",
      "get \n",
      "dec\n",
      "ent \n",
      "vo\n",
      "lu\n",
      "me\n",
      ".\n"
     ]
    }
   ],
   "source": [
    "# Separately print out each subword, decoded\n",
    "for i in encoded:\n",
    "  print(tokenizer.decode([i]))"
   ]
  },
  {
   "cell_type": "markdown",
   "metadata": {},
   "source": [
    "## Replace sentence data with encoded subwords\n",
    "\n",
    "Now, we'll create the sequences to be used for training by actually encoding each of the individual sentences. This is equivalent to `text_to_sequences` with the `Tokenizer` we used in earlier exercises."
   ]
  },
  {
   "cell_type": "code",
   "execution_count": 7,
   "metadata": {},
   "outputs": [],
   "source": [
    "for i, sentence in enumerate(sentences):\n",
    "  sentences[i] = tokenizer.encode(sentence)"
   ]
  },
  {
   "cell_type": "code",
   "execution_count": 8,
   "metadata": {},
   "outputs": [
    {
     "name": "stdout",
     "output_type": "stream",
     "text": [
      "[4, 31, 6, 849, 162, 450, 12, 1, 600, 438, 775, 6, 175, 14, 6, 55, 213, 159, 474, 775, 6, 175, 614, 380, 295, 148, 72, 789]\n"
     ]
    }
   ],
   "source": [
    "# Check the sentences are appropriately replaced\n",
    "print(sentences[5])"
   ]
  },
  {
   "cell_type": "markdown",
   "metadata": {},
   "source": [
    "## Final pre-processing\n",
    "\n",
    "Before training, we still need to pad the sequences, as well as split into training and test sets."
   ]
  },
  {
   "cell_type": "code",
   "execution_count": 9,
   "metadata": {},
   "outputs": [],
   "source": [
    "import numpy as np\n",
    "\n",
    "max_length = 50\n",
    "trunc_type='post'\n",
    "padding_type='post'\n",
    "\n",
    "# Pad all sequences\n",
    "sequences_padded = pad_sequences(sentences, maxlen=max_length, \n",
    "                                 padding=padding_type, truncating=trunc_type)\n",
    "\n",
    "# Separate out the sentences and labels into training and test sets\n",
    "training_size = int(len(sentences) * 0.8)\n",
    "\n",
    "training_sequences = sequences_padded[0:training_size]\n",
    "testing_sequences = sequences_padded[training_size:]\n",
    "training_labels = labels[0:training_size]\n",
    "testing_labels = labels[training_size:]\n",
    "\n",
    "# Make labels into numpy arrays for use with the network later\n",
    "training_labels_final = np.array(training_labels)\n",
    "testing_labels_final = np.array(testing_labels)"
   ]
  },
  {
   "cell_type": "markdown",
   "metadata": {},
   "source": [
    "# Create the model using an Embedding"
   ]
  },
  {
   "cell_type": "code",
   "execution_count": 10,
   "metadata": {},
   "outputs": [
    {
     "name": "stdout",
     "output_type": "stream",
     "text": [
      "Model: \"sequential\"\n",
      "_________________________________________________________________\n",
      "Layer (type)                 Output Shape              Param #   \n",
      "=================================================================\n",
      "embedding (Embedding)        (None, 50, 16)            16000     \n",
      "_________________________________________________________________\n",
      "global_average_pooling1d (Gl (None, 16)                0         \n",
      "_________________________________________________________________\n",
      "dense (Dense)                (None, 6)                 102       \n",
      "_________________________________________________________________\n",
      "dense_1 (Dense)              (None, 1)                 7         \n",
      "=================================================================\n",
      "Total params: 16,109\n",
      "Trainable params: 16,109\n",
      "Non-trainable params: 0\n",
      "_________________________________________________________________\n"
     ]
    }
   ],
   "source": [
    "embedding_dim = 16\n",
    "\n",
    "model = tf.keras.Sequential([\n",
    "    tf.keras.layers.Embedding(vocab_size, embedding_dim, input_length=max_length),\n",
    "    tf.keras.layers.GlobalAveragePooling1D(), \n",
    "    tf.keras.layers.Dense(6, activation='relu'),\n",
    "    tf.keras.layers.Dense(1, activation='sigmoid')\n",
    "])\n",
    "\n",
    "model.summary()"
   ]
  },
  {
   "cell_type": "markdown",
   "metadata": {},
   "source": [
    "# Train the model"
   ]
  },
  {
   "cell_type": "code",
   "execution_count": 11,
   "metadata": {},
   "outputs": [
    {
     "name": "stdout",
     "output_type": "stream",
     "text": [
      "Epoch 1/30\n",
      "50/50 [==============================] - 0s 3ms/step - loss: 0.6922 - accuracy: 0.5191 - val_loss: 0.6967 - val_accuracy: 0.4110\n",
      "Epoch 2/30\n",
      "50/50 [==============================] - 0s 925us/step - loss: 0.6899 - accuracy: 0.5223 - val_loss: 0.6995 - val_accuracy: 0.4110\n",
      "Epoch 3/30\n",
      "50/50 [==============================] - 0s 962us/step - loss: 0.6863 - accuracy: 0.5254 - val_loss: 0.7006 - val_accuracy: 0.4211\n",
      "Epoch 4/30\n",
      "50/50 [==============================] - 0s 1ms/step - loss: 0.6794 - accuracy: 0.5807 - val_loss: 0.6917 - val_accuracy: 0.4912\n",
      "Epoch 5/30\n",
      "50/50 [==============================] - 0s 1ms/step - loss: 0.6657 - accuracy: 0.6177 - val_loss: 0.6791 - val_accuracy: 0.5338\n",
      "Epoch 6/30\n",
      "50/50 [==============================] - 0s 1ms/step - loss: 0.6442 - accuracy: 0.6805 - val_loss: 0.6573 - val_accuracy: 0.6591\n",
      "Epoch 7/30\n",
      "50/50 [==============================] - 0s 1ms/step - loss: 0.6167 - accuracy: 0.7577 - val_loss: 0.6392 - val_accuracy: 0.6792\n",
      "Epoch 8/30\n",
      "50/50 [==============================] - 0s 916us/step - loss: 0.5818 - accuracy: 0.7740 - val_loss: 0.6061 - val_accuracy: 0.7694\n",
      "Epoch 9/30\n",
      "50/50 [==============================] - 0s 973us/step - loss: 0.5439 - accuracy: 0.8198 - val_loss: 0.5904 - val_accuracy: 0.7143\n",
      "Epoch 10/30\n",
      "50/50 [==============================] - 0s 1ms/step - loss: 0.5012 - accuracy: 0.8406 - val_loss: 0.5687 - val_accuracy: 0.7293\n",
      "Epoch 11/30\n",
      "50/50 [==============================] - 0s 1ms/step - loss: 0.4613 - accuracy: 0.8424 - val_loss: 0.5476 - val_accuracy: 0.7343\n",
      "Epoch 12/30\n",
      "50/50 [==============================] - 0s 1ms/step - loss: 0.4254 - accuracy: 0.8575 - val_loss: 0.5260 - val_accuracy: 0.7544\n",
      "Epoch 13/30\n",
      "50/50 [==============================] - 0s 1ms/step - loss: 0.3952 - accuracy: 0.8682 - val_loss: 0.5196 - val_accuracy: 0.7494\n",
      "Epoch 14/30\n",
      "50/50 [==============================] - 0s 941us/step - loss: 0.3680 - accuracy: 0.8675 - val_loss: 0.5132 - val_accuracy: 0.7569\n",
      "Epoch 15/30\n",
      "50/50 [==============================] - 0s 1ms/step - loss: 0.3437 - accuracy: 0.8820 - val_loss: 0.5005 - val_accuracy: 0.7594\n",
      "Epoch 16/30\n",
      "50/50 [==============================] - 0s 1ms/step - loss: 0.3241 - accuracy: 0.8832 - val_loss: 0.5044 - val_accuracy: 0.7544\n",
      "Epoch 17/30\n",
      "50/50 [==============================] - 0s 1ms/step - loss: 0.3046 - accuracy: 0.8914 - val_loss: 0.5402 - val_accuracy: 0.7268\n",
      "Epoch 18/30\n",
      "50/50 [==============================] - 0s 911us/step - loss: 0.2934 - accuracy: 0.8914 - val_loss: 0.5145 - val_accuracy: 0.7569\n",
      "Epoch 19/30\n",
      "50/50 [==============================] - 0s 985us/step - loss: 0.2763 - accuracy: 0.9033 - val_loss: 0.5246 - val_accuracy: 0.7494\n",
      "Epoch 20/30\n",
      "50/50 [==============================] - 0s 952us/step - loss: 0.2626 - accuracy: 0.9127 - val_loss: 0.5307 - val_accuracy: 0.7519\n",
      "Epoch 21/30\n",
      "50/50 [==============================] - 0s 1ms/step - loss: 0.2528 - accuracy: 0.9096 - val_loss: 0.5124 - val_accuracy: 0.7444\n",
      "Epoch 22/30\n",
      "50/50 [==============================] - 0s 1ms/step - loss: 0.2404 - accuracy: 0.9165 - val_loss: 0.5259 - val_accuracy: 0.7469\n",
      "Epoch 23/30\n",
      "50/50 [==============================] - 0s 1ms/step - loss: 0.2317 - accuracy: 0.9178 - val_loss: 0.5424 - val_accuracy: 0.7544\n",
      "Epoch 24/30\n",
      "50/50 [==============================] - 0s 1ms/step - loss: 0.2234 - accuracy: 0.9184 - val_loss: 0.5318 - val_accuracy: 0.7544\n",
      "Epoch 25/30\n",
      "50/50 [==============================] - 0s 1ms/step - loss: 0.2148 - accuracy: 0.9234 - val_loss: 0.5399 - val_accuracy: 0.7519\n",
      "Epoch 26/30\n",
      "50/50 [==============================] - 0s 1ms/step - loss: 0.2057 - accuracy: 0.9291 - val_loss: 0.5563 - val_accuracy: 0.7444\n",
      "Epoch 27/30\n",
      "50/50 [==============================] - 0s 1ms/step - loss: 0.1978 - accuracy: 0.9335 - val_loss: 0.5486 - val_accuracy: 0.7594\n",
      "Epoch 28/30\n",
      "50/50 [==============================] - 0s 1ms/step - loss: 0.1896 - accuracy: 0.9410 - val_loss: 0.5780 - val_accuracy: 0.7393\n",
      "Epoch 29/30\n",
      "50/50 [==============================] - 0s 1ms/step - loss: 0.1849 - accuracy: 0.9410 - val_loss: 0.5718 - val_accuracy: 0.7494\n",
      "Epoch 30/30\n",
      "50/50 [==============================] - 0s 1ms/step - loss: 0.1794 - accuracy: 0.9435 - val_loss: 0.5893 - val_accuracy: 0.7444\n"
     ]
    }
   ],
   "source": [
    "num_epochs = 30\n",
    "model.compile(loss='binary_crossentropy',optimizer='adam',metrics=['accuracy'])\n",
    "history = model.fit(training_sequences, training_labels_final, epochs=num_epochs, validation_data=(testing_sequences, testing_labels_final))\n"
   ]
  },
  {
   "cell_type": "markdown",
   "metadata": {},
   "source": [
    "# Plot the accuracy and loss"
   ]
  },
  {
   "cell_type": "code",
   "execution_count": 12,
   "metadata": {},
   "outputs": [
    {
     "data": {
      "image/png": "[encoded data removed]",
      "text/plain": [
       "<Figure size 432x288 with 1 Axes>"
      ]
     },
     "metadata": {
      "needs_background": "light"
     },
     "output_type": "display_data"
    },
    {
     "data": {
      "image/png": "[encoded data removed]",
      "text/plain": [
       "<Figure size 432x288 with 1 Axes>"
      ]
     },
     "metadata": {
      "needs_background": "light"
     },
     "output_type": "display_data"
    }
   ],
   "source": [
    "import matplotlib.pyplot as plt\n",
    "\n",
    "\n",
    "def plot_graphs(history, string):\n",
    "  plt.plot(history.history[string])\n",
    "  plt.plot(history.history['val_'+string])\n",
    "  plt.xlabel(\"Epochs\")\n",
    "  plt.ylabel(string)\n",
    "  plt.legend([string, 'val_'+string])\n",
    "  plt.show()\n",
    "  \n",
    "plot_graphs(history, \"accuracy\")\n",
    "plot_graphs(history, \"loss\")"
   ]
  },
  {
   "cell_type": "markdown",
   "metadata": {},
   "source": [
    "# Define a function to predict the sentiment of reviews\n",
    "\n",
    "We'll be creating models with some differences and will use each model to predict the sentiment of some new reviews.\n",
    "\n",
    "To save time, create a function that will take in a model and some new reviews, and print out the sentiment of each reviews.\n",
    "\n",
    "The higher the sentiment value is to 1, the more positive the review is."
   ]
  },
  {
   "cell_type": "code",
   "execution_count": 13,
   "metadata": {},
   "outputs": [],
   "source": [
    "# Define a function to take a series of reviews\n",
    "# and predict whether each one is a positive or negative review\n",
    "\n",
    "# max_length = 100 # previously defined\n",
    "\n",
    "def predict_review(model, new_sentences, maxlen=max_length, show_padded_sequence=True ):\n",
    "  # Keep the original sentences so that we can keep using them later\n",
    "  # Create an array to hold the encoded sequences\n",
    "  new_sequences = []\n",
    "\n",
    "  # Convert the new reviews to sequences\n",
    "  for i, frvw in enumerate(new_sentences):\n",
    "    new_sequences.append(tokenizer.encode(frvw))\n",
    "\n",
    "  trunc_type='post' \n",
    "  padding_type='post'\n",
    "\n",
    "  # Pad all sequences for the new reviews\n",
    "  new_reviews_padded = pad_sequences(new_sequences, maxlen=max_length, \n",
    "                                 padding=padding_type, truncating=trunc_type)             \n",
    "\n",
    "  classes = model.predict(new_reviews_padded)\n",
    "\n",
    "  # The closer the class is to 1, the more positive the review is\n",
    "  for x in range(len(new_sentences)):\n",
    "    \n",
    "    # We can see the padded sequence if desired\n",
    "    # Print the sequence\n",
    "    if (show_padded_sequence):\n",
    "      print(new_reviews_padded[x])\n",
    "    # Print the review as text\n",
    "    print(new_sentences[x])\n",
    "    # Print its predicted class\n",
    "    print(classes[x])\n",
    "    print(\"\\n\")"
   ]
  },
  {
   "cell_type": "code",
   "execution_count": 14,
   "metadata": {},
   "outputs": [
    {
     "name": "stdout",
     "output_type": "stream",
     "text": [
      "[  4 281  16  25   0   0   0   0   0   0   0   0   0   0   0   0   0   0\n",
      "   0   0   0   0   0   0   0   0   0   0   0   0   0   0   0   0   0   0\n",
      "   0   0   0   0   0   0   0   0   0   0   0   0   0   0]\n",
      "I love this phone\n",
      "[0.8880371]\n",
      "\n",
      "\n",
      "[812 227 864 100 775   9 525 843   0   0   0   0   0   0   0   0   0   0\n",
      "   0   0   0   0   0   0   0   0   0   0   0   0   0   0   0   0   0   0\n",
      "   0   0   0   0   0   0   0   0   0   0   0   0   0   0]\n",
      "Everything was cold\n",
      "[0.1035524]\n",
      "\n",
      "\n",
      "[812 227 864 100 775   9 109   8 333 731  24  61   4 171  59  77   0   0\n",
      "   0   0   0   0   0   0   0   0   0   0   0   0   0   0   0   0   0   0\n",
      "   0   0   0   0   0   0   0   0   0   0   0   0   0   0]\n",
      "Everything was hot exactly as I wanted\n",
      "[0.31385812]\n",
      "\n",
      "\n",
      "[812 227 864 100 775   9 157 359 853   0   0   0   0   0   0   0   0   0\n",
      "   0   0   0   0   0   0   0   0   0   0   0   0   0   0   0   0   0   0\n",
      "   0   0   0   0   0   0   0   0   0   0   0   0   0   0]\n",
      "Everything was green\n",
      "[0.08508694]\n",
      "\n",
      "\n",
      "[  1 109 228 540 237 635 241 423 340  89 298   0   0   0   0   0   0   0\n",
      "   0   0   0   0   0   0   0   0   0   0   0   0   0   0   0   0   0   0\n",
      "   0   0   0   0   0   0   0   0   0   0   0   0   0   0]\n",
      "the host seated us immediately\n",
      "[0.4215302]\n",
      "\n",
      "\n",
      "[154 242  47 635 341  12 569 547 147 319 775 125  85   0   0   0   0   0\n",
      "   0   0   0   0   0   0   0   0   0   0   0   0   0   0   0   0   0   0\n",
      "   0   0   0   0   0   0   0   0   0   0   0   0   0   0]\n",
      "they gave us free chocolate cake\n",
      "[0.71283203]\n",
      "\n",
      "\n",
      "[158 190 853 782   8 607 775 210 232 146 775 470  67 305 101  15   1 328\n",
      " 296  26  19   1 661 641 195   0   0   0   0   0   0   0   0   0   0   0\n",
      "   0   0   0   0   0   0   0   0   0   0   0   0   0   0]\n",
      "we couldn't hear each other talk because of the shouting in the kitchen\n",
      "[0.01319334]\n",
      "\n",
      "\n"
     ]
    }
   ],
   "source": [
    "# Use the model to predict some reviews   \n",
    "fake_reviews = [\"I love this phone\", \n",
    "                \"Everything was cold\",\n",
    "                \"Everything was hot exactly as I wanted\", \n",
    "                \"Everything was green\", \n",
    "                \"the host seated us immediately\",\n",
    "                \"they gave us free chocolate cake\", \n",
    "                \"we couldn't hear each other talk because of the shouting in the kitchen\"\n",
    "              ]\n",
    "\n",
    "predict_review(model, fake_reviews)"
   ]
  },
  {
   "cell_type": "markdown",
   "metadata": {},
   "source": [
    "# Define a function to train and show the results of models with different layers\n",
    "\n",
    "In the rest of this colab, we will define models, and then see the results. \n",
    "\n",
    "Define a function that will take the model, compile it, train it, graph the accuracy and loss, and then predict some results."
   ]
  },
  {
   "cell_type": "code",
   "execution_count": 15,
   "metadata": {},
   "outputs": [],
   "source": [
    "def fit_model_now (model, sentences) :\n",
    "  model.compile(loss='binary_crossentropy',optimizer='adam',metrics=['accuracy'])\n",
    "  model.summary()\n",
    "  history = model.fit(training_sequences, training_labels_final, epochs=num_epochs, \n",
    "                      validation_data=(testing_sequences, testing_labels_final))\n",
    "  return history\n",
    "\n",
    "def plot_results (history):\n",
    "  plot_graphs(history, \"accuracy\")\n",
    "  plot_graphs(history, \"loss\")\n",
    "\n",
    "def fit_model_and_show_results (model, sentences):\n",
    "  history = fit_model_now(model, sentences)\n",
    "  plot_results(history)\n",
    "  predict_review(model, sentences)"
   ]
  },
  {
   "cell_type": "markdown",
   "metadata": {},
   "source": [
    "# Add a bidirectional LSTM\n",
    "\n",
    "Create a new model that uses a bidirectional LSTM.\n",
    "\n",
    "Then use the function we have already defined to compile the model, train it, graph the accuracy and loss, then predict some results."
   ]
  },
  {
   "cell_type": "code",
   "execution_count": 17,
   "metadata": {},
   "outputs": [
    {
     "name": "stdout",
     "output_type": "stream",
     "text": [
      "Model: \"sequential_1\"\n",
      "_________________________________________________________________\n",
      "Layer (type)                 Output Shape              Param #   \n",
      "=================================================================\n",
      "embedding_1 (Embedding)      (None, 50, 16)            16000     \n",
      "_________________________________________________________________\n",
      "bidirectional (Bidirectional (None, 32)                4224      \n",
      "_________________________________________________________________\n",
      "dense_2 (Dense)              (None, 6)                 198       \n",
      "_________________________________________________________________\n",
      "dense_3 (Dense)              (None, 1)                 7         \n",
      "=================================================================\n",
      "Total params: 20,429\n",
      "Trainable params: 20,429\n",
      "Non-trainable params: 0\n",
      "_________________________________________________________________\n",
      "Epoch 1/30\n",
      "50/50 [==============================] - 1s 26ms/step - loss: 0.6917 - accuracy: 0.5210 - val_loss: 0.6963 - val_accuracy: 0.4110\n",
      "Epoch 2/30\n",
      "50/50 [==============================] - 1s 15ms/step - loss: 0.6649 - accuracy: 0.5424 - val_loss: 0.6678 - val_accuracy: 0.5163\n",
      "Epoch 3/30\n",
      "50/50 [==============================] - 1s 15ms/step - loss: 0.5575 - accuracy: 0.7257 - val_loss: 0.6200 - val_accuracy: 0.7368\n",
      "Epoch 4/30\n",
      "50/50 [==============================] - 1s 15ms/step - loss: 0.4746 - accuracy: 0.8374 - val_loss: 0.6483 - val_accuracy: 0.7469\n",
      "Epoch 5/30\n",
      "50/50 [==============================] - 1s 15ms/step - loss: 0.4251 - accuracy: 0.8763 - val_loss: 0.6442 - val_accuracy: 0.7419\n",
      "Epoch 6/30\n",
      "50/50 [==============================] - 1s 14ms/step - loss: 0.3874 - accuracy: 0.9021 - val_loss: 0.7299 - val_accuracy: 0.7343\n",
      "Epoch 7/30\n",
      "50/50 [==============================] - 1s 14ms/step - loss: 0.3587 - accuracy: 0.9171 - val_loss: 0.7584 - val_accuracy: 0.7343\n",
      "Epoch 8/30\n",
      "50/50 [==============================] - 1s 15ms/step - loss: 0.3479 - accuracy: 0.9247 - val_loss: 0.7563 - val_accuracy: 0.7419\n",
      "Epoch 9/30\n",
      "50/50 [==============================] - 1s 15ms/step - loss: 0.3230 - accuracy: 0.9360 - val_loss: 0.8500 - val_accuracy: 0.7444\n",
      "Epoch 10/30\n",
      "50/50 [==============================] - 1s 16ms/step - loss: 0.3048 - accuracy: 0.9454 - val_loss: 0.8056 - val_accuracy: 0.7368\n",
      "Epoch 11/30\n",
      "50/50 [==============================] - 1s 16ms/step - loss: 0.3013 - accuracy: 0.9454 - val_loss: 0.7938 - val_accuracy: 0.7268\n",
      "Epoch 12/30\n",
      "50/50 [==============================] - 1s 18ms/step - loss: 0.2885 - accuracy: 0.9473 - val_loss: 1.0708 - val_accuracy: 0.7494\n",
      "Epoch 13/30\n",
      "50/50 [==============================] - 1s 16ms/step - loss: 0.2818 - accuracy: 0.9479 - val_loss: 1.0630 - val_accuracy: 0.7243\n",
      "Epoch 14/30\n",
      "50/50 [==============================] - 1s 16ms/step - loss: 0.2643 - accuracy: 0.9548 - val_loss: 1.0012 - val_accuracy: 0.7419\n",
      "Epoch 15/30\n",
      "50/50 [==============================] - 1s 17ms/step - loss: 0.2521 - accuracy: 0.9592 - val_loss: 0.9787 - val_accuracy: 0.7393\n",
      "Epoch 16/30\n",
      "50/50 [==============================] - 1s 17ms/step - loss: 0.2484 - accuracy: 0.9586 - val_loss: 1.1943 - val_accuracy: 0.7243\n",
      "Epoch 17/30\n",
      "50/50 [==============================] - 1s 17ms/step - loss: 0.3483 - accuracy: 0.8807 - val_loss: 0.8230 - val_accuracy: 0.7243\n",
      "Epoch 18/30\n",
      "50/50 [==============================] - 1s 19ms/step - loss: 0.2588 - accuracy: 0.9473 - val_loss: 0.7794 - val_accuracy: 0.7368\n",
      "Epoch 19/30\n",
      "50/50 [==============================] - 1s 18ms/step - loss: 0.2335 - accuracy: 0.9623 - val_loss: 0.8864 - val_accuracy: 0.7419\n",
      "Epoch 20/30\n",
      "50/50 [==============================] - 1s 18ms/step - loss: 0.2180 - accuracy: 0.9655 - val_loss: 1.0267 - val_accuracy: 0.7469\n",
      "Epoch 21/30\n",
      "50/50 [==============================] - 1s 18ms/step - loss: 0.2113 - accuracy: 0.9667 - val_loss: 0.9866 - val_accuracy: 0.7419\n",
      "Epoch 22/30\n",
      "50/50 [==============================] - 1s 18ms/step - loss: 0.2034 - accuracy: 0.9674 - val_loss: 1.0955 - val_accuracy: 0.7293\n",
      "Epoch 23/30\n",
      "50/50 [==============================] - 1s 18ms/step - loss: 0.1968 - accuracy: 0.9692 - val_loss: 1.1184 - val_accuracy: 0.7268\n",
      "Epoch 24/30\n",
      "50/50 [==============================] - 1s 18ms/step - loss: 0.1912 - accuracy: 0.9699 - val_loss: 1.1556 - val_accuracy: 0.7368\n",
      "Epoch 25/30\n",
      "50/50 [==============================] - 1s 19ms/step - loss: 0.1867 - accuracy: 0.9699 - val_loss: 1.1552 - val_accuracy: 0.7368\n",
      "Epoch 26/30\n",
      "50/50 [==============================] - 1s 18ms/step - loss: 0.1828 - accuracy: 0.9699 - val_loss: 1.2132 - val_accuracy: 0.7393\n",
      "Epoch 27/30\n",
      "50/50 [==============================] - 1s 19ms/step - loss: 0.1795 - accuracy: 0.9699 - val_loss: 1.2391 - val_accuracy: 0.7343\n",
      "Epoch 28/30\n",
      "50/50 [==============================] - 1s 19ms/step - loss: 0.1756 - accuracy: 0.9699 - val_loss: 1.2301 - val_accuracy: 0.7368\n",
      "Epoch 29/30\n",
      "50/50 [==============================] - 1s 18ms/step - loss: 0.1722 - accuracy: 0.9699 - val_loss: 1.1736 - val_accuracy: 0.7268\n",
      "Epoch 30/30\n",
      "50/50 [==============================] - 1s 16ms/step - loss: 0.1685 - accuracy: 0.9705 - val_loss: 1.2673 - val_accuracy: 0.7343\n"
     ]
    },
    {
     "data": {
      "image/png": "[encoded data removed]",
      "text/plain": [
       "<Figure size 432x288 with 1 Axes>"
      ]
     },
     "metadata": {
      "needs_background": "light"
     },
     "output_type": "display_data"
    },
    {
     "data": {
      "image/png": "[encoded data removed]",
      "text/plain": [
       "<Figure size 432x288 with 1 Axes>"
      ]
     },
     "metadata": {
      "needs_background": "light"
     },
     "output_type": "display_data"
    },
    {
     "name": "stdout",
     "output_type": "stream",
     "text": [
      "[  4 281  16  25   0   0   0   0   0   0   0   0   0   0   0   0   0   0\n",
      "   0   0   0   0   0   0   0   0   0   0   0   0   0   0   0   0   0   0\n",
      "   0   0   0   0   0   0   0   0   0   0   0   0   0   0]\n",
      "I love this phone\n",
      "[0.99972785]\n",
      "\n",
      "\n",
      "[812 227 864 100 775   9 525 843   0   0   0   0   0   0   0   0   0   0\n",
      "   0   0   0   0   0   0   0   0   0   0   0   0   0   0   0   0   0   0\n",
      "   0   0   0   0   0   0   0   0   0   0   0   0   0   0]\n",
      "Everything was cold\n",
      "[0.2254898]\n",
      "\n",
      "\n",
      "[812 227 864 100 775   9 109   8 333 731  24  61   4 171  59  77   0   0\n",
      "   0   0   0   0   0   0   0   0   0   0   0   0   0   0   0   0   0   0\n",
      "   0   0   0   0   0   0   0   0   0   0   0   0   0   0]\n",
      "Everything was hot exactly as I wanted\n",
      "[0.2254898]\n",
      "\n",
      "\n",
      "[812 227 864 100 775   9 157 359 853   0   0   0   0   0   0   0   0   0\n",
      "   0   0   0   0   0   0   0   0   0   0   0   0   0   0   0   0   0   0\n",
      "   0   0   0   0   0   0   0   0   0   0   0   0   0   0]\n",
      "Everything was green\n",
      "[0.2254898]\n",
      "\n",
      "\n",
      "[  1 109 228 540 237 635 241 423 340  89 298   0   0   0   0   0   0   0\n",
      "   0   0   0   0   0   0   0   0   0   0   0   0   0   0   0   0   0   0\n",
      "   0   0   0   0   0   0   0   0   0   0   0   0   0   0]\n",
      "the host seated us immediately\n",
      "[0.2254898]\n",
      "\n",
      "\n",
      "[154 242  47 635 341  12 569 547 147 319 775 125  85   0   0   0   0   0\n",
      "   0   0   0   0   0   0   0   0   0   0   0   0   0   0   0   0   0   0\n",
      "   0   0   0   0   0   0   0   0   0   0   0   0   0   0]\n",
      "they gave us free chocolate cake\n",
      "[0.9997638]\n",
      "\n",
      "\n",
      "[158 190 853 782   8 607 775 210 232 146 775 470  67 305 101  15   1 328\n",
      " 296  26  19   1 661 641 195   0   0   0   0   0   0   0   0   0   0   0\n",
      "   0   0   0   0   0   0   0   0   0   0   0   0   0   0]\n",
      "we couldn't hear each other talk because of the shouting in the kitchen\n",
      "[0.2254898]\n",
      "\n",
      "\n"
     ]
    }
   ],
   "source": [
    "# Define the model\n",
    "model_bidi_lstm = tf.keras.Sequential([\n",
    "    tf.keras.layers.Embedding(vocab_size, embedding_dim, input_length=max_length),\n",
    "    tf.keras.layers.Bidirectional(tf.keras.layers.LSTM(embedding_dim)), \n",
    "    tf.keras.layers.Dense(6, activation='relu'), \n",
    "    tf.keras.layers.Dense(1, activation='sigmoid')\n",
    "])\n",
    "\n",
    "# Compile and train the model and then show the predictions for our extra sentences\n",
    "fit_model_and_show_results(model_bidi_lstm, fake_reviews)\n"
   ]
  },
  {
   "cell_type": "markdown",
   "metadata": {},
   "source": [
    "# Use multiple bidirectional layers\n",
    "\n",
    "Now let's see if we get any improvements from adding another Bidirectional LSTM layer to the model.\n",
    "\n",
    "Notice that the first Bidirectionl LSTM layer returns a sequence."
   ]
  },
  {
   "cell_type": "code",
   "execution_count": 18,
   "metadata": {},
   "outputs": [
    {
     "name": "stdout",
     "output_type": "stream",
     "text": [
      "Model: \"sequential_2\"\n",
      "_________________________________________________________________\n",
      "Layer (type)                 Output Shape              Param #   \n",
      "=================================================================\n",
      "embedding_2 (Embedding)      (None, 50, 16)            16000     \n",
      "_________________________________________________________________\n",
      "bidirectional_1 (Bidirection (None, 50, 32)            4224      \n",
      "_________________________________________________________________\n",
      "bidirectional_2 (Bidirection (None, 32)                6272      \n",
      "_________________________________________________________________\n",
      "dense_4 (Dense)              (None, 6)                 198       \n",
      "_________________________________________________________________\n",
      "dense_5 (Dense)              (None, 1)                 7         \n",
      "=================================================================\n",
      "Total params: 26,701\n",
      "Trainable params: 26,701\n",
      "Non-trainable params: 0\n",
      "_________________________________________________________________\n",
      "Epoch 1/30\n",
      "50/50 [==============================] - 2s 47ms/step - loss: 0.6909 - accuracy: 0.5223 - val_loss: 0.6934 - val_accuracy: 0.4110\n",
      "Epoch 2/30\n",
      "50/50 [==============================] - 1s 29ms/step - loss: 0.6268 - accuracy: 0.6328 - val_loss: 0.6521 - val_accuracy: 0.7268\n",
      "Epoch 3/30\n",
      "50/50 [==============================] - 1s 29ms/step - loss: 0.4691 - accuracy: 0.8274 - val_loss: 0.5717 - val_accuracy: 0.7444\n",
      "Epoch 4/30\n",
      "50/50 [==============================] - 1s 29ms/step - loss: 0.3194 - accuracy: 0.8726 - val_loss: 0.5912 - val_accuracy: 0.7343\n",
      "Epoch 5/30\n",
      "50/50 [==============================] - 1s 30ms/step - loss: 0.2516 - accuracy: 0.9096 - val_loss: 0.5676 - val_accuracy: 0.7694\n",
      "Epoch 6/30\n",
      "50/50 [==============================] - 2s 31ms/step - loss: 0.1968 - accuracy: 0.9372 - val_loss: 0.7291 - val_accuracy: 0.7594\n",
      "Epoch 7/30\n",
      "50/50 [==============================] - 1s 30ms/step - loss: 0.1540 - accuracy: 0.9473 - val_loss: 1.0000 - val_accuracy: 0.7243\n",
      "Epoch 8/30\n",
      "50/50 [==============================] - 1s 29ms/step - loss: 0.1352 - accuracy: 0.9586 - val_loss: 0.8857 - val_accuracy: 0.7419\n",
      "Epoch 9/30\n",
      "50/50 [==============================] - 1s 30ms/step - loss: 0.1202 - accuracy: 0.9636 - val_loss: 1.0820 - val_accuracy: 0.7318\n",
      "Epoch 10/30\n",
      "50/50 [==============================] - 1s 29ms/step - loss: 0.1316 - accuracy: 0.9611 - val_loss: 1.1156 - val_accuracy: 0.7494\n",
      "Epoch 11/30\n",
      "50/50 [==============================] - 1s 29ms/step - loss: 0.0997 - accuracy: 0.9749 - val_loss: 0.9712 - val_accuracy: 0.7594\n",
      "Epoch 12/30\n",
      "50/50 [==============================] - 1s 30ms/step - loss: 0.0767 - accuracy: 0.9837 - val_loss: 1.1805 - val_accuracy: 0.7444\n",
      "Epoch 13/30\n",
      "50/50 [==============================] - 2s 30ms/step - loss: 0.0766 - accuracy: 0.9812 - val_loss: 1.1073 - val_accuracy: 0.7594\n",
      "Epoch 14/30\n",
      "50/50 [==============================] - 2s 32ms/step - loss: 0.0691 - accuracy: 0.9849 - val_loss: 1.2508 - val_accuracy: 0.7619\n",
      "Epoch 15/30\n",
      "50/50 [==============================] - 2s 31ms/step - loss: 0.0677 - accuracy: 0.9856 - val_loss: 1.4530 - val_accuracy: 0.7393\n",
      "Epoch 16/30\n",
      "50/50 [==============================] - 2s 30ms/step - loss: 0.0685 - accuracy: 0.9843 - val_loss: 1.4745 - val_accuracy: 0.7343\n",
      "Epoch 17/30\n",
      "50/50 [==============================] - 2s 30ms/step - loss: 0.0648 - accuracy: 0.9862 - val_loss: 1.4615 - val_accuracy: 0.7494\n",
      "Epoch 18/30\n",
      "50/50 [==============================] - 2s 32ms/step - loss: 0.0635 - accuracy: 0.9862 - val_loss: 1.4053 - val_accuracy: 0.7519\n",
      "Epoch 19/30\n",
      "50/50 [==============================] - 2s 30ms/step - loss: 0.0633 - accuracy: 0.9862 - val_loss: 1.4550 - val_accuracy: 0.7519\n",
      "Epoch 20/30\n",
      "50/50 [==============================] - 2s 31ms/step - loss: 0.0631 - accuracy: 0.9862 - val_loss: 1.4477 - val_accuracy: 0.7519\n",
      "Epoch 21/30\n",
      "50/50 [==============================] - 2s 31ms/step - loss: 0.0630 - accuracy: 0.9862 - val_loss: 1.4584 - val_accuracy: 0.7519\n",
      "Epoch 22/30\n",
      "50/50 [==============================] - 2s 32ms/step - loss: 0.0629 - accuracy: 0.9862 - val_loss: 1.4787 - val_accuracy: 0.7494\n",
      "Epoch 23/30\n",
      "50/50 [==============================] - 2s 33ms/step - loss: 0.0636 - accuracy: 0.9862 - val_loss: 1.4823 - val_accuracy: 0.7519\n",
      "Epoch 24/30\n",
      "50/50 [==============================] - 2s 38ms/step - loss: 0.0626 - accuracy: 0.9862 - val_loss: 1.4863 - val_accuracy: 0.7494\n",
      "Epoch 25/30\n",
      "50/50 [==============================] - 2s 33ms/step - loss: 0.0625 - accuracy: 0.9862 - val_loss: 1.4151 - val_accuracy: 0.7519\n",
      "Epoch 26/30\n",
      "50/50 [==============================] - 2s 35ms/step - loss: 0.0645 - accuracy: 0.9856 - val_loss: 1.4948 - val_accuracy: 0.7444\n",
      "Epoch 27/30\n",
      "50/50 [==============================] - 2s 38ms/step - loss: 0.0692 - accuracy: 0.9849 - val_loss: 1.3422 - val_accuracy: 0.7494\n",
      "Epoch 28/30\n",
      "50/50 [==============================] - 2s 36ms/step - loss: 0.0624 - accuracy: 0.9862 - val_loss: 1.3652 - val_accuracy: 0.7519\n",
      "Epoch 29/30\n",
      "50/50 [==============================] - 2s 37ms/step - loss: 0.0619 - accuracy: 0.9862 - val_loss: 1.4083 - val_accuracy: 0.7444\n",
      "Epoch 30/30\n",
      "50/50 [==============================] - 2s 45ms/step - loss: 0.0614 - accuracy: 0.9862 - val_loss: 1.4325 - val_accuracy: 0.7444\n"
     ]
    },
    {
     "data": {
      "image/png": "[encoded data removed]",
      "text/plain": [
       "<Figure size 432x288 with 1 Axes>"
      ]
     },
     "metadata": {
      "needs_background": "light"
     },
     "output_type": "display_data"
    },
    {
     "data": {
      "image/png": "[encoded data removed]",
      "text/plain": [
       "<Figure size 432x288 with 1 Axes>"
      ]
     },
     "metadata": {
      "needs_background": "light"
     },
     "output_type": "display_data"
    },
    {
     "name": "stdout",
     "output_type": "stream",
     "text": [
      "[  4 281  16  25   0   0   0   0   0   0   0   0   0   0   0   0   0   0\n",
      "   0   0   0   0   0   0   0   0   0   0   0   0   0   0   0   0   0   0\n",
      "   0   0   0   0   0   0   0   0   0   0   0   0   0   0]\n",
      "I love this phone\n",
      "[0.9999467]\n",
      "\n",
      "\n",
      "[812 227 864 100 775   9 525 843   0   0   0   0   0   0   0   0   0   0\n",
      "   0   0   0   0   0   0   0   0   0   0   0   0   0   0   0   0   0   0\n",
      "   0   0   0   0   0   0   0   0   0   0   0   0   0   0]\n",
      "Everything was cold\n",
      "[0.0285677]\n",
      "\n",
      "\n",
      "[812 227 864 100 775   9 109   8 333 731  24  61   4 171  59  77   0   0\n",
      "   0   0   0   0   0   0   0   0   0   0   0   0   0   0   0   0   0   0\n",
      "   0   0   0   0   0   0   0   0   0   0   0   0   0   0]\n",
      "Everything was hot exactly as I wanted\n",
      "[0.64046556]\n",
      "\n",
      "\n",
      "[812 227 864 100 775   9 157 359 853   0   0   0   0   0   0   0   0   0\n",
      "   0   0   0   0   0   0   0   0   0   0   0   0   0   0   0   0   0   0\n",
      "   0   0   0   0   0   0   0   0   0   0   0   0   0   0]\n",
      "Everything was green\n",
      "[0.0281575]\n",
      "\n",
      "\n",
      "[  1 109 228 540 237 635 241 423 340  89 298   0   0   0   0   0   0   0\n",
      "   0   0   0   0   0   0   0   0   0   0   0   0   0   0   0   0   0   0\n",
      "   0   0   0   0   0   0   0   0   0   0   0   0   0   0]\n",
      "the host seated us immediately\n",
      "[0.03116393]\n",
      "\n",
      "\n",
      "[154 242  47 635 341  12 569 547 147 319 775 125  85   0   0   0   0   0\n",
      "   0   0   0   0   0   0   0   0   0   0   0   0   0   0   0   0   0   0\n",
      "   0   0   0   0   0   0   0   0   0   0   0   0   0   0]\n",
      "they gave us free chocolate cake\n",
      "[0.99993885]\n",
      "\n",
      "\n",
      "[158 190 853 782   8 607 775 210 232 146 775 470  67 305 101  15   1 328\n",
      " 296  26  19   1 661 641 195   0   0   0   0   0   0   0   0   0   0   0\n",
      "   0   0   0   0   0   0   0   0   0   0   0   0   0   0]\n",
      "we couldn't hear each other talk because of the shouting in the kitchen\n",
      "[0.0303213]\n",
      "\n",
      "\n"
     ]
    }
   ],
   "source": [
    "model_multiple_bidi_lstm = tf.keras.Sequential([\n",
    "    tf.keras.layers.Embedding(vocab_size, embedding_dim, input_length=max_length),\n",
    "    tf.keras.layers.Bidirectional(tf.keras.layers.LSTM(embedding_dim, \n",
    "                                                       return_sequences=True)), \n",
    "    tf.keras.layers.Bidirectional(tf.keras.layers.LSTM(embedding_dim)),\n",
    "    tf.keras.layers.Dense(6, activation='relu'),\n",
    "    tf.keras.layers.Dense(1, activation='sigmoid')\n",
    "])\n",
    "\n",
    "fit_model_and_show_results(model_multiple_bidi_lstm, fake_reviews)"
   ]
  },
  {
   "cell_type": "markdown",
   "metadata": {},
   "source": [
    "# Compare predictions for all the models\n",
    "\n",
    "It can be hard to see which model gives a better prediction for different reviews when you examine each model separately. So for comparison purposes, here we define some more reviews and print out the predictions that each of the three models gives for each review:\n",
    "\n",
    "*   Embeddings and a Global Average Pooling layer\n",
    "*   Embeddings and a Bidirectional LSTM layer\n",
    "*   Embeddings and two Bidirectional LSTM layers\n",
    "\n",
    "The results are not always what you might expect. The input dataset is fairly small, it has less than 2000 reviews. Some of the reviews are fairly short, and some of the short ones are fairly repetitive which reduces their impact on improving the  model, such as these two reviews:\n",
    "\n",
    "*   Bad Quality.\n",
    "*   Low Quality.\n",
    "\n",
    "Feel free to add more reviews of your own, or change the reviews. The results will depend on the combination of words in the reviews, and how well they match to reviews in the training set. \n",
    "\n",
    "How do the different models handle things like \"wasn't good\" which contains a positive word (good) but is a poor review?"
   ]
  },
  {
   "cell_type": "code",
   "execution_count": 19,
   "metadata": {},
   "outputs": [],
   "source": [
    "my_reviews =[\"lovely\", \"dreadful\", \"stay away\",\n",
    "             \"everything was hot exactly as I wanted\",\n",
    "             \"everything was not exactly as I wanted\",\n",
    "             \"they gave us free chocolate cake\",\n",
    "             \"I've never eaten anything so spicy in my life, my throat burned for hours\",\n",
    "             \"for a phone that is as expensive as this one I expect it to be much easier to use than this thing is\",\n",
    "             \"we left there very full for a low price so I'd say you just can't go wrong at this place\",\n",
    "             \"that place does not have quality meals and it isn't a good place to go for dinner\",\n",
    "             ]"
   ]
  },
  {
   "cell_type": "code",
   "execution_count": 20,
   "metadata": {},
   "outputs": [
    {
     "name": "stdout",
     "output_type": "stream",
     "text": [
      "===================================\n",
      " Embeddings only:\n",
      " ===================================\n",
      "lovely\n",
      "[0.9147998]\n",
      "\n",
      "\n",
      "dreadful\n",
      "[0.31774384]\n",
      "\n",
      "\n",
      "stay away\n",
      "[0.62516487]\n",
      "\n",
      "\n",
      "everything was hot exactly as I wanted\n",
      "[0.7597225]\n",
      "\n",
      "\n",
      "everything was not exactly as I wanted\n",
      "[0.5269482]\n",
      "\n",
      "\n",
      "they gave us free chocolate cake\n",
      "[0.71283203]\n",
      "\n",
      "\n",
      "I've never eaten anything so spicy in my life, my throat burned for hours\n",
      "[0.01894915]\n",
      "\n",
      "\n",
      "for a phone that is as expensive as this one I expect it to be much easier to use than this thing is\n",
      "[0.58098054]\n",
      "\n",
      "\n",
      "we left there very full for a low price so I'd say you just can't go wrong at this place\n",
      "[0.78596795]\n",
      "\n",
      "\n",
      "that place does not have quality meals and it isn't a good place to go for dinner\n",
      "[0.8704123]\n",
      "\n",
      "\n"
     ]
    }
   ],
   "source": [
    "print(\"===================================\\n\",\"Embeddings only:\\n\", \"===================================\",)\n",
    "predict_review(model, my_reviews, show_padded_sequence=False)"
   ]
  },
  {
   "cell_type": "code",
   "execution_count": 21,
   "metadata": {},
   "outputs": [
    {
     "name": "stdout",
     "output_type": "stream",
     "text": [
      "===================================\n",
      " With a single bidirectional LSTM:\n",
      " ===================================\n",
      "lovely\n",
      "[0.999338]\n",
      "\n",
      "\n",
      "dreadful\n",
      "[0.2254898]\n",
      "\n",
      "\n",
      "stay away\n",
      "[0.47642514]\n",
      "\n",
      "\n",
      "everything was hot exactly as I wanted\n",
      "[0.86703384]\n",
      "\n",
      "\n",
      "everything was not exactly as I wanted\n",
      "[0.2254898]\n",
      "\n",
      "\n",
      "they gave us free chocolate cake\n",
      "[0.9997638]\n",
      "\n",
      "\n",
      "I've never eaten anything so spicy in my life, my throat burned for hours\n",
      "[0.2254898]\n",
      "\n",
      "\n",
      "for a phone that is as expensive as this one I expect it to be much easier to use than this thing is\n",
      "[0.2254898]\n",
      "\n",
      "\n",
      "we left there very full for a low price so I'd say you just can't go wrong at this place\n",
      "[0.99952126]\n",
      "\n",
      "\n",
      "that place does not have quality meals and it isn't a good place to go for dinner\n",
      "[0.8030454]\n",
      "\n",
      "\n"
     ]
    }
   ],
   "source": [
    "print(\"===================================\\n\", \"With a single bidirectional LSTM:\\n\", \"===================================\")\n",
    "predict_review(model_bidi_lstm, my_reviews, show_padded_sequence=False)"
   ]
  },
  {
   "cell_type": "code",
   "execution_count": 22,
   "metadata": {},
   "outputs": [
    {
     "name": "stdout",
     "output_type": "stream",
     "text": [
      "===================================\n",
      " With two bidirectional LSTMs:\n",
      " ===================================\n",
      "lovely\n",
      "[0.9999461]\n",
      "\n",
      "\n",
      "dreadful\n",
      "[0.02187857]\n",
      "\n",
      "\n",
      "stay away\n",
      "[0.02281818]\n",
      "\n",
      "\n",
      "everything was hot exactly as I wanted\n",
      "[0.9997915]\n",
      "\n",
      "\n",
      "everything was not exactly as I wanted\n",
      "[0.10762858]\n",
      "\n",
      "\n",
      "they gave us free chocolate cake\n",
      "[0.99993885]\n",
      "\n",
      "\n",
      "I've never eaten anything so spicy in my life, my throat burned for hours\n",
      "[0.02188313]\n",
      "\n",
      "\n",
      "for a phone that is as expensive as this one I expect it to be much easier to use than this thing is\n",
      "[0.02271593]\n",
      "\n",
      "\n",
      "we left there very full for a low price so I'd say you just can't go wrong at this place\n",
      "[0.02190715]\n",
      "\n",
      "\n",
      "that place does not have quality meals and it isn't a good place to go for dinner\n",
      "[0.02470011]\n",
      "\n",
      "\n"
     ]
    }
   ],
   "source": [
    "print(\"===================================\\n\",\"With two bidirectional LSTMs:\\n\", \"===================================\")\n",
    "predict_review(model_multiple_bidi_lstm, my_reviews, show_padded_sequence=False)"
   ]
  },
  {
   "cell_type": "code",
   "execution_count": null,
   "metadata": {},
   "outputs": [],
   "source": []
  }
 ],
 "metadata": {
  "kernelspec": {
   "display_name": "Python 3",
   "language": "python",
   "name": "python3"
  },
  "language_info": {
   "codemirror_mode": {
    "name": "ipython",
    "version": 3
   },
   "file_extension": ".py",
   "mimetype": "text/x-python",
   "name": "python",
   "nbconvert_exporter": "python",
   "pygments_lexer": "ipython3",
   "version": "3.8.3"
  }
 },
 "nbformat": 4,
 "nbformat_minor": 4
}
